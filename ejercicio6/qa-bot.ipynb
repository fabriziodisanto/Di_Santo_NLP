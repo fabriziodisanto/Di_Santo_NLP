{
 "cells": [
  {
   "cell_type": "markdown",
   "source": [
    "# Imports"
   ],
   "metadata": {
    "collapsed": false
   }
  },
  {
   "cell_type": "code",
   "execution_count": 1050,
   "metadata": {
    "collapsed": true,
    "ExecuteTime": {
     "end_time": "2023-08-17T06:14:03.478474100Z",
     "start_time": "2023-08-17T06:14:01.372282700Z"
    }
   },
   "outputs": [
    {
     "name": "stderr",
     "output_type": "stream",
     "text": [
      "\n",
      "[notice] A new release of pip is available: 23.1.2 -> 23.2.1\n",
      "[notice] To update, run: python.exe -m pip install --upgrade pip\n"
     ]
    }
   ],
   "source": [
    "!pip install --upgrade --no-cache-dir gdown --quiet"
   ]
  },
  {
   "cell_type": "code",
   "execution_count": 1051,
   "outputs": [],
   "source": [
    "import re\n",
    "import gdown\n",
    "import json\n",
    "import os\n",
    "import logging\n",
    "import pickle\n",
    "from pathlib import Path\n",
    "\n",
    "import numpy as np\n",
    "\n",
    "from tensorflow.keras.utils import pad_sequences\n",
    "from keras.models import Model\n",
    "from keras.layers import Embedding, Input, LSTM, Dense\n",
    "from keras.preprocessing.text import Tokenizer\n",
    "from keras.utils import to_categorical\n",
    "\n",
    "import matplotlib.pyplot as plt\n",
    "import seaborn as sns\n"
   ],
   "metadata": {
    "collapsed": false,
    "ExecuteTime": {
     "end_time": "2023-08-17T06:14:03.487796600Z",
     "start_time": "2023-08-17T06:14:03.482474200Z"
    }
   }
  },
  {
   "cell_type": "markdown",
   "source": [
    "# Downloading dataset"
   ],
   "metadata": {
    "collapsed": false
   }
  },
  {
   "cell_type": "code",
   "execution_count": 1052,
   "outputs": [
    {
     "name": "stdout",
     "output_type": "stream",
     "text": [
      "Dataset was already downloaded.\n"
     ]
    }
   ],
   "source": [
    "if os.access('data_volunteers.json', os.F_OK) is False:\n",
    "    url = 'https://drive.google.com/uc?id=1awUxYwImF84MIT5-jCaYAPe2QwSgS1hN&export=download'\n",
    "    output = 'data_volunteers.json'\n",
    "    gdown.download(url, output, quiet=False)\n",
    "else:\n",
    "    print(\"Dataset was already downloaded.\")"
   ],
   "metadata": {
    "collapsed": false,
    "ExecuteTime": {
     "end_time": "2023-08-17T06:14:03.495351600Z",
     "start_time": "2023-08-17T06:14:03.484247800Z"
    }
   }
  },
  {
   "cell_type": "markdown",
   "source": [
    "# Constants"
   ],
   "metadata": {
    "collapsed": false
   }
  },
  {
   "cell_type": "code",
   "execution_count": 1053,
   "outputs": [],
   "source": [
    "MAX_VOCAB_SIZE = 8000\n",
    "MAX_LENGTH = 20\n",
    "N_UNITS = 128\n",
    "EPOCHS = 30\n",
    "LSTM_DROPOUT = 0.2"
   ],
   "metadata": {
    "collapsed": false,
    "ExecuteTime": {
     "end_time": "2023-08-17T06:14:03.495351600Z",
     "start_time": "2023-08-17T06:14:03.491847300Z"
    }
   }
  },
  {
   "cell_type": "markdown",
   "source": [
    "# Preprocessing dataset"
   ],
   "metadata": {
    "collapsed": false
   }
  },
  {
   "cell_type": "code",
   "execution_count": 1054,
   "outputs": [],
   "source": [
    "text_file = \"data_volunteers.json\"\n",
    "with open(text_file) as f:\n",
    "    data = json.load(f)"
   ],
   "metadata": {
    "collapsed": false,
    "ExecuteTime": {
     "end_time": "2023-08-17T06:14:03.546651Z",
     "start_time": "2023-08-17T06:14:03.497352200Z"
    }
   }
  },
  {
   "cell_type": "code",
   "execution_count": 1055,
   "outputs": [
    {
     "data": {
      "text/plain": "dict_keys(['dialog', 'start_time', 'end_time', 'bot_profile', 'user_profile', 'eval_score', 'profile_match', 'participant1_id', 'participant2_id'])"
     },
     "execution_count": 1055,
     "metadata": {},
     "output_type": "execute_result"
    }
   ],
   "source": [
    "data[0].keys()"
   ],
   "metadata": {
    "collapsed": false,
    "ExecuteTime": {
     "end_time": "2023-08-17T06:14:03.556653100Z",
     "start_time": "2023-08-17T06:14:03.521258600Z"
    }
   }
  },
  {
   "cell_type": "code",
   "execution_count": 1056,
   "outputs": [
    {
     "name": "stdout",
     "output_type": "stream",
     "text": [
      "Total rows: 1903\n"
     ]
    }
   ],
   "source": [
    "chat_in = []\n",
    "chat_out = []\n",
    "\n",
    "input_sentences = []\n",
    "output_sentences = []\n",
    "output_sentences_inputs = []\n",
    "\n",
    "\n",
    "def clean_text(txt):\n",
    "    txt = txt.lower()\n",
    "    txt.replace(\"\\'d\", \" had\")\n",
    "    txt.replace(\"\\'s\", \" is\")\n",
    "    txt.replace(\"\\'m\", \" am\")\n",
    "    txt.replace(\"don't\", \"do not\")\n",
    "    txt = re.sub(r'\\W+', ' ', txt)\n",
    "\n",
    "    return txt\n",
    "\n",
    "\n",
    "for line in data:\n",
    "    for i in range(len(line['dialog']) - 1):\n",
    "        # chat_in = questions\n",
    "        # chat_out = answers\n",
    "        chat_in = clean_text(line['dialog'][i]['text'])\n",
    "        chat_out = clean_text(line['dialog'][i + 1]['text'])\n",
    "\n",
    "        if len(chat_in) >= MAX_LENGTH or len(chat_out) >= MAX_LENGTH:\n",
    "            continue\n",
    "\n",
    "        input_sentence, output = chat_in, chat_out\n",
    "\n",
    "        output_sentence = output + ' <eos>'\n",
    "        output_sentence_input = '<sos> ' + output\n",
    "\n",
    "        input_sentences.append(input_sentence)\n",
    "        output_sentences.append(output_sentence)\n",
    "        output_sentences_inputs.append(output_sentence_input)\n",
    "\n",
    "\n",
    "print(\"Total rows:\", len(input_sentences))"
   ],
   "metadata": {
    "collapsed": false,
    "ExecuteTime": {
     "end_time": "2023-08-17T06:14:03.640138300Z",
     "start_time": "2023-08-17T06:14:03.525646400Z"
    }
   }
  },
  {
   "cell_type": "code",
   "execution_count": 1057,
   "outputs": [
    {
     "data": {
      "text/plain": "('hi how are you ', 'not bad and you  <eos>', '<sos> not bad and you ')"
     },
     "execution_count": 1057,
     "metadata": {},
     "output_type": "execute_result"
    }
   ],
   "source": [
    "input_sentences[1], output_sentences[1], output_sentences_inputs[1]"
   ],
   "metadata": {
    "collapsed": false,
    "ExecuteTime": {
     "end_time": "2023-08-17T06:14:03.646542500Z",
     "start_time": "2023-08-17T06:14:03.640138300Z"
    }
   }
  },
  {
   "cell_type": "markdown",
   "source": [
    "# Getting word2idx_inputs and max_input_len"
   ],
   "metadata": {
    "collapsed": false
   }
  },
  {
   "cell_type": "code",
   "execution_count": 1058,
   "outputs": [
    {
     "name": "stdout",
     "output_type": "stream",
     "text": [
      "Total tokens in input vocab: 752\n",
      "Longest input sentence: 7\n"
     ]
    }
   ],
   "source": [
    "input_tokenizer = Tokenizer(num_words=MAX_VOCAB_SIZE)\n",
    "input_tokenizer.fit_on_texts(input_sentences)\n",
    "input_integer_seq = input_tokenizer.texts_to_sequences(input_sentences)\n",
    "\n",
    "word2idx_inputs = input_tokenizer.word_index\n",
    "print(\"Total tokens in input vocab:\", len(word2idx_inputs))\n",
    "\n",
    "max_input_len = max(len(sen) for sen in input_integer_seq)\n",
    "print(\"Longest input sentence:\", max_input_len)"
   ],
   "metadata": {
    "collapsed": false,
    "ExecuteTime": {
     "end_time": "2023-08-17T06:14:03.709257200Z",
     "start_time": "2023-08-17T06:14:03.646542500Z"
    }
   }
  },
  {
   "cell_type": "markdown",
   "source": [
    "# Getting word2idx_outputs, max_out_len and num_words_output"
   ],
   "metadata": {
    "collapsed": false
   }
  },
  {
   "cell_type": "code",
   "execution_count": 1059,
   "outputs": [
    {
     "name": "stdout",
     "output_type": "stream",
     "text": [
      "Total tokens in output vocab: 714\n",
      "Total tokens in output: 715\n",
      "Longest output sentence: 7\n"
     ]
    }
   ],
   "source": [
    "output_tokenizer = Tokenizer(num_words=MAX_VOCAB_SIZE, filters='!\"#$%&()*+,-./:;=¿?@[\\\\]^_`{|}~\\t\\n')\n",
    "output_tokenizer.fit_on_texts([\"<sos>\", \"<eos>\"] + output_sentences)\n",
    "output_integer_seq = output_tokenizer.texts_to_sequences(output_sentences)\n",
    "output_input_integer_seq = output_tokenizer.texts_to_sequences(output_sentences_inputs)\n",
    "\n",
    "word2idx_outputs = output_tokenizer.word_index\n",
    "print(\"Total tokens in output vocab:\", len(word2idx_outputs))\n",
    "\n",
    "num_words_output = min(len(word2idx_outputs) + 1, MAX_VOCAB_SIZE)\n",
    "print(\"Total tokens in output:\", num_words_output)\n",
    "\n",
    "max_out_len = max(len(sen) for sen in output_integer_seq)\n",
    "print(\"Longest output sentence:\", max_out_len)"
   ],
   "metadata": {
    "collapsed": false,
    "ExecuteTime": {
     "end_time": "2023-08-17T06:14:03.773826100Z",
     "start_time": "2023-08-17T06:14:03.687252300Z"
    }
   }
  },
  {
   "cell_type": "markdown",
   "source": [
    "# Getting encoder_input_sequences, decoder_output_sequences and decoder_targets"
   ],
   "metadata": {
    "collapsed": false
   }
  },
  {
   "cell_type": "code",
   "execution_count": 1060,
   "outputs": [
    {
     "name": "stdout",
     "output_type": "stream",
     "text": [
      "encoder_input_sequences shape: (1903, 7)\n",
      "decoder_input_sequences shape: (1903, 7)\n",
      "decoder_output_sequences shape: (1903, 7)\n",
      "decoder_targets shape: (1903, 7, 715)\n"
     ]
    }
   ],
   "source": [
    "encoder_input_sequences = pad_sequences(input_integer_seq, maxlen=max_input_len)\n",
    "print(\"encoder_input_sequences shape:\", encoder_input_sequences.shape)\n",
    "\n",
    "decoder_input_sequences = pad_sequences(output_input_integer_seq, maxlen=max_out_len, padding='post')\n",
    "print(\"decoder_input_sequences shape:\", decoder_input_sequences.shape)\n",
    "\n",
    "decoder_output_sequences = pad_sequences(output_integer_seq, maxlen=max_out_len, padding='post')\n",
    "print(\"decoder_output_sequences shape:\", decoder_output_sequences.shape)\n",
    "\n",
    "decoder_targets = to_categorical(decoder_output_sequences, num_classes=num_words_output)\n",
    "print(\"decoder_targets shape:\", decoder_targets.shape)"
   ],
   "metadata": {
    "collapsed": false,
    "ExecuteTime": {
     "end_time": "2023-08-17T06:14:03.773826100Z",
     "start_time": "2023-08-17T06:14:03.768325700Z"
    }
   }
  },
  {
   "cell_type": "markdown",
   "source": [
    "# Donwloading fasttext embeddings"
   ],
   "metadata": {
    "collapsed": false
   }
  },
  {
   "cell_type": "code",
   "execution_count": 1061,
   "outputs": [
    {
     "name": "stdout",
     "output_type": "stream",
     "text": [
      "Dataset already downloaded\n"
     ]
    }
   ],
   "source": [
    "if os.access('fasttext.pkl', os.F_OK) is False:\n",
    "    url = 'https://drive.google.com/u/0/uc?id=1Qi1r-u5lsEsNqRSxLrpNOqQ3B_ufltCa&export=download&confirm=t'\n",
    "    output = 'fasttext.pkl'\n",
    "    gdown.download(url, output, quiet=False)\n",
    "else:\n",
    "    print(\"Dataset already downloaded\")"
   ],
   "metadata": {
    "collapsed": false,
    "ExecuteTime": {
     "end_time": "2023-08-17T06:14:03.773826100Z",
     "start_time": "2023-08-17T06:14:03.770321400Z"
    }
   }
  },
  {
   "cell_type": "code",
   "execution_count": 1062,
   "outputs": [],
   "source": [
    "class WordsEmbeddings(object):\n",
    "    logger = logging.getLogger(__name__)\n",
    "\n",
    "    def __init__(self):\n",
    "        # load the embeddings\n",
    "        words_embedding_pkl = Path(self.PKL_PATH)\n",
    "        if not words_embedding_pkl.is_file():\n",
    "            words_embedding_txt = Path(self.WORD_TO_VEC_MODEL_TXT_PATH)\n",
    "            assert words_embedding_txt.is_file(), 'Words embedding not available'\n",
    "            embeddings = self.convert_model_to_pickle()\n",
    "        else:\n",
    "            embeddings = self.load_model_from_pickle()\n",
    "        self.embeddings = embeddings\n",
    "        # build the vocabulary hashmap\n",
    "        index = np.arange(self.embeddings.shape[0])\n",
    "        # Dicts para traducir de embedding a IDX de la palabra\n",
    "        self.word2idx = dict(zip(self.embeddings['word'], index))\n",
    "        self.idx2word = dict(zip(index, self.embeddings['word']))\n",
    "\n",
    "    def get_words_embeddings(self, words):\n",
    "        words_idxs = self.words2idxs(words)\n",
    "        return self.embeddings[words_idxs]['embedding']\n",
    "\n",
    "    def words2idxs(self, words):\n",
    "        return np.array([self.word2idx.get(word, -1) for word in words])\n",
    "\n",
    "    def idxs2words(self, idxs):\n",
    "        return np.array([self.idx2word.get(idx, '-1') for idx in idxs])\n",
    "\n",
    "    def load_model_from_pickle(self):\n",
    "        self.logger.debug(\n",
    "            'loading words embeddings from pickle {}'.format(\n",
    "                self.PKL_PATH\n",
    "            )\n",
    "        )\n",
    "        max_bytes = 2 ** 28 - 1  # 256MB\n",
    "        bytes_in = bytearray(0)\n",
    "        input_size = os.path.getsize(self.PKL_PATH)\n",
    "        with open(self.PKL_PATH, 'rb') as f_in:\n",
    "            for _ in range(0, input_size, max_bytes):\n",
    "                bytes_in += f_in.read(max_bytes)\n",
    "        embeddings = pickle.loads(bytes_in)\n",
    "        self.logger.debug('words embeddings loaded')\n",
    "        return embeddings\n",
    "\n",
    "    def convert_model_to_pickle(self):\n",
    "        # create a numpy strctured array:\n",
    "        # word     embedding\n",
    "        # U50      np.float32[]\n",
    "        # word_1   a, b, c\n",
    "        # word_2   d, e, f\n",
    "        # ...\n",
    "        # word_n   g, h, i\n",
    "        self.logger.debug(\n",
    "            'converting and loading words embeddings from text file {}'.format(\n",
    "                self.WORD_TO_VEC_MODEL_TXT_PATH\n",
    "            )\n",
    "        )\n",
    "        structure = [('word', np.dtype('U' + str(self.WORD_MAX_SIZE))),\n",
    "                     ('embedding', np.float32, (self.N_FEATURES,))]\n",
    "        structure = np.dtype(structure)\n",
    "        # load numpy array from disk using a generator\n",
    "        with open(self.WORD_TO_VEC_MODEL_TXT_PATH, encoding=\"utf8\") as words_embeddings_txt:\n",
    "            embeddings_gen = (\n",
    "                (line.split()[0], line.split()[1:]) for line in words_embeddings_txt\n",
    "                if len(line.split()[1:]) == self.N_FEATURES\n",
    "            )\n",
    "            embeddings = np.fromiter(embeddings_gen, structure)\n",
    "        # add a null embedding\n",
    "        null_embedding = np.array(\n",
    "            [('null_embedding', np.zeros((self.N_FEATURES,), dtype=np.float32))],\n",
    "            dtype=structure\n",
    "        )\n",
    "        embeddings = np.concatenate([embeddings, null_embedding])\n",
    "        # dump numpy array to disk using pickle\n",
    "        max_bytes = 2 ** 28 - 1  # # 256MB\n",
    "        bytes_out = pickle.dumps(embeddings, protocol=pickle.HIGHEST_PROTOCOL)\n",
    "        with open(self.PKL_PATH, 'wb') as f_out:\n",
    "            for idx in range(0, len(bytes_out), max_bytes):\n",
    "                f_out.write(bytes_out[idx:idx + max_bytes])\n",
    "        self.logger.debug('words embeddings loaded')\n",
    "        return embeddings\n",
    "\n",
    "\n",
    "class FasttextEmbeddings(WordsEmbeddings):\n",
    "    WORD_TO_VEC_MODEL_TXT_PATH = 'cc.en.300.vec'\n",
    "    PKL_PATH = 'fasttext.pkl'\n",
    "    N_FEATURES = 300\n",
    "    WORD_MAX_SIZE = 60"
   ],
   "metadata": {
    "collapsed": false,
    "ExecuteTime": {
     "end_time": "2023-08-17T06:14:03.786199400Z",
     "start_time": "2023-08-17T06:14:03.783828500Z"
    }
   }
  },
  {
   "cell_type": "code",
   "execution_count": 1063,
   "outputs": [],
   "source": [
    "model_embeddings = FasttextEmbeddings()"
   ],
   "metadata": {
    "collapsed": false,
    "ExecuteTime": {
     "end_time": "2023-08-17T06:14:09.871428200Z",
     "start_time": "2023-08-17T06:14:03.790200200Z"
    }
   }
  },
  {
   "cell_type": "code",
   "execution_count": 1064,
   "outputs": [
    {
     "name": "stdout",
     "output_type": "stream",
     "text": [
      "preparing embedding matrix...\n",
      "number of null word embeddings: 1\n"
     ]
    }
   ],
   "source": [
    "print('preparing embedding matrix...')\n",
    "embed_dim = model_embeddings.N_FEATURES\n",
    "words_not_found = []\n",
    "\n",
    "nb_words = min(MAX_VOCAB_SIZE, len(word2idx_inputs) + 1)\n",
    "embedding_matrix = np.zeros((nb_words, embed_dim))\n",
    "for word, i in word2idx_inputs.items():\n",
    "    if i >= nb_words:\n",
    "        continue\n",
    "    embedding_vector = model_embeddings.get_words_embeddings(word)[0]\n",
    "    if (embedding_vector is not None) and len(embedding_vector) > 0:\n",
    "        embedding_matrix[i] = embedding_vector\n",
    "    else:\n",
    "        # words not found in embedding index will be all-zeros.\n",
    "        words_not_found.append(word)\n",
    "\n",
    "print('number of null word embeddings:', np.sum(np.sum(embedding_matrix ** 2, axis=1) == 0))"
   ],
   "metadata": {
    "collapsed": false,
    "ExecuteTime": {
     "end_time": "2023-08-17T06:14:09.884084600Z",
     "start_time": "2023-08-17T06:14:09.872429800Z"
    }
   }
  },
  {
   "cell_type": "code",
   "execution_count": 1065,
   "outputs": [
    {
     "data": {
      "text/plain": "(753, 300)"
     },
     "execution_count": 1065,
     "metadata": {},
     "output_type": "execute_result"
    }
   ],
   "source": [
    "embedding_matrix.shape"
   ],
   "metadata": {
    "collapsed": false,
    "ExecuteTime": {
     "end_time": "2023-08-17T06:14:09.889277700Z",
     "start_time": "2023-08-17T06:14:09.886085100Z"
    }
   }
  },
  {
   "cell_type": "markdown",
   "source": [
    "# Training model"
   ],
   "metadata": {
    "collapsed": false
   }
  },
  {
   "cell_type": "code",
   "execution_count": 1066,
   "outputs": [
    {
     "name": "stdout",
     "output_type": "stream",
     "text": [
      "Model: \"model_106\"\n",
      "__________________________________________________________________________________________________\n",
      " Layer (type)                Output Shape                 Param #   Connected to                  \n",
      "==================================================================================================\n",
      " input_180 (InputLayer)      [(None, 7)]                  0         []                            \n",
      "                                                                                                  \n",
      " input_181 (InputLayer)      [(None, 7)]                  0         []                            \n",
      "                                                                                                  \n",
      " embedding_74 (Embedding)    (None, 7, 300)               225900    ['input_180[0][0]']           \n",
      "                                                                                                  \n",
      " embedding_75 (Embedding)    (None, 7, 128)               91520     ['input_181[0][0]']           \n",
      "                                                                                                  \n",
      " lstm_73 (LSTM)              [(None, 128),                219648    ['embedding_74[0][0]']        \n",
      "                              (None, 128),                                                        \n",
      "                              (None, 128)]                                                        \n",
      "                                                                                                  \n",
      " lstm_74 (LSTM)              [(None, 7, 128),             131584    ['embedding_75[0][0]',        \n",
      "                              (None, 128),                           'lstm_73[0][1]',             \n",
      "                              (None, 128)]                           'lstm_73[0][2]']             \n",
      "                                                                                                  \n",
      " dense_36 (Dense)            (None, 7, 715)               92235     ['lstm_74[0][0]']             \n",
      "                                                                                                  \n",
      "==================================================================================================\n",
      "Total params: 760887 (2.90 MB)\n",
      "Trainable params: 534987 (2.04 MB)\n",
      "Non-trainable params: 225900 (882.42 KB)\n",
      "__________________________________________________________________________________________________\n"
     ]
    }
   ],
   "source": [
    "# define training encoder\n",
    "encoder_inputs = Input(shape=(max_input_len))\n",
    "\n",
    "encoder_embedding_layer = Embedding(\n",
    "    input_dim=nb_words,\n",
    "    output_dim=embed_dim,\n",
    "    input_length=max_input_len,\n",
    "    weights=[embedding_matrix],\n",
    "    trainable=False)\n",
    "\n",
    "encoder_inputs_x = encoder_embedding_layer(encoder_inputs)\n",
    "\n",
    "encoder = LSTM(N_UNITS,\n",
    "               return_state=True,\n",
    "               dropout=LSTM_DROPOUT,\n",
    "               )\n",
    "\n",
    "encoder_outputs, state_h, state_c = encoder(encoder_inputs_x)\n",
    "encoder_states = [state_h, state_c]\n",
    "\n",
    "# define training decoder\n",
    "decoder_inputs = Input(shape=(max_out_len))\n",
    "decoder_embedding_layer = Embedding(\n",
    "    input_dim=num_words_output,\n",
    "    output_dim=N_UNITS,\n",
    "    input_length=max_out_len)\n",
    "decoder_inputs_x = decoder_embedding_layer(decoder_inputs)\n",
    "\n",
    "decoder_lstm = LSTM(N_UNITS,\n",
    "                    return_sequences=True,\n",
    "                    return_state=True,\n",
    "                    dropout=LSTM_DROPOUT,\n",
    "                    )\n",
    "decoder_outputs, _, _ = decoder_lstm(decoder_inputs_x, initial_state=encoder_states)\n",
    "\n",
    "# Dense\n",
    "decoder_dense = Dense(num_words_output, activation='softmax')\n",
    "decoder_outputs = decoder_dense(decoder_outputs)\n",
    "model = Model([encoder_inputs, decoder_inputs], decoder_outputs)\n",
    "\n",
    "model.compile(loss='categorical_crossentropy', optimizer=\"Adam\", metrics=['accuracy'])\n",
    "model.summary()"
   ],
   "metadata": {
    "collapsed": false,
    "ExecuteTime": {
     "end_time": "2023-08-17T06:14:10.345024200Z",
     "start_time": "2023-08-17T06:14:09.896280500Z"
    }
   }
  },
  {
   "cell_type": "markdown",
   "source": [
    "## Encoder model"
   ],
   "metadata": {
    "collapsed": false
   }
  },
  {
   "cell_type": "code",
   "execution_count": 1067,
   "outputs": [],
   "source": [
    "encoder_model = Model(encoder_inputs, encoder_states)"
   ],
   "metadata": {
    "collapsed": false,
    "ExecuteTime": {
     "end_time": "2023-08-17T06:14:10.352150500Z",
     "start_time": "2023-08-17T06:14:10.347024800Z"
    }
   }
  },
  {
   "cell_type": "markdown",
   "source": [
    "## Decoder model"
   ],
   "metadata": {
    "collapsed": false
   }
  },
  {
   "cell_type": "code",
   "execution_count": 1068,
   "outputs": [],
   "source": [
    "decoder_state_input_h = Input(shape=(N_UNITS,))\n",
    "decoder_state_input_c = Input(shape=(N_UNITS,))\n",
    "decoder_states_inputs = [decoder_state_input_h, decoder_state_input_c]\n",
    "\n",
    "decoder_inputs_single = Input(shape=(1,))\n",
    "decoder_inputs_single_x = decoder_embedding_layer(decoder_inputs_single)\n",
    "\n",
    "decoder_outputs, state_h, state_c = decoder_lstm(decoder_inputs_single_x, initial_state=decoder_states_inputs)\n",
    "decoder_states = [state_h, state_c]\n",
    "decoder_outputs = decoder_dense(decoder_outputs)\n",
    "decoder_model = Model([decoder_inputs_single] + decoder_states_inputs, [decoder_outputs] + decoder_states)"
   ],
   "metadata": {
    "collapsed": false,
    "ExecuteTime": {
     "end_time": "2023-08-17T06:14:10.564061700Z",
     "start_time": "2023-08-17T06:14:10.352150500Z"
    }
   }
  },
  {
   "cell_type": "code",
   "execution_count": 1069,
   "outputs": [
    {
     "name": "stdout",
     "output_type": "stream",
     "text": [
      "Epoch 1/30\n",
      "48/48 [==============================] - 5s 28ms/step - loss: 3.8398 - accuracy: 0.4530 - val_loss: 2.8436 - val_accuracy: 0.4653\n",
      "Epoch 2/30\n",
      "48/48 [==============================] - 1s 13ms/step - loss: 2.4295 - accuracy: 0.5083 - val_loss: 2.4956 - val_accuracy: 0.5718\n",
      "Epoch 3/30\n",
      "48/48 [==============================] - 1s 13ms/step - loss: 2.1357 - accuracy: 0.6235 - val_loss: 2.3461 - val_accuracy: 0.6280\n",
      "Epoch 4/30\n",
      "48/48 [==============================] - 1s 13ms/step - loss: 1.9957 - accuracy: 0.6387 - val_loss: 2.2784 - val_accuracy: 0.6307\n",
      "Epoch 5/30\n",
      "48/48 [==============================] - 1s 13ms/step - loss: 1.8891 - accuracy: 0.6500 - val_loss: 2.2211 - val_accuracy: 0.6400\n",
      "Epoch 6/30\n",
      "48/48 [==============================] - 1s 13ms/step - loss: 1.7779 - accuracy: 0.6764 - val_loss: 2.1722 - val_accuracy: 0.6599\n",
      "Epoch 7/30\n",
      "48/48 [==============================] - 1s 13ms/step - loss: 1.6683 - accuracy: 0.7092 - val_loss: 2.1179 - val_accuracy: 0.6663\n",
      "Epoch 8/30\n",
      "48/48 [==============================] - 1s 13ms/step - loss: 1.5792 - accuracy: 0.7261 - val_loss: 2.0893 - val_accuracy: 0.6663\n",
      "Epoch 9/30\n",
      "48/48 [==============================] - 1s 13ms/step - loss: 1.5164 - accuracy: 0.7268 - val_loss: 2.0620 - val_accuracy: 0.6712\n",
      "Epoch 10/30\n",
      "48/48 [==============================] - 1s 13ms/step - loss: 1.4736 - accuracy: 0.7291 - val_loss: 2.0445 - val_accuracy: 0.6738\n",
      "Epoch 11/30\n",
      "48/48 [==============================] - 1s 13ms/step - loss: 1.4380 - accuracy: 0.7326 - val_loss: 2.0369 - val_accuracy: 0.6730\n",
      "Epoch 12/30\n",
      "48/48 [==============================] - 1s 13ms/step - loss: 1.4069 - accuracy: 0.7332 - val_loss: 2.0300 - val_accuracy: 0.6757\n",
      "Epoch 13/30\n",
      "48/48 [==============================] - 1s 13ms/step - loss: 1.3792 - accuracy: 0.7347 - val_loss: 2.0182 - val_accuracy: 0.6775\n",
      "Epoch 14/30\n",
      "48/48 [==============================] - 1s 13ms/step - loss: 1.3533 - accuracy: 0.7385 - val_loss: 2.0126 - val_accuracy: 0.6809\n",
      "Epoch 15/30\n",
      "48/48 [==============================] - 1s 13ms/step - loss: 1.3273 - accuracy: 0.7414 - val_loss: 2.0074 - val_accuracy: 0.6820\n",
      "Epoch 16/30\n",
      "48/48 [==============================] - 1s 13ms/step - loss: 1.3053 - accuracy: 0.7428 - val_loss: 2.0054 - val_accuracy: 0.6817\n",
      "Epoch 17/30\n",
      "48/48 [==============================] - 1s 13ms/step - loss: 1.2811 - accuracy: 0.7461 - val_loss: 2.0041 - val_accuracy: 0.6843\n",
      "Epoch 18/30\n",
      "48/48 [==============================] - 1s 13ms/step - loss: 1.2580 - accuracy: 0.7468 - val_loss: 1.9976 - val_accuracy: 0.6850\n",
      "Epoch 19/30\n",
      "48/48 [==============================] - 1s 13ms/step - loss: 1.2351 - accuracy: 0.7486 - val_loss: 2.0000 - val_accuracy: 0.6877\n",
      "Epoch 20/30\n",
      "48/48 [==============================] - 1s 13ms/step - loss: 1.2164 - accuracy: 0.7496 - val_loss: 1.9948 - val_accuracy: 0.6862\n",
      "Epoch 21/30\n",
      "48/48 [==============================] - 1s 13ms/step - loss: 1.1989 - accuracy: 0.7520 - val_loss: 1.9975 - val_accuracy: 0.6892\n",
      "Epoch 22/30\n",
      "48/48 [==============================] - 1s 13ms/step - loss: 1.1786 - accuracy: 0.7535 - val_loss: 1.9934 - val_accuracy: 0.6903\n",
      "Epoch 23/30\n",
      "48/48 [==============================] - 1s 13ms/step - loss: 1.1607 - accuracy: 0.7550 - val_loss: 1.9934 - val_accuracy: 0.6877\n",
      "Epoch 24/30\n",
      "48/48 [==============================] - 1s 13ms/step - loss: 1.1417 - accuracy: 0.7558 - val_loss: 1.9994 - val_accuracy: 0.6903\n",
      "Epoch 25/30\n",
      "48/48 [==============================] - 1s 13ms/step - loss: 1.1239 - accuracy: 0.7586 - val_loss: 1.9920 - val_accuracy: 0.6903\n",
      "Epoch 26/30\n",
      "48/48 [==============================] - 1s 13ms/step - loss: 1.1087 - accuracy: 0.7597 - val_loss: 1.9965 - val_accuracy: 0.6922\n",
      "Epoch 27/30\n",
      "48/48 [==============================] - 1s 13ms/step - loss: 1.0919 - accuracy: 0.7628 - val_loss: 2.0000 - val_accuracy: 0.6922\n",
      "Epoch 28/30\n",
      "48/48 [==============================] - 1s 13ms/step - loss: 1.0751 - accuracy: 0.7646 - val_loss: 2.0039 - val_accuracy: 0.6952\n",
      "Epoch 29/30\n",
      "48/48 [==============================] - 1s 13ms/step - loss: 1.0612 - accuracy: 0.7665 - val_loss: 2.0109 - val_accuracy: 0.6933\n",
      "Epoch 30/30\n",
      "48/48 [==============================] - 1s 13ms/step - loss: 1.0448 - accuracy: 0.7685 - val_loss: 2.0158 - val_accuracy: 0.6922\n"
     ]
    }
   ],
   "source": [
    "hist = model.fit(\n",
    "    [encoder_input_sequences, decoder_input_sequences],\n",
    "    decoder_targets,\n",
    "    epochs=EPOCHS,\n",
    "    validation_split=0.2,\n",
    "    )"
   ],
   "metadata": {
    "collapsed": false,
    "ExecuteTime": {
     "end_time": "2023-08-17T06:14:33.593449200Z",
     "start_time": "2023-08-17T06:14:10.565061600Z"
    }
   }
  },
  {
   "cell_type": "code",
   "execution_count": 1070,
   "outputs": [
    {
     "data": {
      "text/plain": "<Figure size 640x480 with 1 Axes>",
      "image/png": "[encoded data removed]"
     },
     "metadata": {},
     "output_type": "display_data"
    }
   ],
   "source": [
    "epoch_count = range(1, len(hist.history['accuracy']) + 1)\n",
    "sns.lineplot(x=epoch_count,  y=hist.history['accuracy'], label='train')\n",
    "sns.lineplot(x=epoch_count,  y=hist.history['val_accuracy'], label='valid')\n",
    "plt.show()"
   ],
   "metadata": {
    "collapsed": false,
    "ExecuteTime": {
     "end_time": "2023-08-17T06:14:33.784594200Z",
     "start_time": "2023-08-17T06:14:33.593449200Z"
    }
   }
  },
  {
   "cell_type": "markdown",
   "source": [
    "# Inference"
   ],
   "metadata": {
    "collapsed": false
   }
  },
  {
   "cell_type": "code",
   "execution_count": 1071,
   "outputs": [],
   "source": [
    "idx2word_input = {v:k for k, v in word2idx_inputs.items()}\n",
    "idx2word_target = {v:k for k, v in word2idx_outputs.items()}"
   ],
   "metadata": {
    "collapsed": false,
    "ExecuteTime": {
     "end_time": "2023-08-17T06:14:33.788513100Z",
     "start_time": "2023-08-17T06:14:33.786594100Z"
    }
   }
  },
  {
   "cell_type": "code",
   "execution_count": 1072,
   "outputs": [],
   "source": [
    "def answer_question(input_seq):\n",
    "    states_value = encoder_model.predict(input_seq)\n",
    "\n",
    "    target_seq = np.zeros((1, 1))\n",
    "    target_seq[0, 0] = word2idx_outputs['<sos>']\n",
    "\n",
    "    eos = word2idx_outputs['<eos>']\n",
    "\n",
    "    output_sentence = []\n",
    "    for _ in range(max_out_len):\n",
    "        output_tokens, h, c = decoder_model.predict([target_seq] + states_value)\n",
    "\n",
    "        idx = np.argmax(output_tokens[0, 0, :])\n",
    "\n",
    "        if eos == idx:\n",
    "            break\n",
    "\n",
    "        word = ''\n",
    "        if idx > 0:\n",
    "            word = idx2word_target[idx]\n",
    "            output_sentence.append(word)\n",
    "\n",
    "        states_value = [h, c]\n",
    "        target_seq[0, 0] = idx\n",
    "\n",
    "    return ' '.join(output_sentence)"
   ],
   "metadata": {
    "collapsed": false,
    "ExecuteTime": {
     "end_time": "2023-08-17T06:14:33.795005600Z",
     "start_time": "2023-08-17T06:14:33.792514100Z"
    }
   }
  },
  {
   "cell_type": "code",
   "execution_count": 1073,
   "outputs": [],
   "source": [
    "def test_bot(input_test):\n",
    "    integer_seq_test = input_tokenizer.texts_to_sequences([input_test])\n",
    "    encoder_sequence_test = pad_sequences(integer_seq_test, maxlen=max_input_len)\n",
    "\n",
    "    answer = answer_question(encoder_sequence_test)\n",
    "    print('Input (question):', input_test)\n",
    "    print('Response:', answer)"
   ],
   "metadata": {
    "collapsed": false,
    "ExecuteTime": {
     "end_time": "2023-08-17T06:14:33.799870500Z",
     "start_time": "2023-08-17T06:14:33.797006100Z"
    }
   }
  },
  {
   "cell_type": "code",
   "execution_count": 1074,
   "outputs": [
    {
     "name": "stdout",
     "output_type": "stream",
     "text": [
      "1/1 [==============================] - 0s 374ms/step\n",
      "1/1 [==============================] - 0s 366ms/step\n",
      "1/1 [==============================] - 0s 15ms/step\n",
      "1/1 [==============================] - 0s 15ms/step\n",
      "1/1 [==============================] - 0s 14ms/step\n",
      "1/1 [==============================] - 0s 14ms/step\n",
      "1/1 [==============================] - 0s 14ms/step\n",
      "Input (question): Do you read?\n",
      "Response: i am in the city\n"
     ]
    }
   ],
   "source": [
    "test_bot('Do you read?')"
   ],
   "metadata": {
    "collapsed": false,
    "ExecuteTime": {
     "end_time": "2023-08-17T06:14:34.866381800Z",
     "start_time": "2023-08-17T06:14:33.801871Z"
    }
   }
  },
  {
   "cell_type": "code",
   "execution_count": 1075,
   "outputs": [
    {
     "name": "stdout",
     "output_type": "stream",
     "text": [
      "1/1 [==============================] - 0s 13ms/step\n",
      "1/1 [==============================] - 0s 15ms/step\n",
      "1/1 [==============================] - 0s 14ms/step\n",
      "1/1 [==============================] - 0s 15ms/step\n",
      "1/1 [==============================] - 0s 15ms/step\n",
      "1/1 [==============================] - 0s 14ms/step\n",
      "Input (question): Do you have any pet?\n",
      "Response: i am a student\n"
     ]
    }
   ],
   "source": [
    "test_bot('Do you have any pet?')"
   ],
   "metadata": {
    "collapsed": false,
    "ExecuteTime": {
     "end_time": "2023-08-17T06:14:35.174263500Z",
     "start_time": "2023-08-17T06:14:34.868381900Z"
    }
   }
  },
  {
   "cell_type": "code",
   "execution_count": 1076,
   "outputs": [
    {
     "name": "stdout",
     "output_type": "stream",
     "text": [
      "1/1 [==============================] - 0s 13ms/step\n",
      "1/1 [==============================] - 0s 15ms/step\n",
      "1/1 [==============================] - 0s 15ms/step\n",
      "1/1 [==============================] - 0s 14ms/step\n",
      "1/1 [==============================] - 0s 15ms/step\n",
      "1/1 [==============================] - 0s 14ms/step\n",
      "1/1 [==============================] - 0s 14ms/step\n",
      "Input (question): Where are you from?\n",
      "Response: i am in the city\n"
     ]
    }
   ],
   "source": [
    "test_bot('Where are you from?')"
   ],
   "metadata": {
    "collapsed": false,
    "ExecuteTime": {
     "end_time": "2023-08-17T06:14:35.531804100Z",
     "start_time": "2023-08-17T06:14:35.170262600Z"
    }
   }
  },
  {
   "cell_type": "code",
   "execution_count": 1077,
   "outputs": [
    {
     "name": "stdout",
     "output_type": "stream",
     "text": [
      "1/1 [==============================] - 0s 14ms/step\n",
      "1/1 [==============================] - 0s 15ms/step\n",
      "1/1 [==============================] - 0s 15ms/step\n",
      "1/1 [==============================] - 0s 14ms/step\n",
      "1/1 [==============================] - 0s 15ms/step\n",
      "Input (question): How are you?\n",
      "Response: i m fine\n"
     ]
    }
   ],
   "source": [
    "test_bot('How are you?')"
   ],
   "metadata": {
    "collapsed": false,
    "ExecuteTime": {
     "end_time": "2023-08-17T06:14:35.783741Z",
     "start_time": "2023-08-17T06:14:35.533804100Z"
    }
   }
  },
  {
   "cell_type": "markdown",
   "source": [
    "# Conclusion"
   ],
   "metadata": {
    "collapsed": false
   }
  },
  {
   "cell_type": "markdown",
   "source": [
    "Responses don't make sense in most cases, but are sentences well structured."
   ],
   "metadata": {
    "collapsed": false
   }
  }
 ],
 "metadata": {
  "kernelspec": {
   "display_name": "Python 3",
   "language": "python",
   "name": "python3"
  },
  "language_info": {
   "codemirror_mode": {
    "name": "ipython",
    "version": 2
   },
   "file_extension": ".py",
   "mimetype": "text/x-python",
   "name": "python",
   "nbconvert_exporter": "python",
   "pygments_lexer": "ipython2",
   "version": "2.7.6"
  }
 },
 "nbformat": 4,
 "nbformat_minor": 0
}
