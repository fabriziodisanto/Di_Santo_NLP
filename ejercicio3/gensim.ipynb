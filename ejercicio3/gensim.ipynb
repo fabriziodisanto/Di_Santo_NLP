{
 "cells": [
  {
   "cell_type": "code",
   "execution_count": 157,
   "metadata": {
    "collapsed": true,
    "ExecuteTime": {
     "end_time": "2023-07-18T23:45:57.686124200Z",
     "start_time": "2023-07-18T23:45:57.657530600Z"
    }
   },
   "outputs": [],
   "source": [
    "import pandas as pd\n",
    "import numpy as np\n",
    "import matplotlib.pyplot as plt\n",
    "import seaborn as sns\n",
    "\n",
    "from gensim.models import Word2Vec"
   ]
  },
  {
   "cell_type": "code",
   "execution_count": 158,
   "outputs": [
    {
     "data": {
      "text/plain": "                                                    0\n0                                                TASA\n1   Yo, Juan Gallo de Andrada, escribano de Cámara...\n2                              Juan Gallo de Andrada.\n3                           TESTIMONIO DE LAS ERRATAS\n4   Este libro no tiene cosa digna que no correspo...\n5         El licenciado Francisco Murcia de la Llana.\n6                                              EL REY\n7   Por cuanto por parte de vos, Miguel de Cervant...\n8                                         YO, EL REY.\n9                  Por mandado del Rey nuestro señor:\n10                                 Juan de Amezqueta.\n11                                 AL DUQUE DE BÉJAR,\n12  marqués de Gibraleón, conde de Benalcázar y Ba...\n13  En fe del buen acogimiento y honra que hace Vu...\n14                      Miguel de Cervantes Saavedra.\n15                                            PRÓLOGO\n16  Desocupado lector: sin juramento me podrás cre...\n17  Sólo quisiera dártela monda y desnuda, sin el ...\n18  — Porque, ¿cómo queréis vos que no me tenga co...\n19  Oyendo lo cual mi amigo, dándose una palmada e...\n20  — Por Dios, hermano, que agora me acabo de des...\n21  — Decid —le repliqué yo, oyendo lo que me decí...\n22                                 A lo cual él dijo:\n23  — Lo primero en que reparáis de los sonetos, e...\n24  »En lo de citar en las márgenes los libros y a...\n25          Non bene pro toto libertas venditur auro.\n26  Y luego, en el margen, citar a Horacio, o a qu...\n27  Pallida mors aequo pulsat pede pauperum tabernas,\n28                                   Regumque turres.\n29  Si de la amistad y amor que Dios manda que se ...",
      "text/html": "<div>\n<style scoped>\n    .dataframe tbody tr th:only-of-type {\n        vertical-align: middle;\n    }\n\n    .dataframe tbody tr th {\n        vertical-align: top;\n    }\n\n    .dataframe thead th {\n        text-align: right;\n    }\n</style>\n<table border=\"1\" class=\"dataframe\">\n  <thead>\n    <tr style=\"text-align: right;\">\n      <th></th>\n      <th>0</th>\n    </tr>\n  </thead>\n  <tbody>\n    <tr>\n      <th>0</th>\n      <td>TASA</td>\n    </tr>\n    <tr>\n      <th>1</th>\n      <td>Yo, Juan Gallo de Andrada, escribano de Cámara...</td>\n    </tr>\n    <tr>\n      <th>2</th>\n      <td>Juan Gallo de Andrada.</td>\n    </tr>\n    <tr>\n      <th>3</th>\n      <td>TESTIMONIO DE LAS ERRATAS</td>\n    </tr>\n    <tr>\n      <th>4</th>\n      <td>Este libro no tiene cosa digna que no correspo...</td>\n    </tr>\n    <tr>\n      <th>5</th>\n      <td>El licenciado Francisco Murcia de la Llana.</td>\n    </tr>\n    <tr>\n      <th>6</th>\n      <td>EL REY</td>\n    </tr>\n    <tr>\n      <th>7</th>\n      <td>Por cuanto por parte de vos, Miguel de Cervant...</td>\n    </tr>\n    <tr>\n      <th>8</th>\n      <td>YO, EL REY.</td>\n    </tr>\n    <tr>\n      <th>9</th>\n      <td>Por mandado del Rey nuestro señor:</td>\n    </tr>\n    <tr>\n      <th>10</th>\n      <td>Juan de Amezqueta.</td>\n    </tr>\n    <tr>\n      <th>11</th>\n      <td>AL DUQUE DE BÉJAR,</td>\n    </tr>\n    <tr>\n      <th>12</th>\n      <td>marqués de Gibraleón, conde de Benalcázar y Ba...</td>\n    </tr>\n    <tr>\n      <th>13</th>\n      <td>En fe del buen acogimiento y honra que hace Vu...</td>\n    </tr>\n    <tr>\n      <th>14</th>\n      <td>Miguel de Cervantes Saavedra.</td>\n    </tr>\n    <tr>\n      <th>15</th>\n      <td>PRÓLOGO</td>\n    </tr>\n    <tr>\n      <th>16</th>\n      <td>Desocupado lector: sin juramento me podrás cre...</td>\n    </tr>\n    <tr>\n      <th>17</th>\n      <td>Sólo quisiera dártela monda y desnuda, sin el ...</td>\n    </tr>\n    <tr>\n      <th>18</th>\n      <td>— Porque, ¿cómo queréis vos que no me tenga co...</td>\n    </tr>\n    <tr>\n      <th>19</th>\n      <td>Oyendo lo cual mi amigo, dándose una palmada e...</td>\n    </tr>\n    <tr>\n      <th>20</th>\n      <td>— Por Dios, hermano, que agora me acabo de des...</td>\n    </tr>\n    <tr>\n      <th>21</th>\n      <td>— Decid —le repliqué yo, oyendo lo que me decí...</td>\n    </tr>\n    <tr>\n      <th>22</th>\n      <td>A lo cual él dijo:</td>\n    </tr>\n    <tr>\n      <th>23</th>\n      <td>— Lo primero en que reparáis de los sonetos, e...</td>\n    </tr>\n    <tr>\n      <th>24</th>\n      <td>»En lo de citar en las márgenes los libros y a...</td>\n    </tr>\n    <tr>\n      <th>25</th>\n      <td>Non bene pro toto libertas venditur auro.</td>\n    </tr>\n    <tr>\n      <th>26</th>\n      <td>Y luego, en el margen, citar a Horacio, o a qu...</td>\n    </tr>\n    <tr>\n      <th>27</th>\n      <td>Pallida mors aequo pulsat pede pauperum tabernas,</td>\n    </tr>\n    <tr>\n      <th>28</th>\n      <td>Regumque turres.</td>\n    </tr>\n    <tr>\n      <th>29</th>\n      <td>Si de la amistad y amor que Dios manda que se ...</td>\n    </tr>\n  </tbody>\n</table>\n</div>"
     },
     "execution_count": 158,
     "metadata": {},
     "output_type": "execute_result"
    }
   ],
   "source": [
    "# Using /n to separate by sentences\n",
    "df = pd.read_csv('quijote.txt', sep='/n', header=None, engine='python')\n",
    "\n",
    "df.head(30)"
   ],
   "metadata": {
    "collapsed": false,
    "ExecuteTime": {
     "end_time": "2023-07-18T23:45:57.743824200Z",
     "start_time": "2023-07-18T23:45:57.670494800Z"
    }
   }
  },
  {
   "cell_type": "code",
   "execution_count": 159,
   "outputs": [
    {
     "name": "stdout",
     "output_type": "stream",
     "text": [
      "Total sentences: 6239\n"
     ]
    }
   ],
   "source": [
    "print(\"Total sentences:\", df.shape[0])"
   ],
   "metadata": {
    "collapsed": false,
    "ExecuteTime": {
     "end_time": "2023-07-18T23:45:57.743824200Z",
     "start_time": "2023-07-18T23:45:57.708565Z"
    }
   }
  },
  {
   "cell_type": "markdown",
   "source": [
    "# Pre-processing"
   ],
   "metadata": {
    "collapsed": false
   }
  },
  {
   "cell_type": "code",
   "execution_count": 160,
   "outputs": [],
   "source": [
    "from keras.preprocessing.text import text_to_word_sequence\n",
    "import unicodedata\n",
    "import re\n",
    "\n",
    "pattern = r'[^a-zA-z0-9.,!?/:;\\\"\\'\\s]'\n",
    "\n",
    "sentence_tokens = []\n",
    "for _, row in df[:None].iterrows():\n",
    "    ttw = text_to_word_sequence(row[0])\n",
    "    ttw_processed = []\n",
    "    for word in ttw:\n",
    "        word = unicodedata.normalize('NFKD', word).encode('ascii', 'ignore').decode('utf-8', 'ignore')\n",
    "        word = re.sub(pattern, '', word)\n",
    "        ttw_processed.append(word)\n",
    "    sentence_tokens.append(ttw_processed)"
   ],
   "metadata": {
    "collapsed": false,
    "ExecuteTime": {
     "end_time": "2023-07-18T23:45:59.188006800Z",
     "start_time": "2023-07-18T23:45:57.712958400Z"
    }
   }
  },
  {
   "cell_type": "code",
   "execution_count": 161,
   "outputs": [
    {
     "data": {
      "text/plain": "[['tasa'],\n ['yo',\n  'juan',\n  'gallo',\n  'de',\n  'andrada',\n  'escribano',\n  'de',\n  'camara',\n  'del',\n  'rey',\n  'nuestro',\n  'senor',\n  'de',\n  'los',\n  'que',\n  'residen',\n  'en',\n  'su',\n  'consejo',\n  'certifico',\n  'y',\n  'doy',\n  'fe',\n  'que',\n  'habiendo',\n  'visto',\n  'por',\n  'los',\n  'senores',\n  'del',\n  'un',\n  'libro',\n  'intitulado',\n  'el',\n  'ingenioso',\n  'hidalgo',\n  'de',\n  'la',\n  'mancha',\n  'compuesto',\n  'por',\n  'miguel',\n  'de',\n  'cervantes',\n  'saavedra',\n  'tasaron',\n  'cada',\n  'pliego',\n  'del',\n  'dicho',\n  'libro',\n  'a',\n  'tres',\n  'maravedis',\n  'y',\n  'medio',\n  'el',\n  'cual',\n  'tiene',\n  'ochenta',\n  'y',\n  'tres',\n  'pliegos',\n  'que',\n  'al',\n  'dicho',\n  'precio',\n  'monta',\n  'el',\n  'dicho',\n  'libro',\n  'docientos',\n  'y',\n  'noventa',\n  'maravedis',\n  'y',\n  'medio',\n  'en',\n  'que',\n  'se',\n  'ha',\n  'de',\n  'vender',\n  'en',\n  'papel',\n  'y',\n  'dieron',\n  'licencia',\n  'para',\n  'que',\n  'a',\n  'este',\n  'precio',\n  'se',\n  'pueda',\n  'vender',\n  'y',\n  'mandaron',\n  'que',\n  'esta',\n  'tasa',\n  'se',\n  'ponga',\n  'al',\n  'principio',\n  'del',\n  'dicho',\n  'libro',\n  'y',\n  'no',\n  'se',\n  'pueda',\n  'vender',\n  'sin',\n  'ella',\n  'y',\n  'para',\n  'que',\n  'dello',\n  'conste',\n  'di',\n  'la',\n  'presente',\n  'en',\n  'valladolid',\n  'a',\n  'veinte',\n  'dias',\n  'del',\n  'mes',\n  'de',\n  'deciembre',\n  'de',\n  'mil',\n  'y',\n  'seiscientos',\n  'y',\n  'cuatro',\n  'anos']]"
     },
     "execution_count": 161,
     "metadata": {},
     "output_type": "execute_result"
    }
   ],
   "source": [
    "sentence_tokens[:2]"
   ],
   "metadata": {
    "collapsed": false,
    "ExecuteTime": {
     "end_time": "2023-07-18T23:45:59.202473800Z",
     "start_time": "2023-07-18T23:45:59.188006800Z"
    }
   }
  },
  {
   "cell_type": "markdown",
   "source": [
    "# Creating vectors"
   ],
   "metadata": {
    "collapsed": false
   }
  },
  {
   "cell_type": "code",
   "execution_count": 162,
   "outputs": [],
   "source": [
    "from gensim.models.callbacks import CallbackAny2Vec\n",
    "\n",
    "class callback(CallbackAny2Vec):\n",
    "    \"\"\"\n",
    "    Callback to print loss after each epoch\n",
    "    \"\"\"\n",
    "    def __init__(self):\n",
    "        self.epoch = 0\n",
    "\n",
    "    def on_epoch_end(self, model):\n",
    "        loss = model.get_latest_training_loss()\n",
    "        if self.epoch == 0:\n",
    "            print('Loss after epoch {}: {}'.format(self.epoch, loss))\n",
    "        else:\n",
    "            print('Loss after epoch {}: {}'.format(self.epoch, loss- self.loss_previous_step))\n",
    "        self.epoch += 1\n",
    "        self.loss_previous_step = loss"
   ],
   "metadata": {
    "collapsed": false,
    "ExecuteTime": {
     "end_time": "2023-07-18T23:45:59.208151900Z",
     "start_time": "2023-07-18T23:45:59.202473800Z"
    }
   }
  },
  {
   "cell_type": "code",
   "execution_count": 163,
   "outputs": [],
   "source": [
    "w2v_model = Word2Vec(min_count=5,\n",
    "                     window=2,\n",
    "                     vector_size=300,\n",
    "                     negative=20,\n",
    "                     workers=1,\n",
    "                     sg=1)"
   ],
   "metadata": {
    "collapsed": false,
    "ExecuteTime": {
     "end_time": "2023-07-18T23:45:59.213016200Z",
     "start_time": "2023-07-18T23:45:59.208151900Z"
    }
   }
  },
  {
   "cell_type": "code",
   "execution_count": 164,
   "outputs": [],
   "source": [
    "w2v_model.build_vocab(sentence_tokens)"
   ],
   "metadata": {
    "collapsed": false,
    "ExecuteTime": {
     "end_time": "2023-07-18T23:45:59.419035400Z",
     "start_time": "2023-07-18T23:45:59.213016200Z"
    }
   }
  },
  {
   "cell_type": "code",
   "execution_count": 165,
   "outputs": [
    {
     "name": "stdout",
     "output_type": "stream",
     "text": [
      "Corpus size: 6239\n"
     ]
    }
   ],
   "source": [
    "print(\"Corpus size:\", w2v_model.corpus_count)"
   ],
   "metadata": {
    "collapsed": false,
    "ExecuteTime": {
     "end_time": "2023-07-18T23:45:59.423537Z",
     "start_time": "2023-07-18T23:45:59.419035400Z"
    }
   }
  },
  {
   "cell_type": "code",
   "execution_count": 166,
   "outputs": [
    {
     "name": "stdout",
     "output_type": "stream",
     "text": [
      "Total distinct words: 5270\n"
     ]
    }
   ],
   "source": [
    "print(\"Total distinct words:\", len(w2v_model.wv.index_to_key))"
   ],
   "metadata": {
    "collapsed": false,
    "ExecuteTime": {
     "end_time": "2023-07-18T23:45:59.428032700Z",
     "start_time": "2023-07-18T23:45:59.423537Z"
    }
   }
  },
  {
   "cell_type": "markdown",
   "source": [
    "# Training"
   ],
   "metadata": {
    "collapsed": false
   }
  },
  {
   "cell_type": "code",
   "execution_count": 167,
   "outputs": [
    {
     "name": "stdout",
     "output_type": "stream",
     "text": [
      "Loss after epoch 0: 2797441.0\n",
      "Loss after epoch 1: 2029376.5\n",
      "Loss after epoch 2: 1927314.5\n",
      "Loss after epoch 3: 1901298.0\n",
      "Loss after epoch 4: 1820306.0\n",
      "Loss after epoch 5: 1801805.0\n",
      "Loss after epoch 6: 1779064.0\n",
      "Loss after epoch 7: 1769236.0\n",
      "Loss after epoch 8: 1721619.0\n",
      "Loss after epoch 9: 1682888.0\n",
      "Loss after epoch 10: 1656132.0\n",
      "Loss after epoch 11: 1644814.0\n",
      "Loss after epoch 12: 1622456.0\n",
      "Loss after epoch 13: 1610752.0\n",
      "Loss after epoch 14: 1596522.0\n",
      "Loss after epoch 15: 1577956.0\n",
      "Loss after epoch 16: 1569074.0\n",
      "Loss after epoch 17: 1555014.0\n",
      "Loss after epoch 18: 1537712.0\n",
      "Loss after epoch 19: 1530152.0\n",
      "Loss after epoch 20: 1509544.0\n",
      "Loss after epoch 21: 1492688.0\n",
      "Loss after epoch 22: 1480116.0\n",
      "Loss after epoch 23: 1467760.0\n",
      "Loss after epoch 24: 1457620.0\n",
      "Loss after epoch 25: 1444732.0\n",
      "Loss after epoch 26: 1431120.0\n",
      "Loss after epoch 27: 1419252.0\n",
      "Loss after epoch 28: 1420332.0\n",
      "Loss after epoch 29: 1408812.0\n",
      "Loss after epoch 30: 1402736.0\n",
      "Loss after epoch 31: 1392708.0\n",
      "Loss after epoch 32: 1387892.0\n",
      "Loss after epoch 33: 1383656.0\n",
      "Loss after epoch 34: 1372588.0\n",
      "Loss after epoch 35: 1369732.0\n",
      "Loss after epoch 36: 1367668.0\n",
      "Loss after epoch 37: 1366092.0\n",
      "Loss after epoch 38: 1356128.0\n",
      "Loss after epoch 39: 1350404.0\n",
      "Loss after epoch 40: 1350052.0\n",
      "Loss after epoch 41: 1344216.0\n",
      "Loss after epoch 42: 1059580.0\n",
      "Loss after epoch 43: 217512.0\n",
      "Loss after epoch 44: 210536.0\n",
      "Loss after epoch 45: 207760.0\n",
      "Loss after epoch 46: 204376.0\n",
      "Loss after epoch 47: 200760.0\n",
      "Loss after epoch 48: 196336.0\n",
      "Loss after epoch 49: 194792.0\n"
     ]
    },
    {
     "data": {
      "text/plain": "(11824778, 19214900)"
     },
     "execution_count": 167,
     "metadata": {},
     "output_type": "execute_result"
    }
   ],
   "source": [
    "w2v_model.train(sentence_tokens,\n",
    "                 total_examples=w2v_model.corpus_count,\n",
    "                 epochs=50,\n",
    "                 compute_loss = True,\n",
    "                 callbacks=[callback()]\n",
    "                 )"
   ],
   "metadata": {
    "collapsed": false,
    "ExecuteTime": {
     "end_time": "2023-07-18T23:47:28.755057300Z",
     "start_time": "2023-07-18T23:45:59.428032700Z"
    }
   }
  },
  {
   "cell_type": "markdown",
   "source": [
    "# Testing results"
   ],
   "metadata": {
    "collapsed": false
   }
  },
  {
   "cell_type": "code",
   "execution_count": 168,
   "outputs": [
    {
     "data": {
      "text/plain": "[('don', 0.6614277958869934),\n ('jeronimo', 0.4391803741455078),\n ('gaspar', 0.39551764726638794),\n ('tarfe', 0.3878575265407562),\n ('tracia', 0.38346076011657715),\n ('cirongilio', 0.365409791469574),\n ('malparado', 0.3634378910064697),\n ('luis', 0.36277422308921814),\n ('abrazandole', 0.3600510060787201),\n ('intitulado', 0.35643506050109863)]"
     },
     "execution_count": 168,
     "metadata": {},
     "output_type": "execute_result"
    }
   ],
   "source": [
    "w2v_model.wv.most_similar(positive=[\"quijote\"], topn=10)"
   ],
   "metadata": {
    "collapsed": false,
    "ExecuteTime": {
     "end_time": "2023-07-18T23:47:28.763653200Z",
     "start_time": "2023-07-18T23:47:28.755057300Z"
    }
   }
  },
  {
   "cell_type": "code",
   "execution_count": 169,
   "outputs": [
    {
     "data": {
      "text/plain": "[('panza', 0.4567840099334717),\n ('decid', 0.4219357669353485),\n ('ta', 0.39664226770401),\n ('ambrosio', 0.39615827798843384),\n ('estemos', 0.39490488171577454),\n ('replicar', 0.3837305009365082),\n ('jeronimo', 0.375296950340271),\n ('hicieronlo', 0.37310755252838135),\n ('majadero', 0.36579030752182007),\n ('digote', 0.36511582136154175)]"
     },
     "execution_count": 169,
     "metadata": {},
     "output_type": "execute_result"
    }
   ],
   "source": [
    "w2v_model.wv.most_similar(positive=[\"sancho\"], topn=10)"
   ],
   "metadata": {
    "collapsed": false,
    "ExecuteTime": {
     "end_time": "2023-07-18T23:47:28.769897100Z",
     "start_time": "2023-07-18T23:47:28.763653200Z"
    }
   }
  },
  {
   "cell_type": "code",
   "execution_count": 170,
   "outputs": [
    {
     "data": {
      "text/plain": "[('miguel', 0.7570977210998535),\n ('saavedra', 0.744672417640686),\n ('intitulado', 0.6138710379600525),\n ('fecha', 0.508773684501648),\n ('compuesto', 0.4809699058532715),\n ('pliego', 0.47030332684516907),\n ('andurriales', 0.4691762924194336),\n ('garcia', 0.4678325057029724),\n ('espanol', 0.463644802570343),\n ('perez', 0.44737955927848816)]"
     },
     "execution_count": 170,
     "metadata": {},
     "output_type": "execute_result"
    }
   ],
   "source": [
    "w2v_model.wv.most_similar(positive=[\"cervantes\"], topn=10)"
   ],
   "metadata": {
    "collapsed": false,
    "ExecuteTime": {
     "end_time": "2023-07-18T23:47:28.778410100Z",
     "start_time": "2023-07-18T23:47:28.769897100Z"
    }
   }
  },
  {
   "cell_type": "code",
   "execution_count": 171,
   "outputs": [
    {
     "data": {
      "text/plain": "[('andante', 0.4491423964500427),\n ('hidalgo', 0.38160228729248047),\n ('aventurero', 0.3772469758987427),\n ('toro', 0.3710313141345978),\n ('felixmarte', 0.3675742745399475),\n ('pierres', 0.36494895815849304),\n ('leal', 0.3645140528678894),\n ('embajador', 0.346611350774765),\n ('procurase', 0.3448006808757782),\n ('hircania', 0.3445601761341095)]"
     },
     "execution_count": 171,
     "metadata": {},
     "output_type": "execute_result"
    }
   ],
   "source": [
    "w2v_model.wv.most_similar(positive=[\"caballero\"], topn=10)"
   ],
   "metadata": {
    "collapsed": false,
    "ExecuteTime": {
     "end_time": "2023-07-18T23:47:28.818566300Z",
     "start_time": "2023-07-18T23:47:28.778410100Z"
    }
   }
  },
  {
   "cell_type": "code",
   "execution_count": 172,
   "outputs": [
    {
     "data": {
      "text/plain": "[('follones', 0.5084276795387268),\n ('molinos', 0.43988367915153503),\n ('vestiglos', 0.4385627806186676),\n ('escuderos', 0.4292663633823395),\n ('acostumbrados', 0.42852410674095154),\n ('presentados', 0.42534276843070984),\n ('malandrines', 0.42344537377357483),\n ('desaforados', 0.4215196371078491),\n ('bravos', 0.42080119252204895),\n ('perezosos', 0.4097270667552948)]"
     },
     "execution_count": 172,
     "metadata": {},
     "output_type": "execute_result"
    }
   ],
   "source": [
    "w2v_model.wv.most_similar(positive=[\"gigantes\"], topn=10)"
   ],
   "metadata": {
    "collapsed": false,
    "ExecuteTime": {
     "end_time": "2023-07-18T23:47:28.818566300Z",
     "start_time": "2023-07-18T23:47:28.784684200Z"
    }
   }
  },
  {
   "cell_type": "code",
   "execution_count": 173,
   "outputs": [
    {
     "data": {
      "text/plain": "[('cabestro', 0.4269150495529175),\n ('seguiale', 0.3851966857910156),\n ('riendas', 0.3840424716472626),\n ('atravesado', 0.37402328848838806),\n ('arzon', 0.3675335943698883),\n ('rienda', 0.3636254072189331),\n ('abrazandole', 0.35921043157577515),\n ('estribo', 0.35829535126686096),\n ('embrazo', 0.3574920892715454),\n ('pollina', 0.3563278913497925)]"
     },
     "execution_count": 173,
     "metadata": {},
     "output_type": "execute_result"
    }
   ],
   "source": [
    "w2v_model.wv.most_similar(positive=[\"rocinante\"], topn=10)"
   ],
   "metadata": {
    "collapsed": false,
    "ExecuteTime": {
     "end_time": "2023-07-18T23:47:28.818566300Z",
     "start_time": "2023-07-18T23:47:28.791185Z"
    }
   }
  },
  {
   "cell_type": "code",
   "execution_count": 174,
   "outputs": [],
   "source": [
    "from sklearn.metrics import pairwise\n",
    "\n",
    "def plot_matrix_distance(words, dist):\n",
    "    fig = plt.figure(figsize=(16,9))\n",
    "    ax = fig.add_subplot()\n",
    "    sns.heatmap(dist, xticklabels=words, yticklabels=words, annot=True, fmt=\".2f\", cmap=\"YlGnBu\", ax=ax)\n",
    "    plt.show()"
   ],
   "metadata": {
    "collapsed": false,
    "ExecuteTime": {
     "end_time": "2023-07-18T23:47:28.818566300Z",
     "start_time": "2023-07-18T23:47:28.797641100Z"
    }
   }
  },
  {
   "cell_type": "code",
   "execution_count": 175,
   "outputs": [
    {
     "data": {
      "text/plain": "<Figure size 1600x900 with 2 Axes>",
      "image/png": "[encoded data removed]"
     },
     "metadata": {},
     "output_type": "display_data"
    }
   ],
   "source": [
    "test_words = ['hombre', 'caballero', 'hidalgo', 'loco', 'aventurero', 'valiente','quijote']\n",
    "test_emb = [w2v_model.wv[w] for w in test_words]\n",
    "\n",
    "new_quijote = test_emb[0] + test_emb[1] + test_emb[2] + test_emb[3] + test_emb[4] + test_emb[5]\n",
    "\n",
    "new_words = test_words + ['new_quijote']\n",
    "new_emb = np.append(test_emb, new_quijote.reshape(1, -1), axis=0)\n",
    "\n",
    "dist = pairwise.cosine_similarity(new_emb, new_emb)\n",
    "\n",
    "plot_matrix_distance(new_words, dist)"
   ],
   "metadata": {
    "collapsed": false,
    "ExecuteTime": {
     "end_time": "2023-07-18T23:47:29.232110200Z",
     "start_time": "2023-07-18T23:47:28.802929900Z"
    }
   }
  },
  {
   "cell_type": "code",
   "execution_count": 176,
   "outputs": [],
   "source": [
    "from sklearn.manifold import TSNE\n",
    "import numpy as np\n",
    "\n",
    "def reduce_dimensions(model):\n",
    "    num_dimensions = 2\n",
    "\n",
    "    vectors = np.asarray(model.wv.vectors)\n",
    "    labels = np.asarray(model.wv.index_to_key)\n",
    "\n",
    "    tsne = TSNE(n_components=num_dimensions, random_state=0)\n",
    "    vectors = tsne.fit_transform(vectors)\n",
    "\n",
    "    x_vals = [v[0] for v in vectors]\n",
    "    y_vals = [v[1] for v in vectors]\n",
    "    return x_vals, y_vals, labels"
   ],
   "metadata": {
    "collapsed": false,
    "ExecuteTime": {
     "end_time": "2023-07-18T23:47:29.237549100Z",
     "start_time": "2023-07-18T23:47:29.232110200Z"
    }
   }
  },
  {
   "cell_type": "code",
   "execution_count": 177,
   "outputs": [
    {
     "data": {
      "application/vnd.plotly.v1+json": {
       "data": [
        {
         "hovertemplate": "x=%{x}<br>y=%{y}<br>text=%{text}<extra></extra>",
         "legendgroup": "",
         "marker": {
          "color": "#636efa",
          "symbol": "circle"
         },
         "mode": "markers+text",
         "name": "",
         "orientation": "v",
         "showlegend": false,
         "text": [
          "que",
          "de",
          "y",
          "la",
          "a",
          "el",
          "en",
          "no",
          "se",
          "los",
          "con",
          "por",
          "las",
          "lo",
          "le",
          "su",
          "",
          "don",
          "del",
          "como",
          "me",
          "si",
          "mas",
          "mi",
          "quijote",
          "sancho",
          "es",
          "yo",
          "un",
          "dijo",
          "al",
          "para",
          "porque",
          "ni",
          "una",
          "tan",
          "o",
          "todo",
          "sin",
          "esta",
          "asi",
          "respondio",
          "senor",
          "ser",
          "ha",
          "sus",
          "bien",
          "habia",
          "pero",
          "merced",
          "quien",
          "esto",
          "pues",
          "vuestra",
          "todos",
          "este",
          "ya",
          "cuando",
          "era",
          "cual",
          "donde",
          "te",
          "sino",
          "dos",
          "caballero",
          "fue",
          "ella",
          "tu",
          "decir",
          "he",
          "muy",
          "hacer",
          "aquel",
          "aunque",
          "dios",
          "otra",
          "aqui",
          "senora",
          "otro",
          "son",
          "estaba",
          "hay",
          "os",
          "mal",
          "sobre",
          "nos",
          "cosa",
          "buen",
          "verdad",
          "tal",
          "alli",
          "tanto",
          "ver",
          "tengo",
          "luego",
          "mundo",
          "entre",
          "tiene",
          "mis",
          "hasta",
          "alguna",
          "poco",
          "dicho",
          "todas",
          "dar",
          "buena",
          "ahora",
          "parte",
          "aquella",
          "vida",
          "tenia",
          "uno",
          "han",
          "cosas",
          "menos",
          "les",
          "lugar",
          "aun",
          "gran",
          "soy",
          "eso",
          "casa",
          "panza",
          "manera",
          "tiempo",
          "digo",
          "toda",
          "cura",
          "estas",
          "puesto",
          "mano",
          "solo",
          "amo",
          "ellos",
          "dio",
          "caballeros",
          "mejor",
          "mucho",
          "antes",
          "fuera",
          "puede",
          "visto",
          "ojos",
          "sea",
          "dulcinea",
          "algun",
          "dia",
          "tierra",
          "otras",
          "hecho",
          "otros",
          "quiero",
          "padre",
          "hombre",
          "haber",
          "cuanto",
          "habian",
          "cielo",
          "amigo",
          "historia",
          "vio",
          "saber",
          "camino",
          "parece",
          "hizo",
          "estos",
          "escudero",
          "muchas",
          "tener",
          "dias",
          "manos",
          "desta",
          "fin",
          "tres",
          "tambien",
          "mujer",
          "dice",
          "sera",
          "cada",
          "mesmo",
          "cabeza",
          "cuenta",
          "nuestro",
          "noche",
          "punto",
          "vos",
          "replico",
          "fuese",
          "veces",
          "rocinante",
          "vuesa",
          "parecer",
          "duque",
          "muchos",
          "razones",
          "diciendo",
          "andante",
          "caballo",
          "debe",
          "grande"
         ],
         "x": [
          7.406472,
          2.068769,
          2.4378726,
          0.088201486,
          2.3552833,
          6.4560685,
          2.3494,
          7.517357,
          7.050466,
          -7.7808585,
          12.726361,
          2.320045,
          -17.311455,
          7.4345174,
          7.1493516,
          8.320236,
          21.23646,
          5.010537,
          -4.7465835,
          2.5180204,
          7.553371,
          7.5856967,
          6.4325604,
          7.24976,
          5.009714,
          27.038563,
          7.2583117,
          8.270221,
          10.011243,
          24.369087,
          11.496927,
          2.5219967,
          7.427155,
          20.931158,
          7.035112,
          15.822382,
          21.552946,
          6.136138,
          9.086543,
          18.098637,
          7.470532,
          21.24133,
          18.082977,
          4.7324243,
          10.572665,
          -12.602589,
          7.644191,
          3.6352756,
          7.4275866,
          23.930738,
          6.2303357,
          6.572597,
          7.495903,
          23.979366,
          14.736629,
          8.292195,
          8.635409,
          8.2885895,
          6.086417,
          7.914309,
          13.999365,
          11.433738,
          22.102938,
          -23.908815,
          8.021475,
          -4.982754,
          6.806111,
          15.402767,
          11.466773,
          15.368789,
          13.384253,
          7.3549914,
          -24.123486,
          7.015664,
          9.154995,
          13.561999,
          17.450392,
          -1.8962731,
          11.973437,
          -9.454221,
          -6.103664,
          27.041918,
          10.70419,
          9.365619,
          -10.758368,
          23.63571,
          10.058302,
          17.69216,
          8.209117,
          12.8806,
          -10.360753,
          6.642128,
          13.875292,
          8.33943,
          -9.640463,
          22.20176,
          -19.969553,
          9.163155,
          -2.585765,
          10.440679,
          11.578403,
          25.454506,
          8.149204,
          -12.782716,
          3.5157468,
          2.0039406,
          19.245714,
          1.6450423,
          -3.7953362,
          8.355536,
          8.287655,
          9.338564,
          -2.3152926,
          -12.35734,
          14.393023,
          0.7546054,
          -11.047302,
          7.1576066,
          -2.2215614,
          10.315578,
          22.26848,
          -17.93949,
          27.065695,
          14.108525,
          11.142805,
          20.163134,
          -5.432149,
          -1.971293,
          -23.29745,
          12.055388,
          -10.890598,
          7.122835,
          8.010113,
          -3.278927,
          -6.664904,
          -8.476971,
          3.3605947,
          24.2111,
          23.244457,
          6.8072443,
          14.124276,
          6.3798895,
          -7.405012,
          13.340232,
          -1.2963551,
          11.891996,
          4.547896,
          -6.0081496,
          -16.196634,
          7.0878963,
          -6.998873,
          18.828918,
          14.163426,
          19.595045,
          -1.4338214,
          8.450919,
          3.3313825,
          -0.6266057,
          21.412413,
          3.3042684,
          -5.3004036,
          17.575806,
          -6.009883,
          13.443134,
          10.597996,
          -10.362452,
          -2.3436694,
          -13.067737,
          14.198412,
          -7.999635,
          -14.349062,
          -27.36555,
          -0.34570062,
          -21.858961,
          15.385557,
          16.622913,
          12.977785,
          18.520975,
          9.380739,
          6.0993237,
          -12.721468,
          10.272355,
          9.368441,
          -13.193108,
          2.2122538,
          14.569664,
          22.05877,
          10.840875,
          1.4146864,
          -11.351493,
          23.91871,
          -3.5036094,
          -3.7314281,
          -2.948488,
          -14.574528,
          -3.641568,
          22.598415,
          -11.659293,
          14.586445,
          25.455662
         ],
         "xaxis": "x",
         "y": [
          -2.7427907,
          -2.0265527,
          -2.0504637,
          -2.4594977,
          -2.2695987,
          -3.152557,
          -2.2305095,
          -2.7786174,
          -2.9605007,
          6.533188,
          -16.312912,
          -2.1565764,
          15.977523,
          -2.8210452,
          -3.0378788,
          -19.754457,
          -5.009294,
          -25.904312,
          -1.8228899,
          -2.2445533,
          -2.801616,
          -2.7710924,
          -2.5836494,
          -2.5728576,
          -25.902946,
          -2.393193,
          -2.1507452,
          -2.432072,
          -23.030094,
          1.1665239,
          -20.141409,
          -2.1464317,
          -2.7961385,
          -11.793319,
          -22.826895,
          17.90962,
          -10.908255,
          -2.479639,
          -16.253847,
          -8.160565,
          -3.2574904,
          -5.0999866,
          -6.8023806,
          -1.3637221,
          -2.2950978,
          8.3014555,
          -2.617885,
          -14.379096,
          -2.6449761,
          -1.66522,
          -3.2138953,
          -2.3411016,
          -2.4360301,
          -1.5979137,
          -21.152756,
          -2.8697789,
          -3.283265,
          -2.3058023,
          -19.737019,
          -6.7381473,
          -14.367315,
          -0.24684975,
          -3.7174394,
          -10.169489,
          11.449243,
          -13.20805,
          -3.0775783,
          8.719607,
          -15.9501295,
          -5.619656,
          -9.035145,
          -4.4480495,
          14.222511,
          -3.3043065,
          5.145684,
          -12.27357,
          -2.1712549,
          -3.1243804,
          -19.187334,
          11.302822,
          -13.178998,
          -3.972446,
          -0.80237764,
          -0.5591552,
          -10.774094,
          -11.228776,
          -14.693565,
          9.151791,
          -2.6168942,
          -18.365555,
          -19.577812,
          -4.1899114,
          -16.320782,
          2.4426033,
          -13.383808,
          -3.668418,
          3.2663798,
          3.518476,
          9.0049095,
          -19.890549,
          -2.906727,
          -5.636878,
          -3.9133134,
          12.416447,
          -6.3637433,
          -8.843996,
          0.022100864,
          -0.9690083,
          -5.523727,
          2.952883,
          -12.17123,
          -21.036604,
          9.395258,
          15.39106,
          -1.3120608,
          -15.333262,
          -16.452452,
          -3.4917388,
          -9.695518,
          12.6418,
          -1.6712542,
          -16.891685,
          -2.3989458,
          -18.57725,
          0.7602938,
          0.36279118,
          -3.2669926,
          -16.37177,
          9.821287,
          -6.2617574,
          -8.320773,
          -1.9735217,
          -4.5569634,
          9.352195,
          -8.454814,
          21.503372,
          6.641089,
          8.622474,
          11.641657,
          -9.63522,
          0.44630933,
          -5.023845,
          7.574448,
          3.9340754,
          -3.734141,
          6.776273,
          23.389124,
          -3.005096,
          9.157138,
          -0.44270974,
          11.24306,
          -0.025347684,
          -7.8309207,
          -11.8591,
          -2.071182,
          -3.6037266,
          -8.163736,
          8.669907,
          2.7965145,
          -2.471823,
          -14.343458,
          -3.5595167,
          -19.158014,
          -2.690648,
          -10.563618,
          19.484419,
          -21.30951,
          12.9214,
          -13.697568,
          5.968652,
          6.5964766,
          5.4752584,
          0.6698399,
          3.397263,
          -8.340358,
          9.587608,
          -5.3402233,
          3.8192742,
          -21.099554,
          -3.2332473,
          -9.456551,
          -18.884958,
          -4.7833114,
          -16.144003,
          -7.181663,
          8.120747,
          -0.845621,
          -10.000097,
          -25.391264,
          -13.2576885,
          -1.9512417,
          -14.01973,
          -14.964439,
          10.619248,
          11.138717,
          -16.769659,
          14.518104,
          -13.21911,
          -3.3356082,
          -9.300766
         ],
         "yaxis": "y",
         "type": "scatter"
        }
       ],
       "layout": {
        "template": {
         "data": {
          "histogram2dcontour": [
           {
            "type": "histogram2dcontour",
            "colorbar": {
             "outlinewidth": 0,
             "ticks": ""
            },
            "colorscale": [
             [
              0.0,
              "#0d0887"
             ],
             [
              0.1111111111111111,
              "#46039f"
             ],
             [
              0.2222222222222222,
              "#7201a8"
             ],
             [
              0.3333333333333333,
              "#9c179e"
             ],
             [
              0.4444444444444444,
              "#bd3786"
             ],
             [
              0.5555555555555556,
              "#d8576b"
             ],
             [
              0.6666666666666666,
              "#ed7953"
             ],
             [
              0.7777777777777778,
              "#fb9f3a"
             ],
             [
              0.8888888888888888,
              "#fdca26"
             ],
             [
              1.0,
              "#f0f921"
             ]
            ]
           }
          ],
          "choropleth": [
           {
            "type": "choropleth",
            "colorbar": {
             "outlinewidth": 0,
             "ticks": ""
            }
           }
          ],
          "histogram2d": [
           {
            "type": "histogram2d",
            "colorbar": {
             "outlinewidth": 0,
             "ticks": ""
            },
            "colorscale": [
             [
              0.0,
              "#0d0887"
             ],
             [
              0.1111111111111111,
              "#46039f"
             ],
             [
              0.2222222222222222,
              "#7201a8"
             ],
             [
              0.3333333333333333,
              "#9c179e"
             ],
             [
              0.4444444444444444,
              "#bd3786"
             ],
             [
              0.5555555555555556,
              "#d8576b"
             ],
             [
              0.6666666666666666,
              "#ed7953"
             ],
             [
              0.7777777777777778,
              "#fb9f3a"
             ],
             [
              0.8888888888888888,
              "#fdca26"
             ],
             [
              1.0,
              "#f0f921"
             ]
            ]
           }
          ],
          "heatmap": [
           {
            "type": "heatmap",
            "colorbar": {
             "outlinewidth": 0,
             "ticks": ""
            },
            "colorscale": [
             [
              0.0,
              "#0d0887"
             ],
             [
              0.1111111111111111,
              "#46039f"
             ],
             [
              0.2222222222222222,
              "#7201a8"
             ],
             [
              0.3333333333333333,
              "#9c179e"
             ],
             [
              0.4444444444444444,
              "#bd3786"
             ],
             [
              0.5555555555555556,
              "#d8576b"
             ],
             [
              0.6666666666666666,
              "#ed7953"
             ],
             [
              0.7777777777777778,
              "#fb9f3a"
             ],
             [
              0.8888888888888888,
              "#fdca26"
             ],
             [
              1.0,
              "#f0f921"
             ]
            ]
           }
          ],
          "heatmapgl": [
           {
            "type": "heatmapgl",
            "colorbar": {
             "outlinewidth": 0,
             "ticks": ""
            },
            "colorscale": [
             [
              0.0,
              "#0d0887"
             ],
             [
              0.1111111111111111,
              "#46039f"
             ],
             [
              0.2222222222222222,
              "#7201a8"
             ],
             [
              0.3333333333333333,
              "#9c179e"
             ],
             [
              0.4444444444444444,
              "#bd3786"
             ],
             [
              0.5555555555555556,
              "#d8576b"
             ],
             [
              0.6666666666666666,
              "#ed7953"
             ],
             [
              0.7777777777777778,
              "#fb9f3a"
             ],
             [
              0.8888888888888888,
              "#fdca26"
             ],
             [
              1.0,
              "#f0f921"
             ]
            ]
           }
          ],
          "contourcarpet": [
           {
            "type": "contourcarpet",
            "colorbar": {
             "outlinewidth": 0,
             "ticks": ""
            }
           }
          ],
          "contour": [
           {
            "type": "contour",
            "colorbar": {
             "outlinewidth": 0,
             "ticks": ""
            },
            "colorscale": [
             [
              0.0,
              "#0d0887"
             ],
             [
              0.1111111111111111,
              "#46039f"
             ],
             [
              0.2222222222222222,
              "#7201a8"
             ],
             [
              0.3333333333333333,
              "#9c179e"
             ],
             [
              0.4444444444444444,
              "#bd3786"
             ],
             [
              0.5555555555555556,
              "#d8576b"
             ],
             [
              0.6666666666666666,
              "#ed7953"
             ],
             [
              0.7777777777777778,
              "#fb9f3a"
             ],
             [
              0.8888888888888888,
              "#fdca26"
             ],
             [
              1.0,
              "#f0f921"
             ]
            ]
           }
          ],
          "surface": [
           {
            "type": "surface",
            "colorbar": {
             "outlinewidth": 0,
             "ticks": ""
            },
            "colorscale": [
             [
              0.0,
              "#0d0887"
             ],
             [
              0.1111111111111111,
              "#46039f"
             ],
             [
              0.2222222222222222,
              "#7201a8"
             ],
             [
              0.3333333333333333,
              "#9c179e"
             ],
             [
              0.4444444444444444,
              "#bd3786"
             ],
             [
              0.5555555555555556,
              "#d8576b"
             ],
             [
              0.6666666666666666,
              "#ed7953"
             ],
             [
              0.7777777777777778,
              "#fb9f3a"
             ],
             [
              0.8888888888888888,
              "#fdca26"
             ],
             [
              1.0,
              "#f0f921"
             ]
            ]
           }
          ],
          "mesh3d": [
           {
            "type": "mesh3d",
            "colorbar": {
             "outlinewidth": 0,
             "ticks": ""
            }
           }
          ],
          "scatter": [
           {
            "fillpattern": {
             "fillmode": "overlay",
             "size": 10,
             "solidity": 0.2
            },
            "type": "scatter"
           }
          ],
          "parcoords": [
           {
            "type": "parcoords",
            "line": {
             "colorbar": {
              "outlinewidth": 0,
              "ticks": ""
             }
            }
           }
          ],
          "scatterpolargl": [
           {
            "type": "scatterpolargl",
            "marker": {
             "colorbar": {
              "outlinewidth": 0,
              "ticks": ""
             }
            }
           }
          ],
          "bar": [
           {
            "error_x": {
             "color": "#2a3f5f"
            },
            "error_y": {
             "color": "#2a3f5f"
            },
            "marker": {
             "line": {
              "color": "#E5ECF6",
              "width": 0.5
             },
             "pattern": {
              "fillmode": "overlay",
              "size": 10,
              "solidity": 0.2
             }
            },
            "type": "bar"
           }
          ],
          "scattergeo": [
           {
            "type": "scattergeo",
            "marker": {
             "colorbar": {
              "outlinewidth": 0,
              "ticks": ""
             }
            }
           }
          ],
          "scatterpolar": [
           {
            "type": "scatterpolar",
            "marker": {
             "colorbar": {
              "outlinewidth": 0,
              "ticks": ""
             }
            }
           }
          ],
          "histogram": [
           {
            "marker": {
             "pattern": {
              "fillmode": "overlay",
              "size": 10,
              "solidity": 0.2
             }
            },
            "type": "histogram"
           }
          ],
          "scattergl": [
           {
            "type": "scattergl",
            "marker": {
             "colorbar": {
              "outlinewidth": 0,
              "ticks": ""
             }
            }
           }
          ],
          "scatter3d": [
           {
            "type": "scatter3d",
            "line": {
             "colorbar": {
              "outlinewidth": 0,
              "ticks": ""
             }
            },
            "marker": {
             "colorbar": {
              "outlinewidth": 0,
              "ticks": ""
             }
            }
           }
          ],
          "scattermapbox": [
           {
            "type": "scattermapbox",
            "marker": {
             "colorbar": {
              "outlinewidth": 0,
              "ticks": ""
             }
            }
           }
          ],
          "scatterternary": [
           {
            "type": "scatterternary",
            "marker": {
             "colorbar": {
              "outlinewidth": 0,
              "ticks": ""
             }
            }
           }
          ],
          "scattercarpet": [
           {
            "type": "scattercarpet",
            "marker": {
             "colorbar": {
              "outlinewidth": 0,
              "ticks": ""
             }
            }
           }
          ],
          "carpet": [
           {
            "aaxis": {
             "endlinecolor": "#2a3f5f",
             "gridcolor": "white",
             "linecolor": "white",
             "minorgridcolor": "white",
             "startlinecolor": "#2a3f5f"
            },
            "baxis": {
             "endlinecolor": "#2a3f5f",
             "gridcolor": "white",
             "linecolor": "white",
             "minorgridcolor": "white",
             "startlinecolor": "#2a3f5f"
            },
            "type": "carpet"
           }
          ],
          "table": [
           {
            "cells": {
             "fill": {
              "color": "#EBF0F8"
             },
             "line": {
              "color": "white"
             }
            },
            "header": {
             "fill": {
              "color": "#C8D4E3"
             },
             "line": {
              "color": "white"
             }
            },
            "type": "table"
           }
          ],
          "barpolar": [
           {
            "marker": {
             "line": {
              "color": "#E5ECF6",
              "width": 0.5
             },
             "pattern": {
              "fillmode": "overlay",
              "size": 10,
              "solidity": 0.2
             }
            },
            "type": "barpolar"
           }
          ],
          "pie": [
           {
            "automargin": true,
            "type": "pie"
           }
          ]
         },
         "layout": {
          "autotypenumbers": "strict",
          "colorway": [
           "#636efa",
           "#EF553B",
           "#00cc96",
           "#ab63fa",
           "#FFA15A",
           "#19d3f3",
           "#FF6692",
           "#B6E880",
           "#FF97FF",
           "#FECB52"
          ],
          "font": {
           "color": "#2a3f5f"
          },
          "hovermode": "closest",
          "hoverlabel": {
           "align": "left"
          },
          "paper_bgcolor": "white",
          "plot_bgcolor": "#E5ECF6",
          "polar": {
           "bgcolor": "#E5ECF6",
           "angularaxis": {
            "gridcolor": "white",
            "linecolor": "white",
            "ticks": ""
           },
           "radialaxis": {
            "gridcolor": "white",
            "linecolor": "white",
            "ticks": ""
           }
          },
          "ternary": {
           "bgcolor": "#E5ECF6",
           "aaxis": {
            "gridcolor": "white",
            "linecolor": "white",
            "ticks": ""
           },
           "baxis": {
            "gridcolor": "white",
            "linecolor": "white",
            "ticks": ""
           },
           "caxis": {
            "gridcolor": "white",
            "linecolor": "white",
            "ticks": ""
           }
          },
          "coloraxis": {
           "colorbar": {
            "outlinewidth": 0,
            "ticks": ""
           }
          },
          "colorscale": {
           "sequential": [
            [
             0.0,
             "#0d0887"
            ],
            [
             0.1111111111111111,
             "#46039f"
            ],
            [
             0.2222222222222222,
             "#7201a8"
            ],
            [
             0.3333333333333333,
             "#9c179e"
            ],
            [
             0.4444444444444444,
             "#bd3786"
            ],
            [
             0.5555555555555556,
             "#d8576b"
            ],
            [
             0.6666666666666666,
             "#ed7953"
            ],
            [
             0.7777777777777778,
             "#fb9f3a"
            ],
            [
             0.8888888888888888,
             "#fdca26"
            ],
            [
             1.0,
             "#f0f921"
            ]
           ],
           "sequentialminus": [
            [
             0.0,
             "#0d0887"
            ],
            [
             0.1111111111111111,
             "#46039f"
            ],
            [
             0.2222222222222222,
             "#7201a8"
            ],
            [
             0.3333333333333333,
             "#9c179e"
            ],
            [
             0.4444444444444444,
             "#bd3786"
            ],
            [
             0.5555555555555556,
             "#d8576b"
            ],
            [
             0.6666666666666666,
             "#ed7953"
            ],
            [
             0.7777777777777778,
             "#fb9f3a"
            ],
            [
             0.8888888888888888,
             "#fdca26"
            ],
            [
             1.0,
             "#f0f921"
            ]
           ],
           "diverging": [
            [
             0,
             "#8e0152"
            ],
            [
             0.1,
             "#c51b7d"
            ],
            [
             0.2,
             "#de77ae"
            ],
            [
             0.3,
             "#f1b6da"
            ],
            [
             0.4,
             "#fde0ef"
            ],
            [
             0.5,
             "#f7f7f7"
            ],
            [
             0.6,
             "#e6f5d0"
            ],
            [
             0.7,
             "#b8e186"
            ],
            [
             0.8,
             "#7fbc41"
            ],
            [
             0.9,
             "#4d9221"
            ],
            [
             1,
             "#276419"
            ]
           ]
          },
          "xaxis": {
           "gridcolor": "white",
           "linecolor": "white",
           "ticks": "",
           "title": {
            "standoff": 15
           },
           "zerolinecolor": "white",
           "automargin": true,
           "zerolinewidth": 2
          },
          "yaxis": {
           "gridcolor": "white",
           "linecolor": "white",
           "ticks": "",
           "title": {
            "standoff": 15
           },
           "zerolinecolor": "white",
           "automargin": true,
           "zerolinewidth": 2
          },
          "scene": {
           "xaxis": {
            "backgroundcolor": "#E5ECF6",
            "gridcolor": "white",
            "linecolor": "white",
            "showbackground": true,
            "ticks": "",
            "zerolinecolor": "white",
            "gridwidth": 2
           },
           "yaxis": {
            "backgroundcolor": "#E5ECF6",
            "gridcolor": "white",
            "linecolor": "white",
            "showbackground": true,
            "ticks": "",
            "zerolinecolor": "white",
            "gridwidth": 2
           },
           "zaxis": {
            "backgroundcolor": "#E5ECF6",
            "gridcolor": "white",
            "linecolor": "white",
            "showbackground": true,
            "ticks": "",
            "zerolinecolor": "white",
            "gridwidth": 2
           }
          },
          "shapedefaults": {
           "line": {
            "color": "#2a3f5f"
           }
          },
          "annotationdefaults": {
           "arrowcolor": "#2a3f5f",
           "arrowhead": 0,
           "arrowwidth": 1
          },
          "geo": {
           "bgcolor": "white",
           "landcolor": "#E5ECF6",
           "subunitcolor": "white",
           "showland": true,
           "showlakes": true,
           "lakecolor": "white"
          },
          "title": {
           "x": 0.05
          },
          "mapbox": {
           "style": "light"
          }
         }
        },
        "xaxis": {
         "anchor": "y",
         "domain": [
          0.0,
          1.0
         ],
         "title": {
          "text": "x"
         }
        },
        "yaxis": {
         "anchor": "x",
         "domain": [
          0.0,
          1.0
         ],
         "title": {
          "text": "y"
         }
        },
        "legend": {
         "tracegroupgap": 0
        },
        "margin": {
         "t": 60
        }
       },
       "config": {
        "plotlyServerURL": "https://plot.ly"
       }
      },
      "text/html": "<div>                            <div id=\"70a68f8d-cc4f-4a7f-934b-154a86da4186\" class=\"plotly-graph-div\" style=\"height:525px; width:100%;\"></div>            <script type=\"text/javascript\">                require([\"plotly\"], function(Plotly) {                    window.PLOTLYENV=window.PLOTLYENV || {};                                    if (document.getElementById(\"70a68f8d-cc4f-4a7f-934b-154a86da4186\")) {                    Plotly.newPlot(                        \"70a68f8d-cc4f-4a7f-934b-154a86da4186\",                        [{\"hovertemplate\":\"x=%{x}\\u003cbr\\u003ey=%{y}\\u003cbr\\u003etext=%{text}\\u003cextra\\u003e\\u003c\\u002fextra\\u003e\",\"legendgroup\":\"\",\"marker\":{\"color\":\"#636efa\",\"symbol\":\"circle\"},\"mode\":\"markers+text\",\"name\":\"\",\"orientation\":\"v\",\"showlegend\":false,\"text\":[\"que\",\"de\",\"y\",\"la\",\"a\",\"el\",\"en\",\"no\",\"se\",\"los\",\"con\",\"por\",\"las\",\"lo\",\"le\",\"su\",\"\",\"don\",\"del\",\"como\",\"me\",\"si\",\"mas\",\"mi\",\"quijote\",\"sancho\",\"es\",\"yo\",\"un\",\"dijo\",\"al\",\"para\",\"porque\",\"ni\",\"una\",\"tan\",\"o\",\"todo\",\"sin\",\"esta\",\"asi\",\"respondio\",\"senor\",\"ser\",\"ha\",\"sus\",\"bien\",\"habia\",\"pero\",\"merced\",\"quien\",\"esto\",\"pues\",\"vuestra\",\"todos\",\"este\",\"ya\",\"cuando\",\"era\",\"cual\",\"donde\",\"te\",\"sino\",\"dos\",\"caballero\",\"fue\",\"ella\",\"tu\",\"decir\",\"he\",\"muy\",\"hacer\",\"aquel\",\"aunque\",\"dios\",\"otra\",\"aqui\",\"senora\",\"otro\",\"son\",\"estaba\",\"hay\",\"os\",\"mal\",\"sobre\",\"nos\",\"cosa\",\"buen\",\"verdad\",\"tal\",\"alli\",\"tanto\",\"ver\",\"tengo\",\"luego\",\"mundo\",\"entre\",\"tiene\",\"mis\",\"hasta\",\"alguna\",\"poco\",\"dicho\",\"todas\",\"dar\",\"buena\",\"ahora\",\"parte\",\"aquella\",\"vida\",\"tenia\",\"uno\",\"han\",\"cosas\",\"menos\",\"les\",\"lugar\",\"aun\",\"gran\",\"soy\",\"eso\",\"casa\",\"panza\",\"manera\",\"tiempo\",\"digo\",\"toda\",\"cura\",\"estas\",\"puesto\",\"mano\",\"solo\",\"amo\",\"ellos\",\"dio\",\"caballeros\",\"mejor\",\"mucho\",\"antes\",\"fuera\",\"puede\",\"visto\",\"ojos\",\"sea\",\"dulcinea\",\"algun\",\"dia\",\"tierra\",\"otras\",\"hecho\",\"otros\",\"quiero\",\"padre\",\"hombre\",\"haber\",\"cuanto\",\"habian\",\"cielo\",\"amigo\",\"historia\",\"vio\",\"saber\",\"camino\",\"parece\",\"hizo\",\"estos\",\"escudero\",\"muchas\",\"tener\",\"dias\",\"manos\",\"desta\",\"fin\",\"tres\",\"tambien\",\"mujer\",\"dice\",\"sera\",\"cada\",\"mesmo\",\"cabeza\",\"cuenta\",\"nuestro\",\"noche\",\"punto\",\"vos\",\"replico\",\"fuese\",\"veces\",\"rocinante\",\"vuesa\",\"parecer\",\"duque\",\"muchos\",\"razones\",\"diciendo\",\"andante\",\"caballo\",\"debe\",\"grande\"],\"x\":[7.406472,2.068769,2.4378726,0.088201486,2.3552833,6.4560685,2.3494,7.517357,7.050466,-7.7808585,12.726361,2.320045,-17.311455,7.4345174,7.1493516,8.320236,21.23646,5.010537,-4.7465835,2.5180204,7.553371,7.5856967,6.4325604,7.24976,5.009714,27.038563,7.2583117,8.270221,10.011243,24.369087,11.496927,2.5219967,7.427155,20.931158,7.035112,15.822382,21.552946,6.136138,9.086543,18.098637,7.470532,21.24133,18.082977,4.7324243,10.572665,-12.602589,7.644191,3.6352756,7.4275866,23.930738,6.2303357,6.572597,7.495903,23.979366,14.736629,8.292195,8.635409,8.2885895,6.086417,7.914309,13.999365,11.433738,22.102938,-23.908815,8.021475,-4.982754,6.806111,15.402767,11.466773,15.368789,13.384253,7.3549914,-24.123486,7.015664,9.154995,13.561999,17.450392,-1.8962731,11.973437,-9.454221,-6.103664,27.041918,10.70419,9.365619,-10.758368,23.63571,10.058302,17.69216,8.209117,12.8806,-10.360753,6.642128,13.875292,8.33943,-9.640463,22.20176,-19.969553,9.163155,-2.585765,10.440679,11.578403,25.454506,8.149204,-12.782716,3.5157468,2.0039406,19.245714,1.6450423,-3.7953362,8.355536,8.287655,9.338564,-2.3152926,-12.35734,14.393023,0.7546054,-11.047302,7.1576066,-2.2215614,10.315578,22.26848,-17.93949,27.065695,14.108525,11.142805,20.163134,-5.432149,-1.971293,-23.29745,12.055388,-10.890598,7.122835,8.010113,-3.278927,-6.664904,-8.476971,3.3605947,24.2111,23.244457,6.8072443,14.124276,6.3798895,-7.405012,13.340232,-1.2963551,11.891996,4.547896,-6.0081496,-16.196634,7.0878963,-6.998873,18.828918,14.163426,19.595045,-1.4338214,8.450919,3.3313825,-0.6266057,21.412413,3.3042684,-5.3004036,17.575806,-6.009883,13.443134,10.597996,-10.362452,-2.3436694,-13.067737,14.198412,-7.999635,-14.349062,-27.36555,-0.34570062,-21.858961,15.385557,16.622913,12.977785,18.520975,9.380739,6.0993237,-12.721468,10.272355,9.368441,-13.193108,2.2122538,14.569664,22.05877,10.840875,1.4146864,-11.351493,23.91871,-3.5036094,-3.7314281,-2.948488,-14.574528,-3.641568,22.598415,-11.659293,14.586445,25.455662],\"xaxis\":\"x\",\"y\":[-2.7427907,-2.0265527,-2.0504637,-2.4594977,-2.2695987,-3.152557,-2.2305095,-2.7786174,-2.9605007,6.533188,-16.312912,-2.1565764,15.977523,-2.8210452,-3.0378788,-19.754457,-5.009294,-25.904312,-1.8228899,-2.2445533,-2.801616,-2.7710924,-2.5836494,-2.5728576,-25.902946,-2.393193,-2.1507452,-2.432072,-23.030094,1.1665239,-20.141409,-2.1464317,-2.7961385,-11.793319,-22.826895,17.90962,-10.908255,-2.479639,-16.253847,-8.160565,-3.2574904,-5.0999866,-6.8023806,-1.3637221,-2.2950978,8.3014555,-2.617885,-14.379096,-2.6449761,-1.66522,-3.2138953,-2.3411016,-2.4360301,-1.5979137,-21.152756,-2.8697789,-3.283265,-2.3058023,-19.737019,-6.7381473,-14.367315,-0.24684975,-3.7174394,-10.169489,11.449243,-13.20805,-3.0775783,8.719607,-15.9501295,-5.619656,-9.035145,-4.4480495,14.222511,-3.3043065,5.145684,-12.27357,-2.1712549,-3.1243804,-19.187334,11.302822,-13.178998,-3.972446,-0.80237764,-0.5591552,-10.774094,-11.228776,-14.693565,9.151791,-2.6168942,-18.365555,-19.577812,-4.1899114,-16.320782,2.4426033,-13.383808,-3.668418,3.2663798,3.518476,9.0049095,-19.890549,-2.906727,-5.636878,-3.9133134,12.416447,-6.3637433,-8.843996,0.022100864,-0.9690083,-5.523727,2.952883,-12.17123,-21.036604,9.395258,15.39106,-1.3120608,-15.333262,-16.452452,-3.4917388,-9.695518,12.6418,-1.6712542,-16.891685,-2.3989458,-18.57725,0.7602938,0.36279118,-3.2669926,-16.37177,9.821287,-6.2617574,-8.320773,-1.9735217,-4.5569634,9.352195,-8.454814,21.503372,6.641089,8.622474,11.641657,-9.63522,0.44630933,-5.023845,7.574448,3.9340754,-3.734141,6.776273,23.389124,-3.005096,9.157138,-0.44270974,11.24306,-0.025347684,-7.8309207,-11.8591,-2.071182,-3.6037266,-8.163736,8.669907,2.7965145,-2.471823,-14.343458,-3.5595167,-19.158014,-2.690648,-10.563618,19.484419,-21.30951,12.9214,-13.697568,5.968652,6.5964766,5.4752584,0.6698399,3.397263,-8.340358,9.587608,-5.3402233,3.8192742,-21.099554,-3.2332473,-9.456551,-18.884958,-4.7833114,-16.144003,-7.181663,8.120747,-0.845621,-10.000097,-25.391264,-13.2576885,-1.9512417,-14.01973,-14.964439,10.619248,11.138717,-16.769659,14.518104,-13.21911,-3.3356082,-9.300766],\"yaxis\":\"y\",\"type\":\"scatter\"}],                        {\"template\":{\"data\":{\"histogram2dcontour\":[{\"type\":\"histogram2dcontour\",\"colorbar\":{\"outlinewidth\":0,\"ticks\":\"\"},\"colorscale\":[[0.0,\"#0d0887\"],[0.1111111111111111,\"#46039f\"],[0.2222222222222222,\"#7201a8\"],[0.3333333333333333,\"#9c179e\"],[0.4444444444444444,\"#bd3786\"],[0.5555555555555556,\"#d8576b\"],[0.6666666666666666,\"#ed7953\"],[0.7777777777777778,\"#fb9f3a\"],[0.8888888888888888,\"#fdca26\"],[1.0,\"#f0f921\"]]}],\"choropleth\":[{\"type\":\"choropleth\",\"colorbar\":{\"outlinewidth\":0,\"ticks\":\"\"}}],\"histogram2d\":[{\"type\":\"histogram2d\",\"colorbar\":{\"outlinewidth\":0,\"ticks\":\"\"},\"colorscale\":[[0.0,\"#0d0887\"],[0.1111111111111111,\"#46039f\"],[0.2222222222222222,\"#7201a8\"],[0.3333333333333333,\"#9c179e\"],[0.4444444444444444,\"#bd3786\"],[0.5555555555555556,\"#d8576b\"],[0.6666666666666666,\"#ed7953\"],[0.7777777777777778,\"#fb9f3a\"],[0.8888888888888888,\"#fdca26\"],[1.0,\"#f0f921\"]]}],\"heatmap\":[{\"type\":\"heatmap\",\"colorbar\":{\"outlinewidth\":0,\"ticks\":\"\"},\"colorscale\":[[0.0,\"#0d0887\"],[0.1111111111111111,\"#46039f\"],[0.2222222222222222,\"#7201a8\"],[0.3333333333333333,\"#9c179e\"],[0.4444444444444444,\"#bd3786\"],[0.5555555555555556,\"#d8576b\"],[0.6666666666666666,\"#ed7953\"],[0.7777777777777778,\"#fb9f3a\"],[0.8888888888888888,\"#fdca26\"],[1.0,\"#f0f921\"]]}],\"heatmapgl\":[{\"type\":\"heatmapgl\",\"colorbar\":{\"outlinewidth\":0,\"ticks\":\"\"},\"colorscale\":[[0.0,\"#0d0887\"],[0.1111111111111111,\"#46039f\"],[0.2222222222222222,\"#7201a8\"],[0.3333333333333333,\"#9c179e\"],[0.4444444444444444,\"#bd3786\"],[0.5555555555555556,\"#d8576b\"],[0.6666666666666666,\"#ed7953\"],[0.7777777777777778,\"#fb9f3a\"],[0.8888888888888888,\"#fdca26\"],[1.0,\"#f0f921\"]]}],\"contourcarpet\":[{\"type\":\"contourcarpet\",\"colorbar\":{\"outlinewidth\":0,\"ticks\":\"\"}}],\"contour\":[{\"type\":\"contour\",\"colorbar\":{\"outlinewidth\":0,\"ticks\":\"\"},\"colorscale\":[[0.0,\"#0d0887\"],[0.1111111111111111,\"#46039f\"],[0.2222222222222222,\"#7201a8\"],[0.3333333333333333,\"#9c179e\"],[0.4444444444444444,\"#bd3786\"],[0.5555555555555556,\"#d8576b\"],[0.6666666666666666,\"#ed7953\"],[0.7777777777777778,\"#fb9f3a\"],[0.8888888888888888,\"#fdca26\"],[1.0,\"#f0f921\"]]}],\"surface\":[{\"type\":\"surface\",\"colorbar\":{\"outlinewidth\":0,\"ticks\":\"\"},\"colorscale\":[[0.0,\"#0d0887\"],[0.1111111111111111,\"#46039f\"],[0.2222222222222222,\"#7201a8\"],[0.3333333333333333,\"#9c179e\"],[0.4444444444444444,\"#bd3786\"],[0.5555555555555556,\"#d8576b\"],[0.6666666666666666,\"#ed7953\"],[0.7777777777777778,\"#fb9f3a\"],[0.8888888888888888,\"#fdca26\"],[1.0,\"#f0f921\"]]}],\"mesh3d\":[{\"type\":\"mesh3d\",\"colorbar\":{\"outlinewidth\":0,\"ticks\":\"\"}}],\"scatter\":[{\"fillpattern\":{\"fillmode\":\"overlay\",\"size\":10,\"solidity\":0.2},\"type\":\"scatter\"}],\"parcoords\":[{\"type\":\"parcoords\",\"line\":{\"colorbar\":{\"outlinewidth\":0,\"ticks\":\"\"}}}],\"scatterpolargl\":[{\"type\":\"scatterpolargl\",\"marker\":{\"colorbar\":{\"outlinewidth\":0,\"ticks\":\"\"}}}],\"bar\":[{\"error_x\":{\"color\":\"#2a3f5f\"},\"error_y\":{\"color\":\"#2a3f5f\"},\"marker\":{\"line\":{\"color\":\"#E5ECF6\",\"width\":0.5},\"pattern\":{\"fillmode\":\"overlay\",\"size\":10,\"solidity\":0.2}},\"type\":\"bar\"}],\"scattergeo\":[{\"type\":\"scattergeo\",\"marker\":{\"colorbar\":{\"outlinewidth\":0,\"ticks\":\"\"}}}],\"scatterpolar\":[{\"type\":\"scatterpolar\",\"marker\":{\"colorbar\":{\"outlinewidth\":0,\"ticks\":\"\"}}}],\"histogram\":[{\"marker\":{\"pattern\":{\"fillmode\":\"overlay\",\"size\":10,\"solidity\":0.2}},\"type\":\"histogram\"}],\"scattergl\":[{\"type\":\"scattergl\",\"marker\":{\"colorbar\":{\"outlinewidth\":0,\"ticks\":\"\"}}}],\"scatter3d\":[{\"type\":\"scatter3d\",\"line\":{\"colorbar\":{\"outlinewidth\":0,\"ticks\":\"\"}},\"marker\":{\"colorbar\":{\"outlinewidth\":0,\"ticks\":\"\"}}}],\"scattermapbox\":[{\"type\":\"scattermapbox\",\"marker\":{\"colorbar\":{\"outlinewidth\":0,\"ticks\":\"\"}}}],\"scatterternary\":[{\"type\":\"scatterternary\",\"marker\":{\"colorbar\":{\"outlinewidth\":0,\"ticks\":\"\"}}}],\"scattercarpet\":[{\"type\":\"scattercarpet\",\"marker\":{\"colorbar\":{\"outlinewidth\":0,\"ticks\":\"\"}}}],\"carpet\":[{\"aaxis\":{\"endlinecolor\":\"#2a3f5f\",\"gridcolor\":\"white\",\"linecolor\":\"white\",\"minorgridcolor\":\"white\",\"startlinecolor\":\"#2a3f5f\"},\"baxis\":{\"endlinecolor\":\"#2a3f5f\",\"gridcolor\":\"white\",\"linecolor\":\"white\",\"minorgridcolor\":\"white\",\"startlinecolor\":\"#2a3f5f\"},\"type\":\"carpet\"}],\"table\":[{\"cells\":{\"fill\":{\"color\":\"#EBF0F8\"},\"line\":{\"color\":\"white\"}},\"header\":{\"fill\":{\"color\":\"#C8D4E3\"},\"line\":{\"color\":\"white\"}},\"type\":\"table\"}],\"barpolar\":[{\"marker\":{\"line\":{\"color\":\"#E5ECF6\",\"width\":0.5},\"pattern\":{\"fillmode\":\"overlay\",\"size\":10,\"solidity\":0.2}},\"type\":\"barpolar\"}],\"pie\":[{\"automargin\":true,\"type\":\"pie\"}]},\"layout\":{\"autotypenumbers\":\"strict\",\"colorway\":[\"#636efa\",\"#EF553B\",\"#00cc96\",\"#ab63fa\",\"#FFA15A\",\"#19d3f3\",\"#FF6692\",\"#B6E880\",\"#FF97FF\",\"#FECB52\"],\"font\":{\"color\":\"#2a3f5f\"},\"hovermode\":\"closest\",\"hoverlabel\":{\"align\":\"left\"},\"paper_bgcolor\":\"white\",\"plot_bgcolor\":\"#E5ECF6\",\"polar\":{\"bgcolor\":\"#E5ECF6\",\"angularaxis\":{\"gridcolor\":\"white\",\"linecolor\":\"white\",\"ticks\":\"\"},\"radialaxis\":{\"gridcolor\":\"white\",\"linecolor\":\"white\",\"ticks\":\"\"}},\"ternary\":{\"bgcolor\":\"#E5ECF6\",\"aaxis\":{\"gridcolor\":\"white\",\"linecolor\":\"white\",\"ticks\":\"\"},\"baxis\":{\"gridcolor\":\"white\",\"linecolor\":\"white\",\"ticks\":\"\"},\"caxis\":{\"gridcolor\":\"white\",\"linecolor\":\"white\",\"ticks\":\"\"}},\"coloraxis\":{\"colorbar\":{\"outlinewidth\":0,\"ticks\":\"\"}},\"colorscale\":{\"sequential\":[[0.0,\"#0d0887\"],[0.1111111111111111,\"#46039f\"],[0.2222222222222222,\"#7201a8\"],[0.3333333333333333,\"#9c179e\"],[0.4444444444444444,\"#bd3786\"],[0.5555555555555556,\"#d8576b\"],[0.6666666666666666,\"#ed7953\"],[0.7777777777777778,\"#fb9f3a\"],[0.8888888888888888,\"#fdca26\"],[1.0,\"#f0f921\"]],\"sequentialminus\":[[0.0,\"#0d0887\"],[0.1111111111111111,\"#46039f\"],[0.2222222222222222,\"#7201a8\"],[0.3333333333333333,\"#9c179e\"],[0.4444444444444444,\"#bd3786\"],[0.5555555555555556,\"#d8576b\"],[0.6666666666666666,\"#ed7953\"],[0.7777777777777778,\"#fb9f3a\"],[0.8888888888888888,\"#fdca26\"],[1.0,\"#f0f921\"]],\"diverging\":[[0,\"#8e0152\"],[0.1,\"#c51b7d\"],[0.2,\"#de77ae\"],[0.3,\"#f1b6da\"],[0.4,\"#fde0ef\"],[0.5,\"#f7f7f7\"],[0.6,\"#e6f5d0\"],[0.7,\"#b8e186\"],[0.8,\"#7fbc41\"],[0.9,\"#4d9221\"],[1,\"#276419\"]]},\"xaxis\":{\"gridcolor\":\"white\",\"linecolor\":\"white\",\"ticks\":\"\",\"title\":{\"standoff\":15},\"zerolinecolor\":\"white\",\"automargin\":true,\"zerolinewidth\":2},\"yaxis\":{\"gridcolor\":\"white\",\"linecolor\":\"white\",\"ticks\":\"\",\"title\":{\"standoff\":15},\"zerolinecolor\":\"white\",\"automargin\":true,\"zerolinewidth\":2},\"scene\":{\"xaxis\":{\"backgroundcolor\":\"#E5ECF6\",\"gridcolor\":\"white\",\"linecolor\":\"white\",\"showbackground\":true,\"ticks\":\"\",\"zerolinecolor\":\"white\",\"gridwidth\":2},\"yaxis\":{\"backgroundcolor\":\"#E5ECF6\",\"gridcolor\":\"white\",\"linecolor\":\"white\",\"showbackground\":true,\"ticks\":\"\",\"zerolinecolor\":\"white\",\"gridwidth\":2},\"zaxis\":{\"backgroundcolor\":\"#E5ECF6\",\"gridcolor\":\"white\",\"linecolor\":\"white\",\"showbackground\":true,\"ticks\":\"\",\"zerolinecolor\":\"white\",\"gridwidth\":2}},\"shapedefaults\":{\"line\":{\"color\":\"#2a3f5f\"}},\"annotationdefaults\":{\"arrowcolor\":\"#2a3f5f\",\"arrowhead\":0,\"arrowwidth\":1},\"geo\":{\"bgcolor\":\"white\",\"landcolor\":\"#E5ECF6\",\"subunitcolor\":\"white\",\"showland\":true,\"showlakes\":true,\"lakecolor\":\"white\"},\"title\":{\"x\":0.05},\"mapbox\":{\"style\":\"light\"}}},\"xaxis\":{\"anchor\":\"y\",\"domain\":[0.0,1.0],\"title\":{\"text\":\"x\"}},\"yaxis\":{\"anchor\":\"x\",\"domain\":[0.0,1.0],\"title\":{\"text\":\"y\"}},\"legend\":{\"tracegroupgap\":0},\"margin\":{\"t\":60}},                        {\"responsive\": true}                    ).then(function(){\n                            \nvar gd = document.getElementById('70a68f8d-cc4f-4a7f-934b-154a86da4186');\nvar x = new MutationObserver(function (mutations, observer) {{\n        var display = window.getComputedStyle(gd).display;\n        if (!display || display === 'none') {{\n            console.log([gd, 'removed!']);\n            Plotly.purge(gd);\n            observer.disconnect();\n        }}\n}});\n\n// Listen for the removal of the full notebook cells\nvar notebookContainer = gd.closest('#notebook-container');\nif (notebookContainer) {{\n    x.observe(notebookContainer, {childList: true});\n}}\n\n// Listen for the clearing of the current output cell\nvar outputEl = gd.closest('.output');\nif (outputEl) {{\n    x.observe(outputEl, {childList: true});\n}}\n\n                        })                };                });            </script>        </div>"
     },
     "metadata": {},
     "output_type": "display_data"
    }
   ],
   "source": [
    "import plotly.express as px\n",
    "\n",
    "x_vals, y_vals, labels = reduce_dimensions(w2v_model)\n",
    "\n",
    "MAX_WORDS=200\n",
    "fig = px.scatter(x=x_vals[:MAX_WORDS], y=y_vals[:MAX_WORDS], text=labels[:MAX_WORDS])\n",
    "fig.show()"
   ],
   "metadata": {
    "collapsed": false,
    "ExecuteTime": {
     "end_time": "2023-07-18T23:47:40.677522400Z",
     "start_time": "2023-07-18T23:47:29.237549100Z"
    }
   }
  },
  {
   "cell_type": "code",
   "execution_count": 178,
   "outputs": [
    {
     "data": {
      "text/plain": "<Figure size 1600x900 with 2 Axes>",
      "image/png": "[encoded data removed]"
     },
     "metadata": {},
     "output_type": "display_data"
    }
   ],
   "source": [
    "test_words = ['don', 'quijote', 'amor', 'doncella', 'hombre', 'mujer', 'dulcinea']\n",
    "test_emb = [w2v_model.wv[w] for w in test_words]\n",
    "\n",
    "new_dulcinea = test_emb[0] + test_emb[1] + test_emb[2] + test_emb[3] - test_emb[4] + test_emb[5]\n",
    "\n",
    "new_words = test_words + ['new_dulcinea']\n",
    "new_emb = np.append(test_emb, new_dulcinea.reshape(1, -1), axis=0)\n",
    "\n",
    "dist = pairwise.cosine_similarity(new_emb, new_emb)\n",
    "\n",
    "plot_matrix_distance(new_words, dist)"
   ],
   "metadata": {
    "collapsed": false,
    "ExecuteTime": {
     "end_time": "2023-07-18T23:47:41.096445400Z",
     "start_time": "2023-07-18T23:47:40.677522400Z"
    }
   }
  },
  {
   "cell_type": "code",
   "execution_count": 179,
   "outputs": [
    {
     "data": {
      "application/vnd.plotly.v1+json": {
       "data": [
        {
         "hovertemplate": "x=%{x}<br>y=%{y}<br>text=%{text}<extra></extra>",
         "legendgroup": "",
         "marker": {
          "color": "#636efa",
          "symbol": "circle"
         },
         "mode": "markers+text",
         "name": "",
         "orientation": "v",
         "showlegend": false,
         "text": [
          "que",
          "de",
          "y",
          "la",
          "a",
          "el",
          "en",
          "no",
          "se",
          "los",
          "con",
          "por",
          "las",
          "lo",
          "le",
          "su",
          "",
          "don",
          "del",
          "como",
          "me",
          "si",
          "mas",
          "mi",
          "quijote",
          "sancho",
          "es",
          "yo",
          "un",
          "dijo",
          "al",
          "para",
          "porque",
          "ni",
          "una",
          "tan",
          "o",
          "todo",
          "sin",
          "esta",
          "asi",
          "respondio",
          "senor",
          "ser",
          "ha",
          "sus",
          "bien",
          "habia",
          "pero",
          "merced",
          "quien",
          "esto",
          "pues",
          "vuestra",
          "todos",
          "este",
          "ya",
          "cuando",
          "era",
          "cual",
          "donde",
          "te",
          "sino",
          "dos",
          "caballero",
          "fue",
          "ella",
          "tu",
          "decir",
          "he",
          "muy",
          "hacer",
          "aquel",
          "aunque",
          "dios",
          "otra",
          "aqui",
          "senora",
          "otro",
          "son",
          "estaba",
          "hay",
          "os",
          "mal",
          "sobre",
          "nos",
          "cosa",
          "buen",
          "verdad",
          "tal",
          "alli",
          "tanto",
          "ver",
          "tengo",
          "luego",
          "mundo",
          "entre",
          "tiene",
          "mis",
          "hasta",
          "alguna",
          "poco",
          "dicho",
          "todas",
          "dar",
          "buena",
          "ahora",
          "parte",
          "aquella",
          "vida",
          "tenia",
          "uno",
          "han",
          "cosas",
          "menos",
          "les",
          "lugar",
          "aun",
          "gran",
          "soy",
          "eso",
          "casa",
          "panza",
          "manera",
          "tiempo",
          "digo",
          "toda",
          "cura",
          "estas",
          "puesto",
          "mano",
          "solo",
          "amo",
          "ellos",
          "dio",
          "caballeros",
          "mejor",
          "mucho",
          "antes",
          "fuera",
          "puede",
          "visto",
          "ojos",
          "sea",
          "dulcinea",
          "algun",
          "dia",
          "tierra",
          "otras",
          "hecho",
          "otros",
          "quiero",
          "padre",
          "hombre",
          "haber",
          "cuanto",
          "habian",
          "cielo",
          "amigo",
          "historia",
          "vio",
          "saber",
          "camino",
          "parece",
          "hizo",
          "estos",
          "escudero",
          "muchas",
          "tener",
          "dias",
          "manos",
          "desta",
          "fin",
          "tres",
          "tambien",
          "mujer",
          "dice",
          "sera",
          "cada",
          "mesmo",
          "cabeza",
          "cuenta",
          "nuestro",
          "noche",
          "punto",
          "vos",
          "replico",
          "fuese",
          "veces",
          "rocinante",
          "vuesa",
          "parecer",
          "duque",
          "muchos",
          "razones",
          "diciendo",
          "andante",
          "caballo",
          "debe",
          "grande"
         ],
         "x": [
          7.406472,
          2.068769,
          2.4378726,
          0.088201486,
          2.3552833,
          6.4560685,
          2.3494,
          7.517357,
          7.050466,
          -7.7808585,
          12.726361,
          2.320045,
          -17.311455,
          7.4345174,
          7.1493516,
          8.320236,
          21.23646,
          5.010537,
          -4.7465835,
          2.5180204,
          7.553371,
          7.5856967,
          6.4325604,
          7.24976,
          5.009714,
          27.038563,
          7.2583117,
          8.270221,
          10.011243,
          24.369087,
          11.496927,
          2.5219967,
          7.427155,
          20.931158,
          7.035112,
          15.822382,
          21.552946,
          6.136138,
          9.086543,
          18.098637,
          7.470532,
          21.24133,
          18.082977,
          4.7324243,
          10.572665,
          -12.602589,
          7.644191,
          3.6352756,
          7.4275866,
          23.930738,
          6.2303357,
          6.572597,
          7.495903,
          23.979366,
          14.736629,
          8.292195,
          8.635409,
          8.2885895,
          6.086417,
          7.914309,
          13.999365,
          11.433738,
          22.102938,
          -23.908815,
          8.021475,
          -4.982754,
          6.806111,
          15.402767,
          11.466773,
          15.368789,
          13.384253,
          7.3549914,
          -24.123486,
          7.015664,
          9.154995,
          13.561999,
          17.450392,
          -1.8962731,
          11.973437,
          -9.454221,
          -6.103664,
          27.041918,
          10.70419,
          9.365619,
          -10.758368,
          23.63571,
          10.058302,
          17.69216,
          8.209117,
          12.8806,
          -10.360753,
          6.642128,
          13.875292,
          8.33943,
          -9.640463,
          22.20176,
          -19.969553,
          9.163155,
          -2.585765,
          10.440679,
          11.578403,
          25.454506,
          8.149204,
          -12.782716,
          3.5157468,
          2.0039406,
          19.245714,
          1.6450423,
          -3.7953362,
          8.355536,
          8.287655,
          9.338564,
          -2.3152926,
          -12.35734,
          14.393023,
          0.7546054,
          -11.047302,
          7.1576066,
          -2.2215614,
          10.315578,
          22.26848,
          -17.93949,
          27.065695,
          14.108525,
          11.142805,
          20.163134,
          -5.432149,
          -1.971293,
          -23.29745,
          12.055388,
          -10.890598,
          7.122835,
          8.010113,
          -3.278927,
          -6.664904,
          -8.476971,
          3.3605947,
          24.2111,
          23.244457,
          6.8072443,
          14.124276,
          6.3798895,
          -7.405012,
          13.340232,
          -1.2963551,
          11.891996,
          4.547896,
          -6.0081496,
          -16.196634,
          7.0878963,
          -6.998873,
          18.828918,
          14.163426,
          19.595045,
          -1.4338214,
          8.450919,
          3.3313825,
          -0.6266057,
          21.412413,
          3.3042684,
          -5.3004036,
          17.575806,
          -6.009883,
          13.443134,
          10.597996,
          -10.362452,
          -2.3436694,
          -13.067737,
          14.198412,
          -7.999635,
          -14.349062,
          -27.36555,
          -0.34570062,
          -21.858961,
          15.385557,
          16.622913,
          12.977785,
          18.520975,
          9.380739,
          6.0993237,
          -12.721468,
          10.272355,
          9.368441,
          -13.193108,
          2.2122538,
          14.569664,
          22.05877,
          10.840875,
          1.4146864,
          -11.351493,
          23.91871,
          -3.5036094,
          -3.7314281,
          -2.948488,
          -14.574528,
          -3.641568,
          22.598415,
          -11.659293,
          14.586445,
          25.455662
         ],
         "xaxis": "x",
         "y": [
          -2.7427907,
          -2.0265527,
          -2.0504637,
          -2.4594977,
          -2.2695987,
          -3.152557,
          -2.2305095,
          -2.7786174,
          -2.9605007,
          6.533188,
          -16.312912,
          -2.1565764,
          15.977523,
          -2.8210452,
          -3.0378788,
          -19.754457,
          -5.009294,
          -25.904312,
          -1.8228899,
          -2.2445533,
          -2.801616,
          -2.7710924,
          -2.5836494,
          -2.5728576,
          -25.902946,
          -2.393193,
          -2.1507452,
          -2.432072,
          -23.030094,
          1.1665239,
          -20.141409,
          -2.1464317,
          -2.7961385,
          -11.793319,
          -22.826895,
          17.90962,
          -10.908255,
          -2.479639,
          -16.253847,
          -8.160565,
          -3.2574904,
          -5.0999866,
          -6.8023806,
          -1.3637221,
          -2.2950978,
          8.3014555,
          -2.617885,
          -14.379096,
          -2.6449761,
          -1.66522,
          -3.2138953,
          -2.3411016,
          -2.4360301,
          -1.5979137,
          -21.152756,
          -2.8697789,
          -3.283265,
          -2.3058023,
          -19.737019,
          -6.7381473,
          -14.367315,
          -0.24684975,
          -3.7174394,
          -10.169489,
          11.449243,
          -13.20805,
          -3.0775783,
          8.719607,
          -15.9501295,
          -5.619656,
          -9.035145,
          -4.4480495,
          14.222511,
          -3.3043065,
          5.145684,
          -12.27357,
          -2.1712549,
          -3.1243804,
          -19.187334,
          11.302822,
          -13.178998,
          -3.972446,
          -0.80237764,
          -0.5591552,
          -10.774094,
          -11.228776,
          -14.693565,
          9.151791,
          -2.6168942,
          -18.365555,
          -19.577812,
          -4.1899114,
          -16.320782,
          2.4426033,
          -13.383808,
          -3.668418,
          3.2663798,
          3.518476,
          9.0049095,
          -19.890549,
          -2.906727,
          -5.636878,
          -3.9133134,
          12.416447,
          -6.3637433,
          -8.843996,
          0.022100864,
          -0.9690083,
          -5.523727,
          2.952883,
          -12.17123,
          -21.036604,
          9.395258,
          15.39106,
          -1.3120608,
          -15.333262,
          -16.452452,
          -3.4917388,
          -9.695518,
          12.6418,
          -1.6712542,
          -16.891685,
          -2.3989458,
          -18.57725,
          0.7602938,
          0.36279118,
          -3.2669926,
          -16.37177,
          9.821287,
          -6.2617574,
          -8.320773,
          -1.9735217,
          -4.5569634,
          9.352195,
          -8.454814,
          21.503372,
          6.641089,
          8.622474,
          11.641657,
          -9.63522,
          0.44630933,
          -5.023845,
          7.574448,
          3.9340754,
          -3.734141,
          6.776273,
          23.389124,
          -3.005096,
          9.157138,
          -0.44270974,
          11.24306,
          -0.025347684,
          -7.8309207,
          -11.8591,
          -2.071182,
          -3.6037266,
          -8.163736,
          8.669907,
          2.7965145,
          -2.471823,
          -14.343458,
          -3.5595167,
          -19.158014,
          -2.690648,
          -10.563618,
          19.484419,
          -21.30951,
          12.9214,
          -13.697568,
          5.968652,
          6.5964766,
          5.4752584,
          0.6698399,
          3.397263,
          -8.340358,
          9.587608,
          -5.3402233,
          3.8192742,
          -21.099554,
          -3.2332473,
          -9.456551,
          -18.884958,
          -4.7833114,
          -16.144003,
          -7.181663,
          8.120747,
          -0.845621,
          -10.000097,
          -25.391264,
          -13.2576885,
          -1.9512417,
          -14.01973,
          -14.964439,
          10.619248,
          11.138717,
          -16.769659,
          14.518104,
          -13.21911,
          -3.3356082,
          -9.300766
         ],
         "yaxis": "y",
         "type": "scatter"
        }
       ],
       "layout": {
        "template": {
         "data": {
          "histogram2dcontour": [
           {
            "type": "histogram2dcontour",
            "colorbar": {
             "outlinewidth": 0,
             "ticks": ""
            },
            "colorscale": [
             [
              0.0,
              "#0d0887"
             ],
             [
              0.1111111111111111,
              "#46039f"
             ],
             [
              0.2222222222222222,
              "#7201a8"
             ],
             [
              0.3333333333333333,
              "#9c179e"
             ],
             [
              0.4444444444444444,
              "#bd3786"
             ],
             [
              0.5555555555555556,
              "#d8576b"
             ],
             [
              0.6666666666666666,
              "#ed7953"
             ],
             [
              0.7777777777777778,
              "#fb9f3a"
             ],
             [
              0.8888888888888888,
              "#fdca26"
             ],
             [
              1.0,
              "#f0f921"
             ]
            ]
           }
          ],
          "choropleth": [
           {
            "type": "choropleth",
            "colorbar": {
             "outlinewidth": 0,
             "ticks": ""
            }
           }
          ],
          "histogram2d": [
           {
            "type": "histogram2d",
            "colorbar": {
             "outlinewidth": 0,
             "ticks": ""
            },
            "colorscale": [
             [
              0.0,
              "#0d0887"
             ],
             [
              0.1111111111111111,
              "#46039f"
             ],
             [
              0.2222222222222222,
              "#7201a8"
             ],
             [
              0.3333333333333333,
              "#9c179e"
             ],
             [
              0.4444444444444444,
              "#bd3786"
             ],
             [
              0.5555555555555556,
              "#d8576b"
             ],
             [
              0.6666666666666666,
              "#ed7953"
             ],
             [
              0.7777777777777778,
              "#fb9f3a"
             ],
             [
              0.8888888888888888,
              "#fdca26"
             ],
             [
              1.0,
              "#f0f921"
             ]
            ]
           }
          ],
          "heatmap": [
           {
            "type": "heatmap",
            "colorbar": {
             "outlinewidth": 0,
             "ticks": ""
            },
            "colorscale": [
             [
              0.0,
              "#0d0887"
             ],
             [
              0.1111111111111111,
              "#46039f"
             ],
             [
              0.2222222222222222,
              "#7201a8"
             ],
             [
              0.3333333333333333,
              "#9c179e"
             ],
             [
              0.4444444444444444,
              "#bd3786"
             ],
             [
              0.5555555555555556,
              "#d8576b"
             ],
             [
              0.6666666666666666,
              "#ed7953"
             ],
             [
              0.7777777777777778,
              "#fb9f3a"
             ],
             [
              0.8888888888888888,
              "#fdca26"
             ],
             [
              1.0,
              "#f0f921"
             ]
            ]
           }
          ],
          "heatmapgl": [
           {
            "type": "heatmapgl",
            "colorbar": {
             "outlinewidth": 0,
             "ticks": ""
            },
            "colorscale": [
             [
              0.0,
              "#0d0887"
             ],
             [
              0.1111111111111111,
              "#46039f"
             ],
             [
              0.2222222222222222,
              "#7201a8"
             ],
             [
              0.3333333333333333,
              "#9c179e"
             ],
             [
              0.4444444444444444,
              "#bd3786"
             ],
             [
              0.5555555555555556,
              "#d8576b"
             ],
             [
              0.6666666666666666,
              "#ed7953"
             ],
             [
              0.7777777777777778,
              "#fb9f3a"
             ],
             [
              0.8888888888888888,
              "#fdca26"
             ],
             [
              1.0,
              "#f0f921"
             ]
            ]
           }
          ],
          "contourcarpet": [
           {
            "type": "contourcarpet",
            "colorbar": {
             "outlinewidth": 0,
             "ticks": ""
            }
           }
          ],
          "contour": [
           {
            "type": "contour",
            "colorbar": {
             "outlinewidth": 0,
             "ticks": ""
            },
            "colorscale": [
             [
              0.0,
              "#0d0887"
             ],
             [
              0.1111111111111111,
              "#46039f"
             ],
             [
              0.2222222222222222,
              "#7201a8"
             ],
             [
              0.3333333333333333,
              "#9c179e"
             ],
             [
              0.4444444444444444,
              "#bd3786"
             ],
             [
              0.5555555555555556,
              "#d8576b"
             ],
             [
              0.6666666666666666,
              "#ed7953"
             ],
             [
              0.7777777777777778,
              "#fb9f3a"
             ],
             [
              0.8888888888888888,
              "#fdca26"
             ],
             [
              1.0,
              "#f0f921"
             ]
            ]
           }
          ],
          "surface": [
           {
            "type": "surface",
            "colorbar": {
             "outlinewidth": 0,
             "ticks": ""
            },
            "colorscale": [
             [
              0.0,
              "#0d0887"
             ],
             [
              0.1111111111111111,
              "#46039f"
             ],
             [
              0.2222222222222222,
              "#7201a8"
             ],
             [
              0.3333333333333333,
              "#9c179e"
             ],
             [
              0.4444444444444444,
              "#bd3786"
             ],
             [
              0.5555555555555556,
              "#d8576b"
             ],
             [
              0.6666666666666666,
              "#ed7953"
             ],
             [
              0.7777777777777778,
              "#fb9f3a"
             ],
             [
              0.8888888888888888,
              "#fdca26"
             ],
             [
              1.0,
              "#f0f921"
             ]
            ]
           }
          ],
          "mesh3d": [
           {
            "type": "mesh3d",
            "colorbar": {
             "outlinewidth": 0,
             "ticks": ""
            }
           }
          ],
          "scatter": [
           {
            "fillpattern": {
             "fillmode": "overlay",
             "size": 10,
             "solidity": 0.2
            },
            "type": "scatter"
           }
          ],
          "parcoords": [
           {
            "type": "parcoords",
            "line": {
             "colorbar": {
              "outlinewidth": 0,
              "ticks": ""
             }
            }
           }
          ],
          "scatterpolargl": [
           {
            "type": "scatterpolargl",
            "marker": {
             "colorbar": {
              "outlinewidth": 0,
              "ticks": ""
             }
            }
           }
          ],
          "bar": [
           {
            "error_x": {
             "color": "#2a3f5f"
            },
            "error_y": {
             "color": "#2a3f5f"
            },
            "marker": {
             "line": {
              "color": "#E5ECF6",
              "width": 0.5
             },
             "pattern": {
              "fillmode": "overlay",
              "size": 10,
              "solidity": 0.2
             }
            },
            "type": "bar"
           }
          ],
          "scattergeo": [
           {
            "type": "scattergeo",
            "marker": {
             "colorbar": {
              "outlinewidth": 0,
              "ticks": ""
             }
            }
           }
          ],
          "scatterpolar": [
           {
            "type": "scatterpolar",
            "marker": {
             "colorbar": {
              "outlinewidth": 0,
              "ticks": ""
             }
            }
           }
          ],
          "histogram": [
           {
            "marker": {
             "pattern": {
              "fillmode": "overlay",
              "size": 10,
              "solidity": 0.2
             }
            },
            "type": "histogram"
           }
          ],
          "scattergl": [
           {
            "type": "scattergl",
            "marker": {
             "colorbar": {
              "outlinewidth": 0,
              "ticks": ""
             }
            }
           }
          ],
          "scatter3d": [
           {
            "type": "scatter3d",
            "line": {
             "colorbar": {
              "outlinewidth": 0,
              "ticks": ""
             }
            },
            "marker": {
             "colorbar": {
              "outlinewidth": 0,
              "ticks": ""
             }
            }
           }
          ],
          "scattermapbox": [
           {
            "type": "scattermapbox",
            "marker": {
             "colorbar": {
              "outlinewidth": 0,
              "ticks": ""
             }
            }
           }
          ],
          "scatterternary": [
           {
            "type": "scatterternary",
            "marker": {
             "colorbar": {
              "outlinewidth": 0,
              "ticks": ""
             }
            }
           }
          ],
          "scattercarpet": [
           {
            "type": "scattercarpet",
            "marker": {
             "colorbar": {
              "outlinewidth": 0,
              "ticks": ""
             }
            }
           }
          ],
          "carpet": [
           {
            "aaxis": {
             "endlinecolor": "#2a3f5f",
             "gridcolor": "white",
             "linecolor": "white",
             "minorgridcolor": "white",
             "startlinecolor": "#2a3f5f"
            },
            "baxis": {
             "endlinecolor": "#2a3f5f",
             "gridcolor": "white",
             "linecolor": "white",
             "minorgridcolor": "white",
             "startlinecolor": "#2a3f5f"
            },
            "type": "carpet"
           }
          ],
          "table": [
           {
            "cells": {
             "fill": {
              "color": "#EBF0F8"
             },
             "line": {
              "color": "white"
             }
            },
            "header": {
             "fill": {
              "color": "#C8D4E3"
             },
             "line": {
              "color": "white"
             }
            },
            "type": "table"
           }
          ],
          "barpolar": [
           {
            "marker": {
             "line": {
              "color": "#E5ECF6",
              "width": 0.5
             },
             "pattern": {
              "fillmode": "overlay",
              "size": 10,
              "solidity": 0.2
             }
            },
            "type": "barpolar"
           }
          ],
          "pie": [
           {
            "automargin": true,
            "type": "pie"
           }
          ]
         },
         "layout": {
          "autotypenumbers": "strict",
          "colorway": [
           "#636efa",
           "#EF553B",
           "#00cc96",
           "#ab63fa",
           "#FFA15A",
           "#19d3f3",
           "#FF6692",
           "#B6E880",
           "#FF97FF",
           "#FECB52"
          ],
          "font": {
           "color": "#2a3f5f"
          },
          "hovermode": "closest",
          "hoverlabel": {
           "align": "left"
          },
          "paper_bgcolor": "white",
          "plot_bgcolor": "#E5ECF6",
          "polar": {
           "bgcolor": "#E5ECF6",
           "angularaxis": {
            "gridcolor": "white",
            "linecolor": "white",
            "ticks": ""
           },
           "radialaxis": {
            "gridcolor": "white",
            "linecolor": "white",
            "ticks": ""
           }
          },
          "ternary": {
           "bgcolor": "#E5ECF6",
           "aaxis": {
            "gridcolor": "white",
            "linecolor": "white",
            "ticks": ""
           },
           "baxis": {
            "gridcolor": "white",
            "linecolor": "white",
            "ticks": ""
           },
           "caxis": {
            "gridcolor": "white",
            "linecolor": "white",
            "ticks": ""
           }
          },
          "coloraxis": {
           "colorbar": {
            "outlinewidth": 0,
            "ticks": ""
           }
          },
          "colorscale": {
           "sequential": [
            [
             0.0,
             "#0d0887"
            ],
            [
             0.1111111111111111,
             "#46039f"
            ],
            [
             0.2222222222222222,
             "#7201a8"
            ],
            [
             0.3333333333333333,
             "#9c179e"
            ],
            [
             0.4444444444444444,
             "#bd3786"
            ],
            [
             0.5555555555555556,
             "#d8576b"
            ],
            [
             0.6666666666666666,
             "#ed7953"
            ],
            [
             0.7777777777777778,
             "#fb9f3a"
            ],
            [
             0.8888888888888888,
             "#fdca26"
            ],
            [
             1.0,
             "#f0f921"
            ]
           ],
           "sequentialminus": [
            [
             0.0,
             "#0d0887"
            ],
            [
             0.1111111111111111,
             "#46039f"
            ],
            [
             0.2222222222222222,
             "#7201a8"
            ],
            [
             0.3333333333333333,
             "#9c179e"
            ],
            [
             0.4444444444444444,
             "#bd3786"
            ],
            [
             0.5555555555555556,
             "#d8576b"
            ],
            [
             0.6666666666666666,
             "#ed7953"
            ],
            [
             0.7777777777777778,
             "#fb9f3a"
            ],
            [
             0.8888888888888888,
             "#fdca26"
            ],
            [
             1.0,
             "#f0f921"
            ]
           ],
           "diverging": [
            [
             0,
             "#8e0152"
            ],
            [
             0.1,
             "#c51b7d"
            ],
            [
             0.2,
             "#de77ae"
            ],
            [
             0.3,
             "#f1b6da"
            ],
            [
             0.4,
             "#fde0ef"
            ],
            [
             0.5,
             "#f7f7f7"
            ],
            [
             0.6,
             "#e6f5d0"
            ],
            [
             0.7,
             "#b8e186"
            ],
            [
             0.8,
             "#7fbc41"
            ],
            [
             0.9,
             "#4d9221"
            ],
            [
             1,
             "#276419"
            ]
           ]
          },
          "xaxis": {
           "gridcolor": "white",
           "linecolor": "white",
           "ticks": "",
           "title": {
            "standoff": 15
           },
           "zerolinecolor": "white",
           "automargin": true,
           "zerolinewidth": 2
          },
          "yaxis": {
           "gridcolor": "white",
           "linecolor": "white",
           "ticks": "",
           "title": {
            "standoff": 15
           },
           "zerolinecolor": "white",
           "automargin": true,
           "zerolinewidth": 2
          },
          "scene": {
           "xaxis": {
            "backgroundcolor": "#E5ECF6",
            "gridcolor": "white",
            "linecolor": "white",
            "showbackground": true,
            "ticks": "",
            "zerolinecolor": "white",
            "gridwidth": 2
           },
           "yaxis": {
            "backgroundcolor": "#E5ECF6",
            "gridcolor": "white",
            "linecolor": "white",
            "showbackground": true,
            "ticks": "",
            "zerolinecolor": "white",
            "gridwidth": 2
           },
           "zaxis": {
            "backgroundcolor": "#E5ECF6",
            "gridcolor": "white",
            "linecolor": "white",
            "showbackground": true,
            "ticks": "",
            "zerolinecolor": "white",
            "gridwidth": 2
           }
          },
          "shapedefaults": {
           "line": {
            "color": "#2a3f5f"
           }
          },
          "annotationdefaults": {
           "arrowcolor": "#2a3f5f",
           "arrowhead": 0,
           "arrowwidth": 1
          },
          "geo": {
           "bgcolor": "white",
           "landcolor": "#E5ECF6",
           "subunitcolor": "white",
           "showland": true,
           "showlakes": true,
           "lakecolor": "white"
          },
          "title": {
           "x": 0.05
          },
          "mapbox": {
           "style": "light"
          }
         }
        },
        "xaxis": {
         "anchor": "y",
         "domain": [
          0.0,
          1.0
         ],
         "title": {
          "text": "x"
         }
        },
        "yaxis": {
         "anchor": "x",
         "domain": [
          0.0,
          1.0
         ],
         "title": {
          "text": "y"
         }
        },
        "legend": {
         "tracegroupgap": 0
        },
        "margin": {
         "t": 60
        }
       },
       "config": {
        "plotlyServerURL": "https://plot.ly"
       }
      },
      "text/html": "<div>                            <div id=\"452ae15f-3940-47cc-8e8a-fa76303e4c39\" class=\"plotly-graph-div\" style=\"height:525px; width:100%;\"></div>            <script type=\"text/javascript\">                require([\"plotly\"], function(Plotly) {                    window.PLOTLYENV=window.PLOTLYENV || {};                                    if (document.getElementById(\"452ae15f-3940-47cc-8e8a-fa76303e4c39\")) {                    Plotly.newPlot(                        \"452ae15f-3940-47cc-8e8a-fa76303e4c39\",                        [{\"hovertemplate\":\"x=%{x}\\u003cbr\\u003ey=%{y}\\u003cbr\\u003etext=%{text}\\u003cextra\\u003e\\u003c\\u002fextra\\u003e\",\"legendgroup\":\"\",\"marker\":{\"color\":\"#636efa\",\"symbol\":\"circle\"},\"mode\":\"markers+text\",\"name\":\"\",\"orientation\":\"v\",\"showlegend\":false,\"text\":[\"que\",\"de\",\"y\",\"la\",\"a\",\"el\",\"en\",\"no\",\"se\",\"los\",\"con\",\"por\",\"las\",\"lo\",\"le\",\"su\",\"\",\"don\",\"del\",\"como\",\"me\",\"si\",\"mas\",\"mi\",\"quijote\",\"sancho\",\"es\",\"yo\",\"un\",\"dijo\",\"al\",\"para\",\"porque\",\"ni\",\"una\",\"tan\",\"o\",\"todo\",\"sin\",\"esta\",\"asi\",\"respondio\",\"senor\",\"ser\",\"ha\",\"sus\",\"bien\",\"habia\",\"pero\",\"merced\",\"quien\",\"esto\",\"pues\",\"vuestra\",\"todos\",\"este\",\"ya\",\"cuando\",\"era\",\"cual\",\"donde\",\"te\",\"sino\",\"dos\",\"caballero\",\"fue\",\"ella\",\"tu\",\"decir\",\"he\",\"muy\",\"hacer\",\"aquel\",\"aunque\",\"dios\",\"otra\",\"aqui\",\"senora\",\"otro\",\"son\",\"estaba\",\"hay\",\"os\",\"mal\",\"sobre\",\"nos\",\"cosa\",\"buen\",\"verdad\",\"tal\",\"alli\",\"tanto\",\"ver\",\"tengo\",\"luego\",\"mundo\",\"entre\",\"tiene\",\"mis\",\"hasta\",\"alguna\",\"poco\",\"dicho\",\"todas\",\"dar\",\"buena\",\"ahora\",\"parte\",\"aquella\",\"vida\",\"tenia\",\"uno\",\"han\",\"cosas\",\"menos\",\"les\",\"lugar\",\"aun\",\"gran\",\"soy\",\"eso\",\"casa\",\"panza\",\"manera\",\"tiempo\",\"digo\",\"toda\",\"cura\",\"estas\",\"puesto\",\"mano\",\"solo\",\"amo\",\"ellos\",\"dio\",\"caballeros\",\"mejor\",\"mucho\",\"antes\",\"fuera\",\"puede\",\"visto\",\"ojos\",\"sea\",\"dulcinea\",\"algun\",\"dia\",\"tierra\",\"otras\",\"hecho\",\"otros\",\"quiero\",\"padre\",\"hombre\",\"haber\",\"cuanto\",\"habian\",\"cielo\",\"amigo\",\"historia\",\"vio\",\"saber\",\"camino\",\"parece\",\"hizo\",\"estos\",\"escudero\",\"muchas\",\"tener\",\"dias\",\"manos\",\"desta\",\"fin\",\"tres\",\"tambien\",\"mujer\",\"dice\",\"sera\",\"cada\",\"mesmo\",\"cabeza\",\"cuenta\",\"nuestro\",\"noche\",\"punto\",\"vos\",\"replico\",\"fuese\",\"veces\",\"rocinante\",\"vuesa\",\"parecer\",\"duque\",\"muchos\",\"razones\",\"diciendo\",\"andante\",\"caballo\",\"debe\",\"grande\"],\"x\":[7.406472,2.068769,2.4378726,0.088201486,2.3552833,6.4560685,2.3494,7.517357,7.050466,-7.7808585,12.726361,2.320045,-17.311455,7.4345174,7.1493516,8.320236,21.23646,5.010537,-4.7465835,2.5180204,7.553371,7.5856967,6.4325604,7.24976,5.009714,27.038563,7.2583117,8.270221,10.011243,24.369087,11.496927,2.5219967,7.427155,20.931158,7.035112,15.822382,21.552946,6.136138,9.086543,18.098637,7.470532,21.24133,18.082977,4.7324243,10.572665,-12.602589,7.644191,3.6352756,7.4275866,23.930738,6.2303357,6.572597,7.495903,23.979366,14.736629,8.292195,8.635409,8.2885895,6.086417,7.914309,13.999365,11.433738,22.102938,-23.908815,8.021475,-4.982754,6.806111,15.402767,11.466773,15.368789,13.384253,7.3549914,-24.123486,7.015664,9.154995,13.561999,17.450392,-1.8962731,11.973437,-9.454221,-6.103664,27.041918,10.70419,9.365619,-10.758368,23.63571,10.058302,17.69216,8.209117,12.8806,-10.360753,6.642128,13.875292,8.33943,-9.640463,22.20176,-19.969553,9.163155,-2.585765,10.440679,11.578403,25.454506,8.149204,-12.782716,3.5157468,2.0039406,19.245714,1.6450423,-3.7953362,8.355536,8.287655,9.338564,-2.3152926,-12.35734,14.393023,0.7546054,-11.047302,7.1576066,-2.2215614,10.315578,22.26848,-17.93949,27.065695,14.108525,11.142805,20.163134,-5.432149,-1.971293,-23.29745,12.055388,-10.890598,7.122835,8.010113,-3.278927,-6.664904,-8.476971,3.3605947,24.2111,23.244457,6.8072443,14.124276,6.3798895,-7.405012,13.340232,-1.2963551,11.891996,4.547896,-6.0081496,-16.196634,7.0878963,-6.998873,18.828918,14.163426,19.595045,-1.4338214,8.450919,3.3313825,-0.6266057,21.412413,3.3042684,-5.3004036,17.575806,-6.009883,13.443134,10.597996,-10.362452,-2.3436694,-13.067737,14.198412,-7.999635,-14.349062,-27.36555,-0.34570062,-21.858961,15.385557,16.622913,12.977785,18.520975,9.380739,6.0993237,-12.721468,10.272355,9.368441,-13.193108,2.2122538,14.569664,22.05877,10.840875,1.4146864,-11.351493,23.91871,-3.5036094,-3.7314281,-2.948488,-14.574528,-3.641568,22.598415,-11.659293,14.586445,25.455662],\"xaxis\":\"x\",\"y\":[-2.7427907,-2.0265527,-2.0504637,-2.4594977,-2.2695987,-3.152557,-2.2305095,-2.7786174,-2.9605007,6.533188,-16.312912,-2.1565764,15.977523,-2.8210452,-3.0378788,-19.754457,-5.009294,-25.904312,-1.8228899,-2.2445533,-2.801616,-2.7710924,-2.5836494,-2.5728576,-25.902946,-2.393193,-2.1507452,-2.432072,-23.030094,1.1665239,-20.141409,-2.1464317,-2.7961385,-11.793319,-22.826895,17.90962,-10.908255,-2.479639,-16.253847,-8.160565,-3.2574904,-5.0999866,-6.8023806,-1.3637221,-2.2950978,8.3014555,-2.617885,-14.379096,-2.6449761,-1.66522,-3.2138953,-2.3411016,-2.4360301,-1.5979137,-21.152756,-2.8697789,-3.283265,-2.3058023,-19.737019,-6.7381473,-14.367315,-0.24684975,-3.7174394,-10.169489,11.449243,-13.20805,-3.0775783,8.719607,-15.9501295,-5.619656,-9.035145,-4.4480495,14.222511,-3.3043065,5.145684,-12.27357,-2.1712549,-3.1243804,-19.187334,11.302822,-13.178998,-3.972446,-0.80237764,-0.5591552,-10.774094,-11.228776,-14.693565,9.151791,-2.6168942,-18.365555,-19.577812,-4.1899114,-16.320782,2.4426033,-13.383808,-3.668418,3.2663798,3.518476,9.0049095,-19.890549,-2.906727,-5.636878,-3.9133134,12.416447,-6.3637433,-8.843996,0.022100864,-0.9690083,-5.523727,2.952883,-12.17123,-21.036604,9.395258,15.39106,-1.3120608,-15.333262,-16.452452,-3.4917388,-9.695518,12.6418,-1.6712542,-16.891685,-2.3989458,-18.57725,0.7602938,0.36279118,-3.2669926,-16.37177,9.821287,-6.2617574,-8.320773,-1.9735217,-4.5569634,9.352195,-8.454814,21.503372,6.641089,8.622474,11.641657,-9.63522,0.44630933,-5.023845,7.574448,3.9340754,-3.734141,6.776273,23.389124,-3.005096,9.157138,-0.44270974,11.24306,-0.025347684,-7.8309207,-11.8591,-2.071182,-3.6037266,-8.163736,8.669907,2.7965145,-2.471823,-14.343458,-3.5595167,-19.158014,-2.690648,-10.563618,19.484419,-21.30951,12.9214,-13.697568,5.968652,6.5964766,5.4752584,0.6698399,3.397263,-8.340358,9.587608,-5.3402233,3.8192742,-21.099554,-3.2332473,-9.456551,-18.884958,-4.7833114,-16.144003,-7.181663,8.120747,-0.845621,-10.000097,-25.391264,-13.2576885,-1.9512417,-14.01973,-14.964439,10.619248,11.138717,-16.769659,14.518104,-13.21911,-3.3356082,-9.300766],\"yaxis\":\"y\",\"type\":\"scatter\"}],                        {\"template\":{\"data\":{\"histogram2dcontour\":[{\"type\":\"histogram2dcontour\",\"colorbar\":{\"outlinewidth\":0,\"ticks\":\"\"},\"colorscale\":[[0.0,\"#0d0887\"],[0.1111111111111111,\"#46039f\"],[0.2222222222222222,\"#7201a8\"],[0.3333333333333333,\"#9c179e\"],[0.4444444444444444,\"#bd3786\"],[0.5555555555555556,\"#d8576b\"],[0.6666666666666666,\"#ed7953\"],[0.7777777777777778,\"#fb9f3a\"],[0.8888888888888888,\"#fdca26\"],[1.0,\"#f0f921\"]]}],\"choropleth\":[{\"type\":\"choropleth\",\"colorbar\":{\"outlinewidth\":0,\"ticks\":\"\"}}],\"histogram2d\":[{\"type\":\"histogram2d\",\"colorbar\":{\"outlinewidth\":0,\"ticks\":\"\"},\"colorscale\":[[0.0,\"#0d0887\"],[0.1111111111111111,\"#46039f\"],[0.2222222222222222,\"#7201a8\"],[0.3333333333333333,\"#9c179e\"],[0.4444444444444444,\"#bd3786\"],[0.5555555555555556,\"#d8576b\"],[0.6666666666666666,\"#ed7953\"],[0.7777777777777778,\"#fb9f3a\"],[0.8888888888888888,\"#fdca26\"],[1.0,\"#f0f921\"]]}],\"heatmap\":[{\"type\":\"heatmap\",\"colorbar\":{\"outlinewidth\":0,\"ticks\":\"\"},\"colorscale\":[[0.0,\"#0d0887\"],[0.1111111111111111,\"#46039f\"],[0.2222222222222222,\"#7201a8\"],[0.3333333333333333,\"#9c179e\"],[0.4444444444444444,\"#bd3786\"],[0.5555555555555556,\"#d8576b\"],[0.6666666666666666,\"#ed7953\"],[0.7777777777777778,\"#fb9f3a\"],[0.8888888888888888,\"#fdca26\"],[1.0,\"#f0f921\"]]}],\"heatmapgl\":[{\"type\":\"heatmapgl\",\"colorbar\":{\"outlinewidth\":0,\"ticks\":\"\"},\"colorscale\":[[0.0,\"#0d0887\"],[0.1111111111111111,\"#46039f\"],[0.2222222222222222,\"#7201a8\"],[0.3333333333333333,\"#9c179e\"],[0.4444444444444444,\"#bd3786\"],[0.5555555555555556,\"#d8576b\"],[0.6666666666666666,\"#ed7953\"],[0.7777777777777778,\"#fb9f3a\"],[0.8888888888888888,\"#fdca26\"],[1.0,\"#f0f921\"]]}],\"contourcarpet\":[{\"type\":\"contourcarpet\",\"colorbar\":{\"outlinewidth\":0,\"ticks\":\"\"}}],\"contour\":[{\"type\":\"contour\",\"colorbar\":{\"outlinewidth\":0,\"ticks\":\"\"},\"colorscale\":[[0.0,\"#0d0887\"],[0.1111111111111111,\"#46039f\"],[0.2222222222222222,\"#7201a8\"],[0.3333333333333333,\"#9c179e\"],[0.4444444444444444,\"#bd3786\"],[0.5555555555555556,\"#d8576b\"],[0.6666666666666666,\"#ed7953\"],[0.7777777777777778,\"#fb9f3a\"],[0.8888888888888888,\"#fdca26\"],[1.0,\"#f0f921\"]]}],\"surface\":[{\"type\":\"surface\",\"colorbar\":{\"outlinewidth\":0,\"ticks\":\"\"},\"colorscale\":[[0.0,\"#0d0887\"],[0.1111111111111111,\"#46039f\"],[0.2222222222222222,\"#7201a8\"],[0.3333333333333333,\"#9c179e\"],[0.4444444444444444,\"#bd3786\"],[0.5555555555555556,\"#d8576b\"],[0.6666666666666666,\"#ed7953\"],[0.7777777777777778,\"#fb9f3a\"],[0.8888888888888888,\"#fdca26\"],[1.0,\"#f0f921\"]]}],\"mesh3d\":[{\"type\":\"mesh3d\",\"colorbar\":{\"outlinewidth\":0,\"ticks\":\"\"}}],\"scatter\":[{\"fillpattern\":{\"fillmode\":\"overlay\",\"size\":10,\"solidity\":0.2},\"type\":\"scatter\"}],\"parcoords\":[{\"type\":\"parcoords\",\"line\":{\"colorbar\":{\"outlinewidth\":0,\"ticks\":\"\"}}}],\"scatterpolargl\":[{\"type\":\"scatterpolargl\",\"marker\":{\"colorbar\":{\"outlinewidth\":0,\"ticks\":\"\"}}}],\"bar\":[{\"error_x\":{\"color\":\"#2a3f5f\"},\"error_y\":{\"color\":\"#2a3f5f\"},\"marker\":{\"line\":{\"color\":\"#E5ECF6\",\"width\":0.5},\"pattern\":{\"fillmode\":\"overlay\",\"size\":10,\"solidity\":0.2}},\"type\":\"bar\"}],\"scattergeo\":[{\"type\":\"scattergeo\",\"marker\":{\"colorbar\":{\"outlinewidth\":0,\"ticks\":\"\"}}}],\"scatterpolar\":[{\"type\":\"scatterpolar\",\"marker\":{\"colorbar\":{\"outlinewidth\":0,\"ticks\":\"\"}}}],\"histogram\":[{\"marker\":{\"pattern\":{\"fillmode\":\"overlay\",\"size\":10,\"solidity\":0.2}},\"type\":\"histogram\"}],\"scattergl\":[{\"type\":\"scattergl\",\"marker\":{\"colorbar\":{\"outlinewidth\":0,\"ticks\":\"\"}}}],\"scatter3d\":[{\"type\":\"scatter3d\",\"line\":{\"colorbar\":{\"outlinewidth\":0,\"ticks\":\"\"}},\"marker\":{\"colorbar\":{\"outlinewidth\":0,\"ticks\":\"\"}}}],\"scattermapbox\":[{\"type\":\"scattermapbox\",\"marker\":{\"colorbar\":{\"outlinewidth\":0,\"ticks\":\"\"}}}],\"scatterternary\":[{\"type\":\"scatterternary\",\"marker\":{\"colorbar\":{\"outlinewidth\":0,\"ticks\":\"\"}}}],\"scattercarpet\":[{\"type\":\"scattercarpet\",\"marker\":{\"colorbar\":{\"outlinewidth\":0,\"ticks\":\"\"}}}],\"carpet\":[{\"aaxis\":{\"endlinecolor\":\"#2a3f5f\",\"gridcolor\":\"white\",\"linecolor\":\"white\",\"minorgridcolor\":\"white\",\"startlinecolor\":\"#2a3f5f\"},\"baxis\":{\"endlinecolor\":\"#2a3f5f\",\"gridcolor\":\"white\",\"linecolor\":\"white\",\"minorgridcolor\":\"white\",\"startlinecolor\":\"#2a3f5f\"},\"type\":\"carpet\"}],\"table\":[{\"cells\":{\"fill\":{\"color\":\"#EBF0F8\"},\"line\":{\"color\":\"white\"}},\"header\":{\"fill\":{\"color\":\"#C8D4E3\"},\"line\":{\"color\":\"white\"}},\"type\":\"table\"}],\"barpolar\":[{\"marker\":{\"line\":{\"color\":\"#E5ECF6\",\"width\":0.5},\"pattern\":{\"fillmode\":\"overlay\",\"size\":10,\"solidity\":0.2}},\"type\":\"barpolar\"}],\"pie\":[{\"automargin\":true,\"type\":\"pie\"}]},\"layout\":{\"autotypenumbers\":\"strict\",\"colorway\":[\"#636efa\",\"#EF553B\",\"#00cc96\",\"#ab63fa\",\"#FFA15A\",\"#19d3f3\",\"#FF6692\",\"#B6E880\",\"#FF97FF\",\"#FECB52\"],\"font\":{\"color\":\"#2a3f5f\"},\"hovermode\":\"closest\",\"hoverlabel\":{\"align\":\"left\"},\"paper_bgcolor\":\"white\",\"plot_bgcolor\":\"#E5ECF6\",\"polar\":{\"bgcolor\":\"#E5ECF6\",\"angularaxis\":{\"gridcolor\":\"white\",\"linecolor\":\"white\",\"ticks\":\"\"},\"radialaxis\":{\"gridcolor\":\"white\",\"linecolor\":\"white\",\"ticks\":\"\"}},\"ternary\":{\"bgcolor\":\"#E5ECF6\",\"aaxis\":{\"gridcolor\":\"white\",\"linecolor\":\"white\",\"ticks\":\"\"},\"baxis\":{\"gridcolor\":\"white\",\"linecolor\":\"white\",\"ticks\":\"\"},\"caxis\":{\"gridcolor\":\"white\",\"linecolor\":\"white\",\"ticks\":\"\"}},\"coloraxis\":{\"colorbar\":{\"outlinewidth\":0,\"ticks\":\"\"}},\"colorscale\":{\"sequential\":[[0.0,\"#0d0887\"],[0.1111111111111111,\"#46039f\"],[0.2222222222222222,\"#7201a8\"],[0.3333333333333333,\"#9c179e\"],[0.4444444444444444,\"#bd3786\"],[0.5555555555555556,\"#d8576b\"],[0.6666666666666666,\"#ed7953\"],[0.7777777777777778,\"#fb9f3a\"],[0.8888888888888888,\"#fdca26\"],[1.0,\"#f0f921\"]],\"sequentialminus\":[[0.0,\"#0d0887\"],[0.1111111111111111,\"#46039f\"],[0.2222222222222222,\"#7201a8\"],[0.3333333333333333,\"#9c179e\"],[0.4444444444444444,\"#bd3786\"],[0.5555555555555556,\"#d8576b\"],[0.6666666666666666,\"#ed7953\"],[0.7777777777777778,\"#fb9f3a\"],[0.8888888888888888,\"#fdca26\"],[1.0,\"#f0f921\"]],\"diverging\":[[0,\"#8e0152\"],[0.1,\"#c51b7d\"],[0.2,\"#de77ae\"],[0.3,\"#f1b6da\"],[0.4,\"#fde0ef\"],[0.5,\"#f7f7f7\"],[0.6,\"#e6f5d0\"],[0.7,\"#b8e186\"],[0.8,\"#7fbc41\"],[0.9,\"#4d9221\"],[1,\"#276419\"]]},\"xaxis\":{\"gridcolor\":\"white\",\"linecolor\":\"white\",\"ticks\":\"\",\"title\":{\"standoff\":15},\"zerolinecolor\":\"white\",\"automargin\":true,\"zerolinewidth\":2},\"yaxis\":{\"gridcolor\":\"white\",\"linecolor\":\"white\",\"ticks\":\"\",\"title\":{\"standoff\":15},\"zerolinecolor\":\"white\",\"automargin\":true,\"zerolinewidth\":2},\"scene\":{\"xaxis\":{\"backgroundcolor\":\"#E5ECF6\",\"gridcolor\":\"white\",\"linecolor\":\"white\",\"showbackground\":true,\"ticks\":\"\",\"zerolinecolor\":\"white\",\"gridwidth\":2},\"yaxis\":{\"backgroundcolor\":\"#E5ECF6\",\"gridcolor\":\"white\",\"linecolor\":\"white\",\"showbackground\":true,\"ticks\":\"\",\"zerolinecolor\":\"white\",\"gridwidth\":2},\"zaxis\":{\"backgroundcolor\":\"#E5ECF6\",\"gridcolor\":\"white\",\"linecolor\":\"white\",\"showbackground\":true,\"ticks\":\"\",\"zerolinecolor\":\"white\",\"gridwidth\":2}},\"shapedefaults\":{\"line\":{\"color\":\"#2a3f5f\"}},\"annotationdefaults\":{\"arrowcolor\":\"#2a3f5f\",\"arrowhead\":0,\"arrowwidth\":1},\"geo\":{\"bgcolor\":\"white\",\"landcolor\":\"#E5ECF6\",\"subunitcolor\":\"white\",\"showland\":true,\"showlakes\":true,\"lakecolor\":\"white\"},\"title\":{\"x\":0.05},\"mapbox\":{\"style\":\"light\"}}},\"xaxis\":{\"anchor\":\"y\",\"domain\":[0.0,1.0],\"title\":{\"text\":\"x\"}},\"yaxis\":{\"anchor\":\"x\",\"domain\":[0.0,1.0],\"title\":{\"text\":\"y\"}},\"legend\":{\"tracegroupgap\":0},\"margin\":{\"t\":60}},                        {\"responsive\": true}                    ).then(function(){\n                            \nvar gd = document.getElementById('452ae15f-3940-47cc-8e8a-fa76303e4c39');\nvar x = new MutationObserver(function (mutations, observer) {{\n        var display = window.getComputedStyle(gd).display;\n        if (!display || display === 'none') {{\n            console.log([gd, 'removed!']);\n            Plotly.purge(gd);\n            observer.disconnect();\n        }}\n}});\n\n// Listen for the removal of the full notebook cells\nvar notebookContainer = gd.closest('#notebook-container');\nif (notebookContainer) {{\n    x.observe(notebookContainer, {childList: true});\n}}\n\n// Listen for the clearing of the current output cell\nvar outputEl = gd.closest('.output');\nif (outputEl) {{\n    x.observe(outputEl, {childList: true});\n}}\n\n                        })                };                });            </script>        </div>"
     },
     "metadata": {},
     "output_type": "display_data"
    },
    {
     "data": {
      "text/plain": "<Figure size 1600x900 with 2 Axes>",
      "image/png": "[encoded data removed]"
     },
     "metadata": {},
     "output_type": "display_data"
    }
   ],
   "source": [
    "fig.show()\n",
    "test_words = ['caballo', 'estribo', 'viejo', 'animal', 'quijote', 'caballero', 'hombre', 'persona', 'rocinante']\n",
    "test_emb = [w2v_model.wv[w] for w in test_words]\n",
    "\n",
    "new_rocinante = test_emb[0] + test_emb[1] + test_emb[2] + test_emb[3] + test_emb[4] + test_emb[5] - test_emb[6] - test_emb[7]\n",
    "\n",
    "new_words = test_words + ['new_rocinante']\n",
    "new_emb = np.append(test_emb, new_rocinante.reshape(1, -1), axis=0)\n",
    "\n",
    "dist = pairwise.cosine_similarity(new_emb, new_emb)\n",
    "\n",
    "plot_matrix_distance(new_words, dist)"
   ],
   "metadata": {
    "collapsed": false,
    "ExecuteTime": {
     "end_time": "2023-07-18T23:47:41.607155300Z",
     "start_time": "2023-07-18T23:47:41.096445400Z"
    }
   }
  }
 ],
 "metadata": {
  "kernelspec": {
   "display_name": "Python 3",
   "language": "python",
   "name": "python3"
  },
  "language_info": {
   "codemirror_mode": {
    "name": "ipython",
    "version": 2
   },
   "file_extension": ".py",
   "mimetype": "text/x-python",
   "name": "python",
   "nbconvert_exporter": "python",
   "pygments_lexer": "ipython2",
   "version": "2.7.6"
  }
 },
 "nbformat": 4,
 "nbformat_minor": 0
}
