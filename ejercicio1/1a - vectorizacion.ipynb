{
 "cells": [
  {
   "attachments": {},
   "cell_type": "markdown",
   "metadata": {
    "id": "Ue5hxxkdAQJg"
   },
   "source": [
    "<img src=\"https://github.com/FIUBA-Posgrado-Inteligencia-Artificial/procesamiento_lenguaje_natural/raw/main/logoFIUBA.jpg\" width=\"500\" align=\"center\">\n",
    "\n",
    "\n",
    "# Procesamiento de lenguaje natural\n",
    "## Vectorización\n"
   ]
  },
  {
   "cell_type": "code",
   "execution_count": 120,
   "metadata": {
    "id": "kCED1hh-Ioyf",
    "ExecuteTime": {
     "end_time": "2023-07-02T01:08:59.846065300Z",
     "start_time": "2023-07-02T01:08:59.820031800Z"
    }
   },
   "outputs": [],
   "source": [
    "import math\n",
    "import numpy as np\n",
    "import pandas as pd"
   ]
  },
  {
   "cell_type": "code",
   "execution_count": 121,
   "metadata": {
    "id": "PUbfVnzIIoMj",
    "ExecuteTime": {
     "end_time": "2023-07-02T01:08:59.851693800Z",
     "start_time": "2023-07-02T01:08:59.821535900Z"
    }
   },
   "outputs": [],
   "source": [
    "def cosine_similarity(a, b):\n",
    "    return np.dot(a, b) / (np.linalg.norm(a) * (np.linalg.norm(b)))"
   ]
  },
  {
   "cell_type": "markdown",
   "metadata": {
    "id": "DMOa4JPSCJ29"
   },
   "source": [
    "### Datos"
   ]
  },
  {
   "cell_type": "code",
   "execution_count": 122,
   "metadata": {
    "id": "RIO7b8GjAC17",
    "ExecuteTime": {
     "end_time": "2023-07-02T01:08:59.852694600Z",
     "start_time": "2023-07-02T01:08:59.824782Z"
    }
   },
   "outputs": [],
   "source": [
    "corpus = np.array(['que dia es hoy', 'martes el dia de hoy es martes', 'martes muchas gracias'])"
   ]
  },
  {
   "cell_type": "markdown",
   "metadata": {
    "id": "8WqdaTmO8P1r"
   },
   "source": [
    "Documento 1 --> que dia es hoy \\\n",
    "Documento 2 --> martes el dia de hoy es martes \\\n",
    "Documento 3 --> martes muchas gracias"
   ]
  },
  {
   "cell_type": "markdown",
   "metadata": {
    "id": "FVHxBRNzCMOS"
   },
   "source": [
    "### 1 - Obtener el vocabulario del corpus (los términos utilizados)\n",
    "- Cada documento transformarlo en una lista de términos\n",
    "- Armar un vector de términos no repetidos de todos los documentos"
   ]
  },
  {
   "cell_type": "code",
   "execution_count": 123,
   "metadata": {
    "id": "3ZqTOZzDI7uv",
    "ExecuteTime": {
     "end_time": "2023-07-02T01:08:59.853695300Z",
     "start_time": "2023-07-02T01:08:59.828007100Z"
    }
   },
   "outputs": [],
   "source": [
    "def get_vocabulary(corpus: np.array) -> list[str]:\n",
    "    vocabulary = list()\n",
    "    for phrase in corpus:\n",
    "        words = phrase.split(' ')\n",
    "        for w in words:\n",
    "            if w not in vocabulary:\n",
    "                vocabulary.append(w)\n",
    "    return vocabulary"
   ]
  },
  {
   "cell_type": "code",
   "execution_count": 124,
   "outputs": [],
   "source": [
    "vocabulary = get_vocabulary(corpus)"
   ],
   "metadata": {
    "collapsed": false,
    "ExecuteTime": {
     "end_time": "2023-07-02T01:08:59.854695500Z",
     "start_time": "2023-07-02T01:08:59.832633300Z"
    }
   }
  },
  {
   "cell_type": "code",
   "execution_count": 125,
   "outputs": [
    {
     "name": "stdout",
     "output_type": "stream",
     "text": [
      "['que', 'dia', 'es', 'hoy', 'martes', 'el', 'de', 'muchas', 'gracias']\n"
     ]
    }
   ],
   "source": [
    "print(vocabulary)"
   ],
   "metadata": {
    "collapsed": false,
    "ExecuteTime": {
     "end_time": "2023-07-02T01:08:59.854695500Z",
     "start_time": "2023-07-02T01:08:59.835496900Z"
    }
   }
  },
  {
   "cell_type": "markdown",
   "metadata": {
    "id": "RUhH983FI7It"
   },
   "source": [
    "### 2- OneHot encoding\n",
    "Data una lista de textos, devolver una matriz con la representación oneHotEncoding de estos"
   ]
  },
  {
   "cell_type": "code",
   "execution_count": 126,
   "metadata": {
    "id": "Os0AAQo6I6Z1",
    "ExecuteTime": {
     "end_time": "2023-07-02T01:08:59.856377200Z",
     "start_time": "2023-07-02T01:08:59.838895200Z"
    }
   },
   "outputs": [],
   "source": [
    "def one_hot_encoding(vocabulary: list[str], corpus: np.array) -> [[int]]:\n",
    "    result = []\n",
    "    for phrase in corpus:\n",
    "        words = phrase.split(' ')\n",
    "        phrase_encode = np.zeros(len(vocabulary))\n",
    "        for w in words:\n",
    "            phrase_encode[vocabulary.index(w)] = 1\n",
    "        result.append(phrase_encode)\n",
    "    return result"
   ]
  },
  {
   "cell_type": "code",
   "execution_count": 127,
   "outputs": [
    {
     "data": {
      "text/plain": "[array([1., 1., 1., 1., 0., 0., 0., 0., 0.]),\n array([0., 1., 1., 1., 1., 1., 1., 0., 0.]),\n array([0., 0., 0., 0., 1., 0., 0., 1., 1.])]"
     },
     "execution_count": 127,
     "metadata": {},
     "output_type": "execute_result"
    }
   ],
   "source": [
    "one_hot_encoding(vocabulary, corpus)"
   ],
   "metadata": {
    "collapsed": false,
    "ExecuteTime": {
     "end_time": "2023-07-02T01:08:59.914597300Z",
     "start_time": "2023-07-02T01:08:59.846065300Z"
    }
   }
  },
  {
   "cell_type": "markdown",
   "metadata": {
    "id": "IIyWGmCpJVQL"
   },
   "source": [
    "### 3- Vectores de frecuencia\n",
    "Data una lista de textos, devolver una matriz con la representación de frecuencia de estos"
   ]
  },
  {
   "cell_type": "code",
   "execution_count": 128,
   "metadata": {
    "id": "yqij_7eHJbUi",
    "ExecuteTime": {
     "end_time": "2023-07-02T01:08:59.914597300Z",
     "start_time": "2023-07-02T01:08:59.846065300Z"
    }
   },
   "outputs": [],
   "source": [
    "def count_vectorizer(vocabulary: list[str], corpus: np.array) -> [[int]]:\n",
    "    result = []\n",
    "    for phrase in corpus:\n",
    "        words = phrase.split(' ')\n",
    "        phrase_encode = np.zeros(len(vocabulary))\n",
    "        for w in words:\n",
    "            index = vocabulary.index(w)\n",
    "            phrase_encode[index] = phrase_encode[index] + 1\n",
    "        result.append(phrase_encode)\n",
    "    return result"
   ]
  },
  {
   "cell_type": "code",
   "execution_count": 129,
   "outputs": [
    {
     "data": {
      "text/plain": "[array([1., 1., 1., 1., 0., 0., 0., 0., 0.]),\n array([0., 1., 1., 1., 2., 1., 1., 0., 0.]),\n array([0., 0., 0., 0., 1., 0., 0., 1., 1.])]"
     },
     "execution_count": 129,
     "metadata": {},
     "output_type": "execute_result"
    }
   ],
   "source": [
    "count_vectorizer(vocabulary, corpus)"
   ],
   "metadata": {
    "collapsed": false,
    "ExecuteTime": {
     "end_time": "2023-07-02T01:08:59.915597500Z",
     "start_time": "2023-07-02T01:08:59.848661100Z"
    }
   }
  },
  {
   "cell_type": "markdown",
   "metadata": {
    "id": "z_Ot8HvWJcBu"
   },
   "source": [
    "### 4- TF-IDF\n",
    "Data una lista de textos, devolver una matriz con la representacion TFIDF"
   ]
  },
  {
   "cell_type": "code",
   "execution_count": 130,
   "metadata": {
    "id": "waG_oWtpJjRw",
    "ExecuteTime": {
     "end_time": "2023-07-02T01:08:59.915597500Z",
     "start_time": "2023-07-02T01:08:59.855695400Z"
    }
   },
   "outputs": [],
   "source": [
    "def idf(vocabulary: list[str], corpus: np.array) -> [[float]]:\n",
    "    count_vectorizer_result = count_vectorizer(vocabulary, corpus)\n",
    "    n_documents = len(corpus)\n",
    "    document_frequency = np.zeros(len(vocabulary))\n",
    "    idf_result = count_vectorizer_result\n",
    "    for result in count_vectorizer_result:\n",
    "        for idx, num in enumerate(result):\n",
    "            if num > 0:\n",
    "                document_frequency[idx] = document_frequency[idx] + 1\n",
    "    for r_idx, result in enumerate(count_vectorizer_result):\n",
    "        for idx, num in enumerate(result):\n",
    "            if num > 0:\n",
    "                idf_result[r_idx][idx] = num * math.log10(n_documents/document_frequency[idx])\n",
    "    return idf_result"
   ]
  },
  {
   "cell_type": "code",
   "execution_count": 131,
   "outputs": [
    {
     "data": {
      "text/plain": "[array([0.47712125, 0.17609126, 0.17609126, 0.17609126, 0.        ,\n        0.        , 0.        , 0.        , 0.        ]),\n array([0.        , 0.17609126, 0.17609126, 0.17609126, 0.35218252,\n        0.47712125, 0.47712125, 0.        , 0.        ]),\n array([0.        , 0.        , 0.        , 0.        , 0.17609126,\n        0.        , 0.        , 0.47712125, 0.47712125])]"
     },
     "execution_count": 131,
     "metadata": {},
     "output_type": "execute_result"
    }
   ],
   "source": [
    "idf(vocabulary, corpus)"
   ],
   "metadata": {
    "collapsed": false,
    "ExecuteTime": {
     "end_time": "2023-07-02T01:08:59.915597500Z",
     "start_time": "2023-07-02T01:08:59.857378300Z"
    }
   }
  },
  {
   "cell_type": "markdown",
   "metadata": {
    "id": "xMcsfndWJjm_"
   },
   "source": [
    "### 5 - Comparación de documentos\n",
    "Realizar una funcion que reciba el corpus y el índice de un documento y devuelva los documentos ordenados por la similitud coseno"
   ]
  },
  {
   "cell_type": "markdown",
   "source": [
    "(Le agregue la variable opcional method para elegir que metodo usar al compararlos)"
   ],
   "metadata": {
    "collapsed": false
   }
  },
  {
   "cell_type": "code",
   "execution_count": 132,
   "outputs": [],
   "source": [
    "def _compare_phrases(corpus: np.array, vocabulary: list[str], idx: int, method='idf') -> list[str, float]:\n",
    "    comparisons = []\n",
    "    match method:\n",
    "        case 'idf':\n",
    "            results = idf(vocabulary, corpus)\n",
    "        case 'one_hot':\n",
    "            results = one_hot_encoding(vocabulary, corpus)\n",
    "        case 'count':\n",
    "            results = count_vectorizer(vocabulary, corpus)\n",
    "    phrase_to_compare = results[idx]\n",
    "    for r_idx, r in enumerate(results):\n",
    "        comparisons.append((corpus[r_idx], cosine_similarity(phrase_to_compare, r)))\n",
    "    return comparisons"
   ],
   "metadata": {
    "collapsed": false,
    "ExecuteTime": {
     "end_time": "2023-07-02T01:08:59.916597700Z",
     "start_time": "2023-07-02T01:08:59.861587900Z"
    }
   }
  },
  {
   "cell_type": "code",
   "execution_count": 133,
   "metadata": {
    "id": "CZdiop6IJpZN",
    "ExecuteTime": {
     "end_time": "2023-07-02T01:08:59.916597700Z",
     "start_time": "2023-07-02T01:08:59.865545300Z"
    }
   },
   "outputs": [],
   "source": [
    "def compare_phrases(corpus: np.array, idx: int, method='idf') -> np.array:\n",
    "    vocabulary = get_vocabulary(corpus)\n",
    "    comparisons = _compare_phrases(corpus, vocabulary, idx, method)\n",
    "    df = pd.DataFrame(comparisons, columns=['document', 'cosine_similarity'])\n",
    "    return df.sort_values('cosine_similarity', ascending=False)"
   ]
  },
  {
   "cell_type": "code",
   "execution_count": 134,
   "outputs": [
    {
     "data": {
      "text/plain": "                         document  cosine_similarity\n0                  que dia es hoy           1.000000\n1  martes el dia de hoy es martes           0.200342\n2           martes muchas gracias           0.000000",
      "text/html": "<div>\n<style scoped>\n    .dataframe tbody tr th:only-of-type {\n        vertical-align: middle;\n    }\n\n    .dataframe tbody tr th {\n        vertical-align: top;\n    }\n\n    .dataframe thead th {\n        text-align: right;\n    }\n</style>\n<table border=\"1\" class=\"dataframe\">\n  <thead>\n    <tr style=\"text-align: right;\">\n      <th></th>\n      <th>document</th>\n      <th>cosine_similarity</th>\n    </tr>\n  </thead>\n  <tbody>\n    <tr>\n      <th>0</th>\n      <td>que dia es hoy</td>\n      <td>1.000000</td>\n    </tr>\n    <tr>\n      <th>1</th>\n      <td>martes el dia de hoy es martes</td>\n      <td>0.200342</td>\n    </tr>\n    <tr>\n      <th>2</th>\n      <td>martes muchas gracias</td>\n      <td>0.000000</td>\n    </tr>\n  </tbody>\n</table>\n</div>"
     },
     "execution_count": 134,
     "metadata": {},
     "output_type": "execute_result"
    }
   ],
   "source": [
    "compare_phrases(corpus, 0, 'idf')"
   ],
   "metadata": {
    "collapsed": false,
    "ExecuteTime": {
     "end_time": "2023-07-02T01:08:59.916597700Z",
     "start_time": "2023-07-02T01:08:59.869987500Z"
    }
   }
  },
  {
   "cell_type": "code",
   "execution_count": 135,
   "outputs": [
    {
     "data": {
      "text/plain": "                         document  cosine_similarity\n1  martes el dia de hoy es martes           1.000000\n0                  que dia es hoy           0.612372\n2           martes muchas gracias           0.235702",
      "text/html": "<div>\n<style scoped>\n    .dataframe tbody tr th:only-of-type {\n        vertical-align: middle;\n    }\n\n    .dataframe tbody tr th {\n        vertical-align: top;\n    }\n\n    .dataframe thead th {\n        text-align: right;\n    }\n</style>\n<table border=\"1\" class=\"dataframe\">\n  <thead>\n    <tr style=\"text-align: right;\">\n      <th></th>\n      <th>document</th>\n      <th>cosine_similarity</th>\n    </tr>\n  </thead>\n  <tbody>\n    <tr>\n      <th>1</th>\n      <td>martes el dia de hoy es martes</td>\n      <td>1.000000</td>\n    </tr>\n    <tr>\n      <th>0</th>\n      <td>que dia es hoy</td>\n      <td>0.612372</td>\n    </tr>\n    <tr>\n      <th>2</th>\n      <td>martes muchas gracias</td>\n      <td>0.235702</td>\n    </tr>\n  </tbody>\n</table>\n</div>"
     },
     "execution_count": 135,
     "metadata": {},
     "output_type": "execute_result"
    }
   ],
   "source": [
    "compare_phrases(corpus, 1, 'one_hot')"
   ],
   "metadata": {
    "collapsed": false,
    "ExecuteTime": {
     "end_time": "2023-07-02T01:08:59.916597700Z",
     "start_time": "2023-07-02T01:08:59.874541400Z"
    }
   }
  },
  {
   "cell_type": "code",
   "execution_count": 136,
   "outputs": [
    {
     "data": {
      "text/plain": "                         document  cosine_similarity\n2           martes muchas gracias             1.0000\n1  martes el dia de hoy es martes             0.3849\n0                  que dia es hoy             0.0000",
      "text/html": "<div>\n<style scoped>\n    .dataframe tbody tr th:only-of-type {\n        vertical-align: middle;\n    }\n\n    .dataframe tbody tr th {\n        vertical-align: top;\n    }\n\n    .dataframe thead th {\n        text-align: right;\n    }\n</style>\n<table border=\"1\" class=\"dataframe\">\n  <thead>\n    <tr style=\"text-align: right;\">\n      <th></th>\n      <th>document</th>\n      <th>cosine_similarity</th>\n    </tr>\n  </thead>\n  <tbody>\n    <tr>\n      <th>2</th>\n      <td>martes muchas gracias</td>\n      <td>1.0000</td>\n    </tr>\n    <tr>\n      <th>1</th>\n      <td>martes el dia de hoy es martes</td>\n      <td>0.3849</td>\n    </tr>\n    <tr>\n      <th>0</th>\n      <td>que dia es hoy</td>\n      <td>0.0000</td>\n    </tr>\n  </tbody>\n</table>\n</div>"
     },
     "execution_count": 136,
     "metadata": {},
     "output_type": "execute_result"
    }
   ],
   "source": [
    "compare_phrases(corpus, 2, 'count')"
   ],
   "metadata": {
    "collapsed": false,
    "ExecuteTime": {
     "end_time": "2023-07-02T01:08:59.916597700Z",
     "start_time": "2023-07-02T01:08:59.880078100Z"
    }
   }
  }
 ],
 "metadata": {
  "colab": {
   "authorship_tag": "ABX9TyO5fRYTpympAwJSVbric6dW",
   "collapsed_sections": [],
   "name": "1a - word2vec.ipynb",
   "provenance": []
  },
  "kernelspec": {
   "name": "python3",
   "language": "python",
   "display_name": "Python 3 (ipykernel)"
  },
  "language_info": {
   "name": "python"
  }
 },
 "nbformat": 4,
 "nbformat_minor": 0
}
