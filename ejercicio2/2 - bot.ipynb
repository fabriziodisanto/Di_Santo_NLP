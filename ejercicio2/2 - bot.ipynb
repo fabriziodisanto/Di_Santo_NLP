{
 "cells": [
  {
   "cell_type": "markdown",
   "source": [],
   "metadata": {
    "collapsed": false
   }
  },
  {
   "cell_type": "markdown",
   "source": [
    "Tomar un ejemplo de los bots utilizados (uno de los dos) y construir el propio.\n",
    "Sacar conclusiones de los resultados"
   ],
   "metadata": {
    "collapsed": false
   }
  },
  {
   "cell_type": "code",
   "execution_count": 55,
   "metadata": {
    "collapsed": true,
    "ExecuteTime": {
     "end_time": "2023-07-08T21:44:31.926037900Z",
     "start_time": "2023-07-08T21:44:31.903298400Z"
    }
   },
   "outputs": [],
   "source": [
    "import string\n",
    "import re\n",
    "import urllib.request\n",
    "import bs4 as bs\n",
    "import nltk\n",
    "import unicodedata\n",
    "from nltk.stem import WordNetLemmatizer\n",
    "from sklearn.feature_extraction.text import TfidfVectorizer\n",
    "from sklearn.metrics.pairwise import cosine_similarity\n",
    "import gradio as gr"
   ]
  },
  {
   "cell_type": "code",
   "execution_count": 56,
   "outputs": [
    {
     "name": "stderr",
     "output_type": "stream",
     "text": [
      "[nltk_data] Downloading package punkt to\n",
      "[nltk_data]     C:\\Users\\Usuario\\AppData\\Roaming\\nltk_data...\n",
      "[nltk_data]   Package punkt is already up-to-date!\n",
      "[nltk_data] Downloading package wordnet to\n",
      "[nltk_data]     C:\\Users\\Usuario\\AppData\\Roaming\\nltk_data...\n",
      "[nltk_data]   Package wordnet is already up-to-date!\n",
      "[nltk_data] Downloading package omw-1.4 to\n",
      "[nltk_data]     C:\\Users\\Usuario\\AppData\\Roaming\\nltk_data...\n",
      "[nltk_data]   Package omw-1.4 is already up-to-date!\n"
     ]
    },
    {
     "data": {
      "text/plain": "True"
     },
     "execution_count": 56,
     "metadata": {},
     "output_type": "execute_result"
    }
   ],
   "source": [
    "nltk.download(\"punkt\")\n",
    "nltk.download(\"wordnet\")\n",
    "nltk.download('omw-1.4')"
   ],
   "metadata": {
    "collapsed": false,
    "ExecuteTime": {
     "end_time": "2023-07-08T21:44:31.938040300Z",
     "start_time": "2023-07-08T21:44:31.907737800Z"
    }
   }
  },
  {
   "cell_type": "markdown",
   "source": [
    "### Datos\n",
    "Se consumirán los datos de un artículo sobre la historia de los mundiales en inglés."
   ],
   "metadata": {
    "collapsed": false
   }
  },
  {
   "cell_type": "code",
   "execution_count": 57,
   "outputs": [],
   "source": [
    "url = 'https://en.wikipedia.org/wiki/FIFA_World_Cup'"
   ],
   "metadata": {
    "collapsed": false,
    "ExecuteTime": {
     "end_time": "2023-07-08T21:44:31.950988600Z",
     "start_time": "2023-07-08T21:44:31.914183500Z"
    }
   }
  },
  {
   "cell_type": "code",
   "execution_count": 58,
   "outputs": [],
   "source": [
    "def get_article_text(url: str) -> str:\n",
    "    raw_html = urllib.request.urlopen(url)\n",
    "    raw_html = raw_html.read()\n",
    "\n",
    "    article_html = bs.BeautifulSoup(raw_html)\n",
    "    article_paragraphs = article_html.find_all('p')\n",
    "\n",
    "    article_text = ''\n",
    "\n",
    "    for p in article_paragraphs:\n",
    "        article_text += p.text\n",
    "\n",
    "    return article_text.lower()"
   ],
   "metadata": {
    "collapsed": false,
    "ExecuteTime": {
     "end_time": "2023-07-08T21:44:31.977614500Z",
     "start_time": "2023-07-08T21:44:31.926037900Z"
    }
   }
  },
  {
   "cell_type": "code",
   "execution_count": 59,
   "outputs": [],
   "source": [
    "article_text = get_article_text(url)"
   ],
   "metadata": {
    "collapsed": false,
    "ExecuteTime": {
     "end_time": "2023-07-08T21:44:33.937207700Z",
     "start_time": "2023-07-08T21:44:31.926037900Z"
    }
   }
  },
  {
   "cell_type": "code",
   "execution_count": 60,
   "outputs": [
    {
     "data": {
      "text/plain": "'\\nthe fifa world cup, often simply called the world cup, is an international association football competition between the senior men\\'s national teams of the members of the fédération internationale de football association (fifa), the sport\\'s global governing body. the tournament has been held every four years since the inaugural tournament in 1930, with the exception of 1942 and 1946 due to the second world war. the reigning champions are argentina, who won their third title at the 2022 tournament.\\nthe contest starts with the qualification phase, which takes place over the preceding three years, to determine which teams qualify for the tournament phase. in the tournament phase, 32 teams compete for the title at venues within the host nation(s) over about a month. the host nation(s) automatically qualify for the group stage of the tournament. the next fifa world cup is scheduled to expand to 48 teams for the 2026 tournament.\\nas of the 2022 fifa world cup, 22 final tournaments have been held since the event\\'s inception in 1930, and a total of 80 national teams have competed. the trophy has been won by eight national teams. brazil, with five wins, are the only team to have played in every tournament. the other world cup winners are germany and italy, with four titles each; argentina, with three titles; france and inaugural winner uruguay, each with two titles; and england and spain, with one title each.\\nthe world cup is the most prestigious association football tournament in the world, as well as the most widely viewed and followed single sporting event in the world.[1][2] the viewership of the 2018 world cup was estimated to be 3.57\\xa0billion, close to half of the global population,[3][4] while the engagement with 2022 world cup was estimated to be 5 billion with about 1.5\\xa0billion people watching the final match.[5]\\nseventeen countries have hosted the world cup, most recently qatar, who hosted the 2022 event. the 2026 tournament will be jointly hosted by canada, the united states and mexico, which will give mexico the distinction of being the first country to host games in three world cups.\\nthe world\\'s first international football match was a challenge match played in glasgow in 1872 between scotland and england.[6] the first international tournament for nations, the inaugural british home championship, took place in 1884 and included games between england, scotland, wales, and ireland.[7] as football grew in popularity in other parts of the world at the start of the 20th century, it was held as a demonstration sport with no medals awarded at the 1900 and 1904 summer olympics; however, the international olympic committee has retroactively upgraded their status to official events, and as well as the 1906 intercalated games.[8]\\nafter fifa was founded in 1904, it tried to arrange an international football tournament between nations outside the olympic framework in switzerland in 1906. these were very early days for international football, and the official history of fifa describes the competition as having been unsuccessful.[9]\\nat the 1908 summer olympics in london, football became an official olympic sport. planned by the football association (fa), england\\'s football governing body, the event was for amateur players only and was regarded suspiciously as a show rather than a competition. great britain (represented by the england national amateur football team) won the gold medals. they repeated the feat at the 1912 summer olympics in stockholm.[10]\\nwith the olympic event continuing to be a contest between amateur teams only, sir thomas lipton organised the sir thomas lipton trophy tournament in turin in 1909. the lipton tournament was a championship between individual clubs (not national teams) from different nations, each one of which represented an entire nation. the competition is sometimes described as the first world cup,[11] and featured the most prestigious professional club sides from italy, germany and switzerland, but the fa of england refused to be associated with the competition and declined the offer to send a professional team. lipton invited west auckland, an amateur side from county durham, to represent england instead. west auckland won the tournament and returned in 1911 to successfully defend their title.[12] prior to the lipton competition, from 1876 to 1904, games that were considered to be the \"football world championship\" were meetings between leading english and scottish clubs, such as the 1895 game between sunderland a.f.c. and the heart of midlothian f.c., which sunderland won.[13]\\nin 1914, fifa agreed to recognise the olympic tournament as a \"world football championship for amateurs\", and took responsibility for managing the event.[14] this paved the way for the world\\'s first intercontinental football competition for nations, at the 1920 summer olympics, contested by egypt and 13 european teams, and won by belgium.[15] uruguay won the next two olympic football tournaments in 1924 and 1928. those were also the first two open world championships, as 1924 was the start of fifa\\'s professional era, and is the reason why uruguay is allowed to wear 4 stars.[16][17]\\ndue to the success of the olympic football tournaments, fifa, with president jules rimet as the driving force, again started looking at staging its own international tournament outside of the olympics. on 28 may 1928, the fifa congress in amsterdam decided to stage a world championship.[18] with uruguay now two-time official football world champions and to celebrate their centenary of independence in 1930, fifa named uruguay as the host country of the inaugural world cup tournament.[19]\\nthe national associations of selected nations were invited to send a team, but the choice of uruguay as a venue for the competition meant a long and costly trip across the atlantic ocean for european sides, especially in the midst of the great depression. as such, no european country pledged to send a team until two months before the start of the competition. rimet eventually persuaded teams from belgium, france, romania, and yugoslavia to make the trip.[19] in total, 13 nations took part: seven from south america, four from europe, and two from north america.[20]\\nthe first two world cup matches took place simultaneously on 13 july 1930, and were won by france and the united states, who defeated mexico 4–1 and belgium 3–0 respectively. the first goal in world cup history was scored by lucien laurent of france.[21] in the final, uruguay defeated argentina 4–2 in front of 93,000 spectators in montevideo, and became the first nation to win the world cup.[22]  after the creation of the world cup, fifa and the ioc disagreed over the status of amateur players; football was dropped from the 1932 summer olympics.[23][24] after the ioc and fifa worked out their differences, olympic football returned at the 1936 summer olympics, but was now overshadowed by the more prestigious world cup.[23]\\nthe issues facing the early world cup tournaments were the difficulties of intercontinental travel, and war. few south american teams were willing to travel to europe for the 1934 world cup and all north and south american nations except brazil and cuba boycotted the 1938 tournament. brazil was the only south american team to compete in both. the 1942 and 1946 competitions, which germany and brazil sought to host,[25] were cancelled due to world war ii.[26]\\nthe 1950 world cup, held in brazil, was the first to include british football associations. scotland, england, wales, and northern ireland had withdrawn from fifa in 1920, partly out of unwillingness to play against the countries they had been at war with, and partly as a protest against foreign influence on football.[27] the teams rejoined in 1946 following fifa\\'s invitation.[28] the tournament also saw the return of 1930 champions uruguay, who had boycotted the previous two world cups. uruguay won the tournament again after defeating the host nation brazil, in the match called \"maracanazo\" (portuguese: maracanaço).[29]\\nin the tournaments between 1934 and 1978, 16 teams competed in each tournament, except in 1938, when austria was absorbed into germany after qualifying, leaving the tournament with 15 teams, and in 1950, when india, scotland, and turkey withdrew, leaving the tournament with 13 teams.[30] most of the participating nations were from europe and south america, with a small minority from north america, africa, asia, and oceania. these teams were usually defeated easily by the european and south american teams. until 1982, the only teams from outside europe and south america to advance out of the first round were: united states, semi-finalists in 1930; cuba, quarter-finalists in 1938; north korea, quarter-finalists in 1966; and mexico, quarter-finalists in 1970.\\nthe tournament was expanded to 24 teams in 1982,[31] and then to 32 in 1998,[32] allowing more teams from africa, asia and north america to take part. since then, teams from these regions have enjoyed more success, with several having reached the quarter-finals: mexico, quarter-finalists in 1986; cameroon, quarter-finalists in 1990; south korea, finishing in fourth place in 2002; senegal, along with usa, both quarter-finalists in 2002; ghana, quarter-finalists in 2010; costa rica, quarter-finalists in 2014; and morocco, finishing in fourth place in 2022. european and south american teams continue to dominate, e.g., the quarter-finalists in 1994, 1998, 2006 and 2018 were all from europe or south america and so were the finalists of all tournaments so far.\\ntwo hundred teams entered the 2002 fifa world cup qualification rounds. 198 nations attempted to qualify for the 2006 fifa world cup. a record 204 countries entered qualification for the 2010 fifa world cup.[33]\\nin october 2013, sepp blatter spoke of guaranteeing the caribbean football union\\'s region a position in the world cup.[34] in the edition of 25 october 2013 of the fifa weekly blatter wrote that: \"from a purely sporting perspective, i would like to see globalisation finally taken seriously, and the african and asian national associations accorded the status they deserve at the fifa world cup. it cannot be that the european and south american confederations lay claim to the majority of the berths at the world cup.\"[35] those two remarks suggested to commentators that blatter could be putting himself forward for re-election to the fifa presidency.[36]\\nfollowing the magazine\\'s publication, blatter\\'s would-be opponent for the fifa presidency, uefa president michel platini, responded that he intended to extend the world cup to 40 national associations, increasing the number of participants by eight. platini said that he would allocate an additional berth to uefa, two each to the asian football confederation and the confederation of african football, two shared between concacaf and conmebol, and a guaranteed place for the oceania football confederation.[37] platini was clear about why he wanted to expand the world cup. he said: \"[the world cup is] not based on the quality of the teams because you don\\'t have the best 32 at the world cup\\xa0... but it\\'s a good compromise.\\xa0... it\\'s a political matter so why not have more africans? the competition is to bring all the people of all the world. if you don\\'t give the possibility to participate, they don\\'t improve.\"[37]\\nin october 2016, fifa president gianni infantino stated his support for a 48-team world cup in 2026.[38] on 10 january 2017, fifa confirmed the 2026 world cup will have 48 finalist teams.[39]\\nby may 2015, the games were under a particularly dark cloud because of the 2015 fifa corruption case, allegations and criminal charges of bribery, fraud and money laundering to corrupt the issuing of media and marketing rights (rigged bids) for fifa games,[40] with fifa officials accused of taking bribes totaling more than $150\\xa0million over 24 years. in late may, the u.s. department of justice announced a 47-count indictment with charges of racketeering, wire fraud and money laundering conspiracy against 14 people. arrests of over a dozen fifa officials were made since that time, particularly on 29 may and 3 december.[41] by the end of may 2015, a total of nine fifa officials and five executives of sports and broadcasting markets had already been charged on corruption. at the time, fifa president sepp blatter announced he would relinquish his position in february 2016.[42]\\non 4 june 2015, chuck blazer while co-operating with the fbi and the swiss authorities admitted that he and the other members of fifa\\'s then-executive committee were bribed in order to promote the 1998 and 2010 world cups.[43] on 10 june 2015, swiss authorities seized computer data from the offices of sepp blatter.[44] the same day, fifa postponed the bidding process for the 2026 fifa world cup in light of the allegations surrounding bribery in the awarding of the 2018 and 2022 tournaments. then-secretary general jérôme valcke stated, \"due to the situation, i think it\\'s nonsense to start any bidding process for the time being.\"[45] on 28 october 2015, blatter and fifa vp michel platini, a potential candidate for presidency, were suspended for 90 days; both maintained their innocence in statements made to the news media.[46]\\non 3 december 2015 two fifa vice-presidents were arrested on suspicion of bribery in the same zurich hotel where seven fifa officials had been arrested in may.[47] an additional 16 indictments by the us department of justice were announced on the same day.[48]\\na biennial world cup plan was first proposed by the saudi arabian football federation at the 71st fifa congress on 21 may 2021 and prominently backed by former arsenal manager arsène wenger and national federations in africa and asia.[49]\\ncontinental confederations such as uefa and conmebol are not on board with the plan[50][51] but, in total, the idea is supported by 166 of the 210 member associations of fifa.[52]\\nan equivalent tournament for women\\'s football, the fifa women\\'s world cup, was first held in 1991 in china.[53] the women\\'s tournament is smaller in scale and profile than the men\\'s, but is growing; the number of entrants for the 2007 tournament was 120, more than double that of 1991.[54]\\nmen\\'s football has been included in every summer olympic games except 1896 and 1932. unlike many other sports, the men\\'s football tournament at the olympics is not a top-level tournament, and since 1992, an under-23 tournament with each team allowed three over-age players.[55] women\\'s football made its olympic debut in 1996.\\nthe fifa confederations cup was a tournament held one year before the world cup at the world cup host nation(s) as a dress rehearsal for the upcoming world cup. it is contested by the winners of each of the six fifa confederation championships, along with the fifa world cup champion and the host country.[56] the first edition took place in 1992 and the last edition was played in 2017. in march 2019, fifa confirmed that the tournament would no longer be active owing to an expansion of the fifa club world cup in 2021.[57]\\nfifa also organises international tournaments for youth football (fifa u-20 world cup, fifa u-17 world cup, fifa u-20 women\\'s world cup, fifa u-17 women\\'s world cup), club football (fifa club world cup), and football variants such as futsal (fifa futsal world cup) and beach soccer (fifa beach soccer world cup). the latter three do not have a women\\'s version, although a fifa women\\'s club world cup has been proposed.[58]\\nthe fifa u-20 women\\'s world cup is held biannually, including the year before each women\\'s world cup. both tournaments were awarded in a single bidding process on three occasions, with the u-20 tournament serving as a dress rehearsal for the larger competition each time (2010, 2014 and 2018).[59]\\nfrom 1930 to 1970, the jules rimet trophy was awarded to the world cup winning team. it was originally simply known as the world cup or coupe du monde, but in 1946 it was renamed after the fifa president jules rimet who set up the first tournament. in 1970, brazil\\'s third victory in the tournament entitled them to keep the trophy permanently. however, the trophy was stolen in 1983 and has never been recovered, apparently melted down by the thieves.[60]\\nafter 1970, a new trophy, known as the fifa world cup trophy, was designed. the experts of fifa, coming from seven countries, evaluated the 53 presented models, finally opting for the work of the italian designer silvio gazzaniga. the new trophy is 36\\xa0cm (14.2\\xa0in) high, made of solid 18 carat (75%) gold and weighs 6.175\\xa0kg (13.6\\xa0lb).[61]\\nthe base contains two layers of semi-precious malachite while the bottom side of the trophy bears the engraved year and name of each fifa world cup winner since 1974.[61] the description of the trophy by gazzaniga was: \"the lines spring out from the base, rising in spirals, stretching out to receive the world. from the remarkable dynamic tensions of the compact body of the sculpture rise the figures of two athletes at the stirring moment of victory.\"[62]\\nthis new trophy is not awarded to the winning nation permanently. world cup winners retain the trophy only until the post-match celebration is finished. they are awarded a gold-plated replica rather than the solid gold original immediately afterwards.[63]\\nall members (players, coaches, and managers) of the top three teams receive medals with an insignia of the world cup trophy; winners\\' (gold), runners-up\\' (silver), and third-place (bronze). in the 2002 edition, fourth-place medals were awarded to hosts south korea. before the 1978 tournament, medals were only awarded to the eleven players on the pitch at the end of the final and the third-place match. in november 2007, fifa announced that all members of world cup-winning squads between 1930 and 1974 were to be retroactively awarded winners\\' medals.[64][65][66]\\nsince 2006, winners of the competition are also awarded the right to wear the fifa champions badge, up until the time at which the winner of the next competition is decided.[67]\\nsince the second world cup in 1934, qualifying tournaments have been held to thin the field for the final tournament.[68] they are held within the six fifa continental zones (africa, asia, north and central america and caribbean, south america, oceania, and europe), overseen by their respective confederations. for each tournament, fifa decides the number of places awarded to each of the continental zones beforehand, generally based on the relative strength of the confederations\\' teams.\\nthe qualification process can start as early as almost three years before the final tournament and last over a two-year period. the formats of the qualification tournaments differ between confederations. usually, one or two places are awarded to winners of intercontinental play-offs. for example, the winner of the oceanian zone and the fifth-placed team from the asian zone entered a play-off for a spot in the 2010 world cup.[69] from the 1938 world cup onwards, host nations receive automatic qualification to the final tournament. this right was also granted to the defending champions between 1938 and 2002, but was withdrawn from the 2006 fifa world cup onward, requiring the champions to qualify. brazil, winners in 2002, were the first defending champions to play qualifying matches.[70]\\nthe final tournament format since 1998 has 32 national teams competing over the course of a month in the host nations. there are two stages: the group stage followed by the knockout stage.[71]\\nin the group stage, teams compete within eight groups of four teams each. eight teams are seeded, including the hosts, with the other seeded teams selected using a formula based on the fifa world rankings or performances in recent world cups, and drawn to separate groups.[72] the other teams are assigned to different \"pots\", usually based on geographical criteria, and teams in each pot are drawn at random to the eight groups. since 1998, constraints have been applied to the draw to ensure that no group contains more than two european teams or more than one team from any other confederation.[73]\\neach group plays a round-robin tournament, in which each team is scheduled for three matches against other teams in the same group. this means that a total of six matches are played within a group. the last round of matches of each group is scheduled at the same time to preserve fairness among all four teams.[74] the top two teams from each group advance to the knockout stage. points are used to rank the teams within a group. since 1994, three points have been awarded for a win, one for a draw and none for a loss (before, winners received two points).\\nconsidering all possible outcomes (win, draw, loss) for all six matches in a group, there are 729 (= 36) combinations possible. however, 207 of these combinations lead to ties between the second and third places. in such case, the ranking among these teams is determined by:[75]\\nthe knockout stage is a single-elimination tournament in which teams play each other in one-off matches, with extra time and penalty shootouts used to decide the winner if necessary. it begins with the round of 16 (or the second round) in which the winner of each group plays against the runner-up of another group. this is followed by the quarter-finals, the semi-finals, the third-place match (contested by the losing semi-finalists), and the final.[71]\\non 10 january 2017, fifa approved a new format, the 48-team world cup (to accommodate more teams), which was to consist of 16 groups of three teams each, with two teams qualifying from each group, to form a round of 32 knockout stage, to be implemented by 2026.[76] on 14 march 2023, fifa approved a revised format of the 2026 tournament, which features 12 groups of four teams each, with the top 8 third-placed teams joining the group winners and runners-up in a new round of 32.[77][78]\\nearly world cups were given to countries at meetings of fifa\\'s congress. the locations were controversial because south america and europe were by far the two centres of strength in football and travel between them required three weeks by boat. the decision to hold the first world cup in uruguay, for example, led to only four european nations competing.[79] the next two world cups were both held in europe. the decision to hold the second of these in france was disputed, as the south american countries understood that the location would alternate between the two continents. both argentina and uruguay thus boycotted the 1938 fifa world cup.[80]\\nsince the 1958 fifa world cup, to avoid future boycotts or controversy, fifa began a pattern of alternating the hosts between the americas and europe, which continued until the 1998 fifa world cup. the 2002 fifa world cup, hosted jointly by south korea and japan, was the first one held in asia, and the first tournament with multiple hosts.[81] south africa became the first african nation to host the world cup in 2010. the 2014 fifa world cup was hosted by brazil, the first held in south america since argentina 1978,[82] and was the first occasion where consecutive world cups were held outside europe.[83]\\nthe host country is now chosen in a vote by fifa\\'s council. this is done under an exhaustive ballot system. the national football association of a country desiring to host the event receives a \"hosting agreement\" from fifa, which explains the steps and requirements that are expected from a strong bid. the bidding association also receives a form, the submission of which represents the official confirmation of the candidacy. after this, a fifa designated group of inspectors visit the country to identify that the country meets the requirements needed to host the event and a report on the country is produced. the decision on who will host the world cup is usually made six or seven years in advance of the tournament. there have been occasions where the hosts of multiple future tournaments were announced at the same time, as was the case for the 2018 and 2022 world cups, which were awarded to russia and qatar, with qatar becoming the first middle eastern country to host the tournament.[84][85]\\nfor the 2010 and 2014 world cups, the final tournament is rotated between confederations, allowing only countries from the chosen confederation (africa in 2010, south america in 2014) to bid to host the tournament. the rotation policy was introduced after the controversy surrounding germany\\'s victory over south africa in the vote to host the 2006 tournament. however, the policy of continental rotation did not continue beyond 2014, so any country, except those belonging to confederations that hosted the two preceding tournaments, can apply as hosts for world cups starting from 2018.[86] this is partly to avoid a similar scenario to the bidding process for the 2014 tournament, where brazil was the only official bidder.[87]\\nthe 2026 fifa world cup was chosen to be held in the united states, canada and mexico, marking the first time a world cup has been shared by three host nations.[88] the 2026 tournament will be the biggest world cup ever held, with 48 teams playing 80 matches. sixty matches will take place in the us, including all matches from the quarter-finals onward, while canada and mexico will host 10 games each.[88]\\n* west germany was the host of the 1974 cup, and (reunited) germany host to the one in 2006\\nsix of the eight champions have won one of their titles while playing in their own homeland, the exceptions being brazil, who finished as runners-up after losing the deciding match on home soil in 1950 and lost their semi-final against germany in 2014, and spain, which reached the second round on home soil in 1982. england (1966) won its only title while playing as a host nation. uruguay (1930), italy (1934), argentina (1978), and france (1998) won their first titles as host nations but have gone on to win again, while germany (1974) won their second title on home soil.[89][90]\\nother nations have also been successful when hosting the tournament. switzerland (quarter-finals 1954), sweden (runners-up in 1958), chile (third place in 1962), south korea (fourth place in 2002), russia (quarter-finals 2018), and mexico (quarter-finals in 1970 and 1986) all have their best results when serving as hosts.[90][91] so far, south africa (2010) and qatar (2022) failed to advance beyond the first round.[92][93]\\n† source: fifa[95]\\n‡ the best-attended single match has been the final in 11 of the 21 world cups as of 2018[update]. another match or matches drew more attendance than the final in 1930, 1938, 1958, 1962, 1970–1982, 1990, and 2006.\\nthe world cup was first televised in 1954 and as of 2006[update] is the most widely viewed and followed sporting event in the world. the cumulative viewership of all matches of the 2006 world cup was estimated to be 26.29\\xa0billion.[1] 715.1\\xa0million individuals watched the final match of the tournament, almost a ninth of the entire population of the planet. the 2006 world cup draw, which decided the distribution of teams into groups, was watched by 300\\xa0million viewers.[96] the world cup attracts major sponsors such as coca-cola, mcdonald\\'s and adidas. for these companies and many more, being a sponsor strongly impacts their global brands. host countries typically experience a multimillion-dollar revenue increase from the month-long event.\\nthe governing body of the sport, fifa, generated $4.8\\xa0billion in revenue from the 2014 tournament,[97] and $6.1\\xa0billion from the 2018 tournament.[98]\\neach fifa world cup since 1966 has its own mascot or logo. world cup willie, the mascot for the 1966 competition, was the first world cup mascot.[99] world cups feature official match balls specially designed for each tournament. after slazenger produced the ball for the 1966 world cup adidas became the official supplier to fifa.[100] each world cup also has an official song, which have been performed by artists ranging from shakira to will smith.[101][102] other songs, such as “nessun dorma”, performed by the three tenors at four world cup concerts, have also become identified with the tournament.[103]\\n\\nforming a partnership with fifa in 1970, panini published its first sticker album for the 1970 world cup.[104] since then, collecting and trading stickers and cards has become part of the world cup experience, especially for the younger generation.[105] fifa has licensed world cup video games since 1986, sponsored by electronic arts.[104]in all, 80 nations have played in at least one world cup.[109] of these, eight national teams have won the world cup, and they have added stars to their badges, with each star representing a world cup victory. (uruguay, however, choose to display four stars on their badge, representing their two gold medals at the 1924 and 1928 summer olympics, which are recognised by fifa as world championships, and their two world cup titles in 1930 and 1950).\\nwith five titles, brazil are the most successful world cup team and also the only nation to have played in every world cup (22) to date.[110] brazil were also the first team to win the world cup for the third (1970), fourth (1994) and fifth (2002) time. italy (1934 and 1938) and brazil (1958 and 1962) are the only nations to have won consecutive titles. west germany (1982–1990) and brazil (1994–2002) are the only nations to appear in three consecutive world cup finals. germany has made the most top-four finishes (13), medals (12), as well as the most finals (8).\\nto date, the final of the world cup has only been contested by teams from the uefa (europe) and conmebol (south america) confederations. european nations have won twelve titles, while south american nations have won ten. only three teams from outside these two continents have ever reached the semi-finals of the competition: united states (north, central america and caribbean) in 1930; south korea (asia) in 2002; and morocco (africa) in 2022. only one oceanian qualifier, australia in 2006, has advanced to the second round, a feat they later reaccomplished in 2022.[a]\\nbrazil, argentina, spain and germany are the only teams to win a world cup hosted outside their continental confederation; brazil came out victorious in europe (1958), north america (1970 and 1994) and asia (2002). argentina won a world cup in north america in 1986 and in asia in 2022. spain won in africa in 2010. in 2014, germany became the first european team to win in the americas. only on five occasions have consecutive world cups been won by teams from the same continent; the longest streak of tournaments won by a single confederation is four, with the 2006, 2010, 2014, and 2018 tournaments all won by uefa teams (italy, spain, germany, and france, respectively).\\nfive players share the record for playing in the most world cups; mexico\\'s antonio carbajal (1950–1966) and rafael márquez (2002–2018); germany\\'s lothar matthäus (1982–1998); argentina\\'s lionel messi (2006–2022); and portugal\\'s cristiano ronaldo (2006–2022) all played in five tournaments with ronaldo also being the first and only player to score in five tournaments.[111][112] messi has played the most world cup matches overall, with 26 appearances.[113] brazil\\'s djalma santos (1954–1962), west germany\\'s franz beckenbauer (1966–1974), and germany\\'s philipp lahm (2006–2014) are the only players to be named to three world cup all-star teams.[114]\\nmiroslav klose of germany (2002–2014) is the all-time top scorer at the world cup with 16 goals. he broke ronaldo of brazil\\'s record of 15 goals (1998–2006) during the 2014 semi-final match against brazil. west germany\\'s gerd müller (1970–1974) is third, with 14 goals.[115] the fourth-placed goalscorer, france\\'s just fontaine, holds the record for the most goals scored in a single world cup; all his 13 goals were scored in the 1958 tournament.[116]\\nin november 2007, fifa announced that all members of world cup-winning squads between 1930 and 1974 were to be retroactively awarded winners\\' medals.[64] this made brazil\\'s pelé the only player to have won three world cup winners\\' medals (1958, 1962, and 1970, although he did not play in the 1962 final due to injury),[117] with 20 other players who have won two winners\\' medals. seven players have collected all three types of world cup medals (winners\\', runner- ups\\', and third-place); five players were from west germany\\'s squad of 1966–1974: franz beckenbauer, jürgen grabowski, horst-dieter höttges, sepp maier, and wolfgang overath (1966–1974), italy\\'s franco baresi (1982, 1990, 1994) and the most recent has been miroslav klose of germany (2002–2014) with four consecutive medals.[118]\\nbrazil\\'s mário zagallo, west germany\\'s franz beckenbauer and france\\'s didier deschamps are the only people to date to win the world cup as both player and head coach. zagallo won in 1958 and 1962 as a player and in 1970 as head coach.[119] beckenbauer won in 1974 as captain and in 1990 as head coach,[120] and deschamps repeated the feat in 2018, after having won in 1998 as captain.[121] italy\\'s vittorio pozzo is the only head coach to ever win two world cups (1934 and 1938).[122] all world cup-winning head coaches were natives of the country they coached to victory.[123]\\namong the national teams, germany and brazil have played the most world cup matches (109), germany appeared in the most finals (8), semi-finals (13), and quarter-finals (16), while brazil has appeared in the most world cups (21), has the most wins (73) and has scored the most goals (229).[124][125] the two teams have played each other twice in the world cup, in the 2002 final and in the 2014 semi-final.[126]\\nplayers in bold are still active.\\nat the end of each world cup, awards are presented to the players and teams for accomplishments other than their final team positions in the tournament. \\n'"
     },
     "execution_count": 60,
     "metadata": {},
     "output_type": "execute_result"
    }
   ],
   "source": [
    "article_text"
   ],
   "metadata": {
    "collapsed": false,
    "ExecuteTime": {
     "end_time": "2023-07-08T21:44:33.942654300Z",
     "start_time": "2023-07-08T21:44:33.938208Z"
    }
   }
  },
  {
   "cell_type": "code",
   "execution_count": 61,
   "outputs": [
    {
     "data": {
      "text/plain": "33901"
     },
     "execution_count": 61,
     "metadata": {},
     "output_type": "execute_result"
    }
   ],
   "source": [
    "len(article_text)"
   ],
   "metadata": {
    "collapsed": false,
    "ExecuteTime": {
     "end_time": "2023-07-08T21:44:33.945983600Z",
     "start_time": "2023-07-08T21:44:33.942654300Z"
    }
   }
  },
  {
   "cell_type": "code",
   "execution_count": 62,
   "outputs": [],
   "source": [
    "def preprocess_text(text: str) -> str:\n",
    "    text = re.sub(r'\\s+', ' ', text)\n",
    "    text = re.sub(r'\\[[0-9]*\\]', ' ', text)\n",
    "    text = re.sub('(?<=[a-z])\\'(?=[a-z])', '', text)\n",
    "\n",
    "    text = unicodedata.normalize('NFKD', text).encode('ascii', 'ignore').decode('utf-8', 'ignore')\n",
    "    pattern = r'[^a-zA-z0-9.,!?/:;\\\"\\'\\s]'\n",
    "    text = re.sub(pattern, '', text)\n",
    "    # text = ''.join([c for c in text if c not in string.punctuation])\n",
    "\n",
    "    return text"
   ],
   "metadata": {
    "collapsed": false,
    "ExecuteTime": {
     "end_time": "2023-07-08T21:44:33.950045600Z",
     "start_time": "2023-07-08T21:44:33.946985Z"
    }
   }
  },
  {
   "cell_type": "code",
   "execution_count": 63,
   "outputs": [],
   "source": [
    "preprocessed_text = preprocess_text(article_text)"
   ],
   "metadata": {
    "collapsed": false,
    "ExecuteTime": {
     "end_time": "2023-07-08T21:44:33.956372100Z",
     "start_time": "2023-07-08T21:44:33.950045600Z"
    }
   }
  },
  {
   "cell_type": "code",
   "execution_count": 64,
   "outputs": [
    {
     "data": {
      "text/plain": "' the fifa world cup, often simply called the world cup, is an international association football competition between the senior mens national teams of the members of the federation internationale de football association fifa, the sports global governing body. the tournament has been held every four years since the inaugural tournament in 1930, with the exception of 1942 and 1946 due to the second world war. the reigning champions are argentina, who won their third title at the 2022 tournament. the contest starts with the qualification phase, which takes place over the preceding three years, to determine which teams qualify for the tournament phase. in the tournament phase, 32 teams compete for the title at venues within the host nations over about a month. the host nations automatically qualify for the group stage of the tournament. the next fifa world cup is scheduled to expand to 48 teams for the 2026 tournament. as of the 2022 fifa world cup, 22 final tournaments have been held since the events inception in 1930, and a total of 80 national teams have competed. the trophy has been won by eight national teams. brazil, with five wins, are the only team to have played in every tournament. the other world cup winners are germany and italy, with four titles each; argentina, with three titles; france and inaugural winner uruguay, each with two titles; and england and spain, with one title each. the world cup is the most prestigious association football tournament in the world, as well as the most widely viewed and followed single sporting event in the world.   the viewership of the 2018 world cup was estimated to be 3.57 billion, close to half of the global population,   while the engagement with 2022 world cup was estimated to be 5 billion with about 1.5 billion people watching the final match.  seventeen countries have hosted the world cup, most recently qatar, who hosted the 2022 event. the 2026 tournament will be jointly hosted by canada, the united states and mexico, which will give mexico the distinction of being the first country to host games in three world cups. the worlds first international football match was a challenge match played in glasgow in 1872 between scotland and england.  the first international tournament for nations, the inaugural british home championship, took place in 1884 and included games between england, scotland, wales, and ireland.  as football grew in popularity in other parts of the world at the start of the 20th century, it was held as a demonstration sport with no medals awarded at the 1900 and 1904 summer olympics; however, the international olympic committee has retroactively upgraded their status to official events, and as well as the 1906 intercalated games.  after fifa was founded in 1904, it tried to arrange an international football tournament between nations outside the olympic framework in switzerland in 1906. these were very early days for international football, and the official history of fifa describes the competition as having been unsuccessful.  at the 1908 summer olympics in london, football became an official olympic sport. planned by the football association fa, englands football governing body, the event was for amateur players only and was regarded suspiciously as a show rather than a competition. great britain represented by the england national amateur football team won the gold medals. they repeated the feat at the 1912 summer olympics in stockholm.  with the olympic event continuing to be a contest between amateur teams only, sir thomas lipton organised the sir thomas lipton trophy tournament in turin in 1909. the lipton tournament was a championship between individual clubs not national teams from different nations, each one of which represented an entire nation. the competition is sometimes described as the first world cup,  and featured the most prestigious professional club sides from italy, germany and switzerland, but the fa of england refused to be associated with the competition and declined the offer to send a professional team. lipton invited west auckland, an amateur side from county durham, to represent england instead. west auckland won the tournament and returned in 1911 to successfully defend their title.  prior to the lipton competition, from 1876 to 1904, games that were considered to be the \"football world championship\" were meetings between leading english and scottish clubs, such as the 1895 game between sunderland a.f.c. and the heart of midlothian f.c., which sunderland won.  in 1914, fifa agreed to recognise the olympic tournament as a \"world football championship for amateurs\", and took responsibility for managing the event.  this paved the way for the worlds first intercontinental football competition for nations, at the 1920 summer olympics, contested by egypt and 13 european teams, and won by belgium.  uruguay won the next two olympic football tournaments in 1924 and 1928. those were also the first two open world championships, as 1924 was the start of fifas professional era, and is the reason why uruguay is allowed to wear 4 stars.   due to the success of the olympic football tournaments, fifa, with president jules rimet as the driving force, again started looking at staging its own international tournament outside of the olympics. on 28 may 1928, the fifa congress in amsterdam decided to stage a world championship.  with uruguay now twotime official football world champions and to celebrate their centenary of independence in 1930, fifa named uruguay as the host country of the inaugural world cup tournament.  the national associations of selected nations were invited to send a team, but the choice of uruguay as a venue for the competition meant a long and costly trip across the atlantic ocean for european sides, especially in the midst of the great depression. as such, no european country pledged to send a team until two months before the start of the competition. rimet eventually persuaded teams from belgium, france, romania, and yugoslavia to make the trip.  in total, 13 nations took part: seven from south america, four from europe, and two from north america.  the first two world cup matches took place simultaneously on 13 july 1930, and were won by france and the united states, who defeated mexico 41 and belgium 30 respectively. the first goal in world cup history was scored by lucien laurent of france.  in the final, uruguay defeated argentina 42 in front of 93,000 spectators in montevideo, and became the first nation to win the world cup.  after the creation of the world cup, fifa and the ioc disagreed over the status of amateur players; football was dropped from the 1932 summer olympics.   after the ioc and fifa worked out their differences, olympic football returned at the 1936 summer olympics, but was now overshadowed by the more prestigious world cup.  the issues facing the early world cup tournaments were the difficulties of intercontinental travel, and war. few south american teams were willing to travel to europe for the 1934 world cup and all north and south american nations except brazil and cuba boycotted the 1938 tournament. brazil was the only south american team to compete in both. the 1942 and 1946 competitions, which germany and brazil sought to host,  were cancelled due to world war ii.  the 1950 world cup, held in brazil, was the first to include british football associations. scotland, england, wales, and northern ireland had withdrawn from fifa in 1920, partly out of unwillingness to play against the countries they had been at war with, and partly as a protest against foreign influence on football.  the teams rejoined in 1946 following fifas invitation.  the tournament also saw the return of 1930 champions uruguay, who had boycotted the previous two world cups. uruguay won the tournament again after defeating the host nation brazil, in the match called \"maracanazo\" portuguese: maracanaco.  in the tournaments between 1934 and 1978, 16 teams competed in each tournament, except in 1938, when austria was absorbed into germany after qualifying, leaving the tournament with 15 teams, and in 1950, when india, scotland, and turkey withdrew, leaving the tournament with 13 teams.  most of the participating nations were from europe and south america, with a small minority from north america, africa, asia, and oceania. these teams were usually defeated easily by the european and south american teams. until 1982, the only teams from outside europe and south america to advance out of the first round were: united states, semifinalists in 1930; cuba, quarterfinalists in 1938; north korea, quarterfinalists in 1966; and mexico, quarterfinalists in 1970. the tournament was expanded to 24 teams in 1982,  and then to 32 in 1998,  allowing more teams from africa, asia and north america to take part. since then, teams from these regions have enjoyed more success, with several having reached the quarterfinals: mexico, quarterfinalists in 1986; cameroon, quarterfinalists in 1990; south korea, finishing in fourth place in 2002; senegal, along with usa, both quarterfinalists in 2002; ghana, quarterfinalists in 2010; costa rica, quarterfinalists in 2014; and morocco, finishing in fourth place in 2022. european and south american teams continue to dominate, e.g., the quarterfinalists in 1994, 1998, 2006 and 2018 were all from europe or south america and so were the finalists of all tournaments so far. two hundred teams entered the 2002 fifa world cup qualification rounds. 198 nations attempted to qualify for the 2006 fifa world cup. a record 204 countries entered qualification for the 2010 fifa world cup.  in october 2013, sepp blatter spoke of guaranteeing the caribbean football unions region a position in the world cup.  in the edition of 25 october 2013 of the fifa weekly blatter wrote that: \"from a purely sporting perspective, i would like to see globalisation finally taken seriously, and the african and asian national associations accorded the status they deserve at the fifa world cup. it cannot be that the european and south american confederations lay claim to the majority of the berths at the world cup.\"  those two remarks suggested to commentators that blatter could be putting himself forward for reelection to the fifa presidency.  following the magazines publication, blatters wouldbe opponent for the fifa presidency, uefa president michel platini, responded that he intended to extend the world cup to 40 national associations, increasing the number of participants by eight. platini said that he would allocate an additional berth to uefa, two each to the asian football confederation and the confederation of african football, two shared between concacaf and conmebol, and a guaranteed place for the oceania football confederation.  platini was clear about why he wanted to expand the world cup. he said: \"[the world cup is] not based on the quality of the teams because you dont have the best 32 at the world cup ... but its a good compromise. ... its a political matter so why not have more africans? the competition is to bring all the people of all the world. if you dont give the possibility to participate, they dont improve.\"  in october 2016, fifa president gianni infantino stated his support for a 48team world cup in 2026.  on 10 january 2017, fifa confirmed the 2026 world cup will have 48 finalist teams.  by may 2015, the games were under a particularly dark cloud because of the 2015 fifa corruption case, allegations and criminal charges of bribery, fraud and money laundering to corrupt the issuing of media and marketing rights rigged bids for fifa games,  with fifa officials accused of taking bribes totaling more than 150 million over 24 years. in late may, the u.s. department of justice announced a 47count indictment with charges of racketeering, wire fraud and money laundering conspiracy against 14 people. arrests of over a dozen fifa officials were made since that time, particularly on 29 may and 3 december.  by the end of may 2015, a total of nine fifa officials and five executives of sports and broadcasting markets had already been charged on corruption. at the time, fifa president sepp blatter announced he would relinquish his position in february 2016.  on 4 june 2015, chuck blazer while cooperating with the fbi and the swiss authorities admitted that he and the other members of fifas thenexecutive committee were bribed in order to promote the 1998 and 2010 world cups.  on 10 june 2015, swiss authorities seized computer data from the offices of sepp blatter.  the same day, fifa postponed the bidding process for the 2026 fifa world cup in light of the allegations surrounding bribery in the awarding of the 2018 and 2022 tournaments. thensecretary general jerome valcke stated, \"due to the situation, i think its nonsense to start any bidding process for the time being.\"  on 28 october 2015, blatter and fifa vp michel platini, a potential candidate for presidency, were suspended for 90 days; both maintained their innocence in statements made to the news media.  on 3 december 2015 two fifa vicepresidents were arrested on suspicion of bribery in the same zurich hotel where seven fifa officials had been arrested in may.  an additional 16 indictments by the us department of justice were announced on the same day.  a biennial world cup plan was first proposed by the saudi arabian football federation at the 71st fifa congress on 21 may 2021 and prominently backed by former arsenal manager arsene wenger and national federations in africa and asia.  continental confederations such as uefa and conmebol are not on board with the plan   but, in total, the idea is supported by 166 of the 210 member associations of fifa.  an equivalent tournament for womens football, the fifa womens world cup, was first held in 1991 in china.  the womens tournament is smaller in scale and profile than the mens, but is growing; the number of entrants for the 2007 tournament was 120, more than double that of 1991.  mens football has been included in every summer olympic games except 1896 and 1932. unlike many other sports, the mens football tournament at the olympics is not a toplevel tournament, and since 1992, an under23 tournament with each team allowed three overage players.  womens football made its olympic debut in 1996. the fifa confederations cup was a tournament held one year before the world cup at the world cup host nations as a dress rehearsal for the upcoming world cup. it is contested by the winners of each of the six fifa confederation championships, along with the fifa world cup champion and the host country.  the first edition took place in 1992 and the last edition was played in 2017. in march 2019, fifa confirmed that the tournament would no longer be active owing to an expansion of the fifa club world cup in 2021.  fifa also organises international tournaments for youth football fifa u20 world cup, fifa u17 world cup, fifa u20 womens world cup, fifa u17 womens world cup, club football fifa club world cup, and football variants such as futsal fifa futsal world cup and beach soccer fifa beach soccer world cup. the latter three do not have a womens version, although a fifa womens club world cup has been proposed.  the fifa u20 womens world cup is held biannually, including the year before each womens world cup. both tournaments were awarded in a single bidding process on three occasions, with the u20 tournament serving as a dress rehearsal for the larger competition each time 2010, 2014 and 2018.  from 1930 to 1970, the jules rimet trophy was awarded to the world cup winning team. it was originally simply known as the world cup or coupe du monde, but in 1946 it was renamed after the fifa president jules rimet who set up the first tournament. in 1970, brazils third victory in the tournament entitled them to keep the trophy permanently. however, the trophy was stolen in 1983 and has never been recovered, apparently melted down by the thieves.  after 1970, a new trophy, known as the fifa world cup trophy, was designed. the experts of fifa, coming from seven countries, evaluated the 53 presented models, finally opting for the work of the italian designer silvio gazzaniga. the new trophy is 36 cm 14.2 in high, made of solid 18 carat 75 gold and weighs 6.175 kg 13.6 lb.  the base contains two layers of semiprecious malachite while the bottom side of the trophy bears the engraved year and name of each fifa world cup winner since 1974.  the description of the trophy by gazzaniga was: \"the lines spring out from the base, rising in spirals, stretching out to receive the world. from the remarkable dynamic tensions of the compact body of the sculpture rise the figures of two athletes at the stirring moment of victory.\"  this new trophy is not awarded to the winning nation permanently. world cup winners retain the trophy only until the postmatch celebration is finished. they are awarded a goldplated replica rather than the solid gold original immediately afterwards.  all members players, coaches, and managers of the top three teams receive medals with an insignia of the world cup trophy; winners\\' gold, runnersup\\' silver, and thirdplace bronze. in the 2002 edition, fourthplace medals were awarded to hosts south korea. before the 1978 tournament, medals were only awarded to the eleven players on the pitch at the end of the final and the thirdplace match. in november 2007, fifa announced that all members of world cupwinning squads between 1930 and 1974 were to be retroactively awarded winners\\' medals.    since 2006, winners of the competition are also awarded the right to wear the fifa champions badge, up until the time at which the winner of the next competition is decided.  since the second world cup in 1934, qualifying tournaments have been held to thin the field for the final tournament.  they are held within the six fifa continental zones africa, asia, north and central america and caribbean, south america, oceania, and europe, overseen by their respective confederations. for each tournament, fifa decides the number of places awarded to each of the continental zones beforehand, generally based on the relative strength of the confederations\\' teams. the qualification process can start as early as almost three years before the final tournament and last over a twoyear period. the formats of the qualification tournaments differ between confederations. usually, one or two places are awarded to winners of intercontinental playoffs. for example, the winner of the oceanian zone and the fifthplaced team from the asian zone entered a playoff for a spot in the 2010 world cup.  from the 1938 world cup onwards, host nations receive automatic qualification to the final tournament. this right was also granted to the defending champions between 1938 and 2002, but was withdrawn from the 2006 fifa world cup onward, requiring the champions to qualify. brazil, winners in 2002, were the first defending champions to play qualifying matches.  the final tournament format since 1998 has 32 national teams competing over the course of a month in the host nations. there are two stages: the group stage followed by the knockout stage.  in the group stage, teams compete within eight groups of four teams each. eight teams are seeded, including the hosts, with the other seeded teams selected using a formula based on the fifa world rankings or performances in recent world cups, and drawn to separate groups.  the other teams are assigned to different \"pots\", usually based on geographical criteria, and teams in each pot are drawn at random to the eight groups. since 1998, constraints have been applied to the draw to ensure that no group contains more than two european teams or more than one team from any other confederation.  each group plays a roundrobin tournament, in which each team is scheduled for three matches against other teams in the same group. this means that a total of six matches are played within a group. the last round of matches of each group is scheduled at the same time to preserve fairness among all four teams.  the top two teams from each group advance to the knockout stage. points are used to rank the teams within a group. since 1994, three points have been awarded for a win, one for a draw and none for a loss before, winners received two points. considering all possible outcomes win, draw, loss for all six matches in a group, there are 729  36 combinations possible. however, 207 of these combinations lead to ties between the second and third places. in such case, the ranking among these teams is determined by:  the knockout stage is a singleelimination tournament in which teams play each other in oneoff matches, with extra time and penalty shootouts used to decide the winner if necessary. it begins with the round of 16 or the second round in which the winner of each group plays against the runnerup of another group. this is followed by the quarterfinals, the semifinals, the thirdplace match contested by the losing semifinalists, and the final.  on 10 january 2017, fifa approved a new format, the 48team world cup to accommodate more teams, which was to consist of 16 groups of three teams each, with two teams qualifying from each group, to form a round of 32 knockout stage, to be implemented by 2026.  on 14 march 2023, fifa approved a revised format of the 2026 tournament, which features 12 groups of four teams each, with the top 8 thirdplaced teams joining the group winners and runnersup in a new round of 32.   early world cups were given to countries at meetings of fifas congress. the locations were controversial because south america and europe were by far the two centres of strength in football and travel between them required three weeks by boat. the decision to hold the first world cup in uruguay, for example, led to only four european nations competing.  the next two world cups were both held in europe. the decision to hold the second of these in france was disputed, as the south american countries understood that the location would alternate between the two continents. both argentina and uruguay thus boycotted the 1938 fifa world cup.  since the 1958 fifa world cup, to avoid future boycotts or controversy, fifa began a pattern of alternating the hosts between the americas and europe, which continued until the 1998 fifa world cup. the 2002 fifa world cup, hosted jointly by south korea and japan, was the first one held in asia, and the first tournament with multiple hosts.  south africa became the first african nation to host the world cup in 2010. the 2014 fifa world cup was hosted by brazil, the first held in south america since argentina 1978,  and was the first occasion where consecutive world cups were held outside europe.  the host country is now chosen in a vote by fifas council. this is done under an exhaustive ballot system. the national football association of a country desiring to host the event receives a \"hosting agreement\" from fifa, which explains the steps and requirements that are expected from a strong bid. the bidding association also receives a form, the submission of which represents the official confirmation of the candidacy. after this, a fifa designated group of inspectors visit the country to identify that the country meets the requirements needed to host the event and a report on the country is produced. the decision on who will host the world cup is usually made six or seven years in advance of the tournament. there have been occasions where the hosts of multiple future tournaments were announced at the same time, as was the case for the 2018 and 2022 world cups, which were awarded to russia and qatar, with qatar becoming the first middle eastern country to host the tournament.   for the 2010 and 2014 world cups, the final tournament is rotated between confederations, allowing only countries from the chosen confederation africa in 2010, south america in 2014 to bid to host the tournament. the rotation policy was introduced after the controversy surrounding germanys victory over south africa in the vote to host the 2006 tournament. however, the policy of continental rotation did not continue beyond 2014, so any country, except those belonging to confederations that hosted the two preceding tournaments, can apply as hosts for world cups starting from 2018.  this is partly to avoid a similar scenario to the bidding process for the 2014 tournament, where brazil was the only official bidder.  the 2026 fifa world cup was chosen to be held in the united states, canada and mexico, marking the first time a world cup has been shared by three host nations.  the 2026 tournament will be the biggest world cup ever held, with 48 teams playing 80 matches. sixty matches will take place in the us, including all matches from the quarterfinals onward, while canada and mexico will host 10 games each.   west germany was the host of the 1974 cup, and reunited germany host to the one in 2006 six of the eight champions have won one of their titles while playing in their own homeland, the exceptions being brazil, who finished as runnersup after losing the deciding match on home soil in 1950 and lost their semifinal against germany in 2014, and spain, which reached the second round on home soil in 1982. england 1966 won its only title while playing as a host nation. uruguay 1930, italy 1934, argentina 1978, and france 1998 won their first titles as host nations but have gone on to win again, while germany 1974 won their second title on home soil.   other nations have also been successful when hosting the tournament. switzerland quarterfinals 1954, sweden runnersup in 1958, chile third place in 1962, south korea fourth place in 2002, russia quarterfinals 2018, and mexico quarterfinals in 1970 and 1986 all have their best results when serving as hosts.   so far, south africa 2010 and qatar 2022 failed to advance beyond the first round.    source: fifa   the bestattended single match has been the final in 11 of the 21 world cups as of 2018[update]. another match or matches drew more attendance than the final in 1930, 1938, 1958, 1962, 19701982, 1990, and 2006. the world cup was first televised in 1954 and as of 2006[update] is the most widely viewed and followed sporting event in the world. the cumulative viewership of all matches of the 2006 world cup was estimated to be 26.29 billion.  715.1 million individuals watched the final match of the tournament, almost a ninth of the entire population of the planet. the 2006 world cup draw, which decided the distribution of teams into groups, was watched by 300 million viewers.  the world cup attracts major sponsors such as cocacola, mcdonalds and adidas. for these companies and many more, being a sponsor strongly impacts their global brands. host countries typically experience a multimilliondollar revenue increase from the monthlong event. the governing body of the sport, fifa, generated 4.8 billion in revenue from the 2014 tournament,  and 6.1 billion from the 2018 tournament.  each fifa world cup since 1966 has its own mascot or logo. world cup willie, the mascot for the 1966 competition, was the first world cup mascot.  world cups feature official match balls specially designed for each tournament. after slazenger produced the ball for the 1966 world cup adidas became the official supplier to fifa.  each world cup also has an official song, which have been performed by artists ranging from shakira to will smith.   other songs, such as nessun dorma, performed by the three tenors at four world cup concerts, have also become identified with the tournament.  forming a partnership with fifa in 1970, panini published its first sticker album for the 1970 world cup.  since then, collecting and trading stickers and cards has become part of the world cup experience, especially for the younger generation.  fifa has licensed world cup video games since 1986, sponsored by electronic arts. in all, 80 nations have played in at least one world cup.  of these, eight national teams have won the world cup, and they have added stars to their badges, with each star representing a world cup victory. uruguay, however, choose to display four stars on their badge, representing their two gold medals at the 1924 and 1928 summer olympics, which are recognised by fifa as world championships, and their two world cup titles in 1930 and 1950. with five titles, brazil are the most successful world cup team and also the only nation to have played in every world cup 22 to date.  brazil were also the first team to win the world cup for the third 1970, fourth 1994 and fifth 2002 time. italy 1934 and 1938 and brazil 1958 and 1962 are the only nations to have won consecutive titles. west germany 19821990 and brazil 19942002 are the only nations to appear in three consecutive world cup finals. germany has made the most topfour finishes 13, medals 12, as well as the most finals 8. to date, the final of the world cup has only been contested by teams from the uefa europe and conmebol south america confederations. european nations have won twelve titles, while south american nations have won ten. only three teams from outside these two continents have ever reached the semifinals of the competition: united states north, central america and caribbean in 1930; south korea asia in 2002; and morocco africa in 2022. only one oceanian qualifier, australia in 2006, has advanced to the second round, a feat they later reaccomplished in 2022.[a] brazil, argentina, spain and germany are the only teams to win a world cup hosted outside their continental confederation; brazil came out victorious in europe 1958, north america 1970 and 1994 and asia 2002. argentina won a world cup in north america in 1986 and in asia in 2022. spain won in africa in 2010. in 2014, germany became the first european team to win in the americas. only on five occasions have consecutive world cups been won by teams from the same continent; the longest streak of tournaments won by a single confederation is four, with the 2006, 2010, 2014, and 2018 tournaments all won by uefa teams italy, spain, germany, and france, respectively. five players share the record for playing in the most world cups; mexicos antonio carbajal 19501966 and rafael marquez 20022018; germanys lothar matthaus 19821998; argentinas lionel messi 20062022; and portugals cristiano ronaldo 20062022 all played in five tournaments with ronaldo also being the first and only player to score in five tournaments.   messi has played the most world cup matches overall, with 26 appearances.  brazils djalma santos 19541962, west germanys franz beckenbauer 19661974, and germanys philipp lahm 20062014 are the only players to be named to three world cup allstar teams.  miroslav klose of germany 20022014 is the alltime top scorer at the world cup with 16 goals. he broke ronaldo of brazils record of 15 goals 19982006 during the 2014 semifinal match against brazil. west germanys gerd muller 19701974 is third, with 14 goals.  the fourthplaced goalscorer, frances just fontaine, holds the record for the most goals scored in a single world cup; all his 13 goals were scored in the 1958 tournament.  in november 2007, fifa announced that all members of world cupwinning squads between 1930 and 1974 were to be retroactively awarded winners\\' medals.  this made brazils pele the only player to have won three world cup winners\\' medals 1958, 1962, and 1970, although he did not play in the 1962 final due to injury,  with 20 other players who have won two winners\\' medals. seven players have collected all three types of world cup medals winners\\', runner ups\\', and thirdplace; five players were from west germanys squad of 19661974: franz beckenbauer, jurgen grabowski, horstdieter hottges, sepp maier, and wolfgang overath 19661974, italys franco baresi 1982, 1990, 1994 and the most recent has been miroslav klose of germany 20022014 with four consecutive medals.  brazils mario zagallo, west germanys franz beckenbauer and frances didier deschamps are the only people to date to win the world cup as both player and head coach. zagallo won in 1958 and 1962 as a player and in 1970 as head coach.  beckenbauer won in 1974 as captain and in 1990 as head coach,  and deschamps repeated the feat in 2018, after having won in 1998 as captain.  italys vittorio pozzo is the only head coach to ever win two world cups 1934 and 1938.  all world cupwinning head coaches were natives of the country they coached to victory.  among the national teams, germany and brazil have played the most world cup matches 109, germany appeared in the most finals 8, semifinals 13, and quarterfinals 16, while brazil has appeared in the most world cups 21, has the most wins 73 and has scored the most goals 229.   the two teams have played each other twice in the world cup, in the 2002 final and in the 2014 semifinal.  players in bold are still active. at the end of each world cup, awards are presented to the players and teams for accomplishments other than their final team positions in the tournament. '"
     },
     "execution_count": 64,
     "metadata": {},
     "output_type": "execute_result"
    }
   ],
   "source": [
    "preprocessed_text"
   ],
   "metadata": {
    "collapsed": false,
    "ExecuteTime": {
     "end_time": "2023-07-08T21:44:33.960911Z",
     "start_time": "2023-07-08T21:44:33.956372100Z"
    }
   }
  },
  {
   "cell_type": "code",
   "execution_count": 65,
   "outputs": [
    {
     "data": {
      "text/plain": "33149"
     },
     "execution_count": 65,
     "metadata": {},
     "output_type": "execute_result"
    }
   ],
   "source": [
    "len(preprocessed_text)"
   ],
   "metadata": {
    "collapsed": false,
    "ExecuteTime": {
     "end_time": "2023-07-08T21:44:33.964602100Z",
     "start_time": "2023-07-08T21:44:33.961910700Z"
    }
   }
  },
  {
   "cell_type": "code",
   "execution_count": 66,
   "outputs": [],
   "source": [
    "def divide_in_corpus_and_words(text:str) -> [[str], [str]]:\n",
    "    corpus = nltk.sent_tokenize(text)\n",
    "    words = nltk.word_tokenize(text)\n",
    "    return corpus, words"
   ],
   "metadata": {
    "collapsed": false,
    "ExecuteTime": {
     "end_time": "2023-07-08T21:44:34.027879200Z",
     "start_time": "2023-07-08T21:44:33.966603300Z"
    }
   }
  },
  {
   "cell_type": "code",
   "execution_count": 67,
   "outputs": [],
   "source": [
    "corpus, words = divide_in_corpus_and_words(preprocessed_text)"
   ],
   "metadata": {
    "collapsed": false,
    "ExecuteTime": {
     "end_time": "2023-07-08T21:44:34.032881900Z",
     "start_time": "2023-07-08T21:44:33.968812300Z"
    }
   }
  },
  {
   "cell_type": "code",
   "execution_count": 68,
   "outputs": [
    {
     "name": "stdout",
     "output_type": "stream",
     "text": [
      "Vocabulario: 6169\n"
     ]
    }
   ],
   "source": [
    "print(\"Vocabulario:\", len(words))"
   ],
   "metadata": {
    "collapsed": false,
    "ExecuteTime": {
     "end_time": "2023-07-08T21:44:34.033881700Z",
     "start_time": "2023-07-08T21:44:33.993961200Z"
    }
   }
  },
  {
   "cell_type": "code",
   "execution_count": 69,
   "outputs": [],
   "source": [
    "lemmatizer = WordNetLemmatizer()"
   ],
   "metadata": {
    "collapsed": false,
    "ExecuteTime": {
     "end_time": "2023-07-08T21:44:34.033881700Z",
     "start_time": "2023-07-08T21:44:33.996474500Z"
    }
   }
  },
  {
   "cell_type": "code",
   "execution_count": 70,
   "outputs": [],
   "source": [
    "def perform_lemmatization(tokens):\n",
    "    return [lemmatizer.lemmatize(token) for token in tokens]\n",
    "\n",
    "punctuation_removal = dict((ord(punctuation), None) for punctuation in string.punctuation)\n",
    "\n",
    "def get_processed_text(document):\n",
    "    return perform_lemmatization(nltk.word_tokenize(document.lower().translate(punctuation_removal)))"
   ],
   "metadata": {
    "collapsed": false,
    "ExecuteTime": {
     "end_time": "2023-07-08T21:44:34.033881700Z",
     "start_time": "2023-07-08T21:44:34.000839900Z"
    }
   }
  },
  {
   "cell_type": "code",
   "execution_count": 71,
   "outputs": [],
   "source": [
    "def generate_response(user_input, corpus):\n",
    "    response = ''\n",
    "    corpus.append(user_input)\n",
    "    word_vectorizer = TfidfVectorizer(tokenizer=get_processed_text, stop_words='english')\n",
    "\n",
    "    all_word_vectors = word_vectorizer.fit_transform(corpus)\n",
    "\n",
    "    similar_vector_values = cosine_similarity(all_word_vectors[-1], all_word_vectors)\n",
    "\n",
    "    similar_sentence_number = similar_vector_values.argsort()[0][-2]\n",
    "    matched_vector = similar_vector_values.flatten()\n",
    "    matched_vector.sort()\n",
    "    vector_matched = matched_vector[-2]\n",
    "\n",
    "    if vector_matched == 0:\n",
    "        response = \"I am sorry, I could not understand you\"\n",
    "    else:\n",
    "        response = corpus[similar_sentence_number]\n",
    "\n",
    "    corpus.remove(user_input)\n",
    "    return response"
   ],
   "metadata": {
    "collapsed": false,
    "ExecuteTime": {
     "end_time": "2023-07-08T21:44:34.033881700Z",
     "start_time": "2023-07-08T21:44:34.003663400Z"
    }
   }
  },
  {
   "cell_type": "code",
   "execution_count": 72,
   "outputs": [
    {
     "name": "stderr",
     "output_type": "stream",
     "text": [
      "C:\\Users\\Usuario\\AppData\\Local\\Temp\\ipykernel_15084\\1868409074.py:7: GradioDeprecationWarning: `layout` parameter is deprecated, and it has no effect\n",
      "  iface = gr.Interface(\n"
     ]
    },
    {
     "name": "stdout",
     "output_type": "stream",
     "text": [
      "Running on local URL:  http://127.0.0.1:7860\n",
      "\n",
      "To create a public link, set `share=True` in `launch()`.\n"
     ]
    },
    {
     "data": {
      "text/plain": "<IPython.core.display.HTML object>",
      "text/html": "<div><iframe src=\"http://127.0.0.1:7860/\" width=\"100%\" height=\"500\" allow=\"autoplay; camera; microphone; clipboard-read; clipboard-write;\" frameborder=\"0\" allowfullscreen></iframe></div>"
     },
     "metadata": {},
     "output_type": "display_data"
    },
    {
     "name": "stdout",
     "output_type": "stream",
     "text": [
      "Q: champion 2002\n",
      "A: brazil, winners in 2002, were the first defending champions to play qualifying matches.\n"
     ]
    },
    {
     "name": "stderr",
     "output_type": "stream",
     "text": [
      "C:\\Users\\Usuario\\Desktop\\Posgrado\\Proyectos\\NLP\\venv\\Lib\\site-packages\\sklearn\\feature_extraction\\text.py:525: UserWarning: The parameter 'token_pattern' will not be used since 'tokenizer' is not None'\n",
      "  warnings.warn(\n",
      "C:\\Users\\Usuario\\Desktop\\Posgrado\\Proyectos\\NLP\\venv\\Lib\\site-packages\\sklearn\\feature_extraction\\text.py:408: UserWarning: Your stop_words may be inconsistent with your preprocessing. Tokenizing the stop words generated tokens ['ha', 'le', 'u', 'wa'] not in stop_words.\n",
      "  warnings.warn(\n"
     ]
    },
    {
     "name": "stdout",
     "output_type": "stream",
     "text": [
      "Q: tennis\n",
      "A: I am sorry, I could not understand you\n",
      "Q: maradona\n",
      "A: I am sorry, I could not understand you\n",
      "Q: argentina\n",
      "A: both argentina and uruguay thus boycotted the 1938 fifa world cup.\n",
      "Q: 2022\n",
      "A: the reigning champions are argentina, who won their third title at the 2022 tournament.\n",
      "Q: 2018\n",
      "A: the same day, fifa postponed the bidding process for the 2026 fifa world cup in light of the allegations surrounding bribery in the awarding of the 2018 and 2022 tournaments.\n",
      "Q: 1986\n",
      "A: fifa has licensed world cup video games since 1986, sponsored by electronic arts.\n",
      "Q: mexico 1986\n",
      "A: the 2026 tournament will be jointly hosted by canada, the united states and mexico, which will give mexico the distinction of being the first country to host games in three world cups.\n",
      "Q: south africa\n",
      "A: so far, south africa 2010 and qatar 2022 failed to advance beyond the first round.\n",
      "Q: country with most trophies\n",
      "A: after 1970, a new trophy, known as the fifa world cup trophy, was designed.\n",
      "Q: most winner\n",
      "A: since 2006, winners of the competition are also awarded the right to wear the fifa champions badge, up until the time at which the winner of the next competition is decided.\n",
      "Q: most matches\n",
      "A: the worlds first international football match was a challenge match played in glasgow in 1872 between scotland and england.\n",
      "Q: first final\n",
      "A: germany has made the most topfour finishes 13, medals 12, as well as the most finals 8. to date, the final of the world cup has only been contested by teams from the uefa europe and conmebol south america confederations.\n",
      "Q: goal scorer leader\n",
      "A: miroslav klose of germany 20022014 is the alltime top scorer at the world cup with 16 goals.\n",
      "Keyboard interruption in main thread... closing server.\n"
     ]
    },
    {
     "data": {
      "text/plain": ""
     },
     "execution_count": 72,
     "metadata": {},
     "output_type": "execute_result"
    }
   ],
   "source": [
    "\n",
    "def bot_response(human_text):\n",
    "    print(\"Q:\", human_text)\n",
    "    resp = generate_response(human_text.lower(), corpus)\n",
    "    print(\"A:\", resp)\n",
    "    return resp\n",
    "\n",
    "iface = gr.Interface(\n",
    "    fn=bot_response,\n",
    "    inputs=[\"textbox\"],\n",
    "    outputs=\"text\",\n",
    "    layout=\"vertical\")\n",
    "\n",
    "iface.launch(debug=True)"
   ],
   "metadata": {
    "collapsed": false,
    "ExecuteTime": {
     "end_time": "2023-07-08T21:47:51.936171200Z",
     "start_time": "2023-07-08T21:44:34.007875500Z"
    }
   }
  },
  {
   "cell_type": "markdown",
   "source": [
    "Conclusiones"
   ],
   "metadata": {
    "collapsed": false
   }
  },
  {
   "cell_type": "markdown",
   "source": [
    "Las oraciones del corpus son demasiado largas y no son concretas, algunas desarrollan mas de un concepto. Al preguntarle por un pais, termina devolviendo la primer oracion donde lo encuentre. Asi y todo, se ven algunas respuestas correctas, como cuando se le pidio saber el maximo goleador, o quien fue el ganador en 2022.\n",
    "Habria que usar embeddings o algun otra tecnica para que entienda de alguna manera el significado de cada pais, y no solo haga un matcheo de string a string."
   ],
   "metadata": {
    "collapsed": false
   }
  }
 ],
 "metadata": {
  "kernelspec": {
   "display_name": "Python 3",
   "language": "python",
   "name": "python3"
  },
  "language_info": {
   "codemirror_mode": {
    "name": "ipython",
    "version": 2
   },
   "file_extension": ".py",
   "mimetype": "text/x-python",
   "name": "python",
   "nbconvert_exporter": "python",
   "pygments_lexer": "ipython2",
   "version": "2.7.6"
  }
 },
 "nbformat": 4,
 "nbformat_minor": 0
}
